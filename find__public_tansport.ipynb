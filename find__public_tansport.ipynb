{
  "nbformat": 4,
  "nbformat_minor": 0,
  "metadata": {
    "colab": {
      "name": "find._public_tansport.ipynb",
      "provenance": [],
      "authorship_tag": "ABX9TyPPDykPeAW+h5I8p+IEUZh9",
      "include_colab_link": true
    },
    "kernelspec": {
      "name": "python3",
      "display_name": "Python 3"
    }
  },
  "cells": [
    {
      "cell_type": "markdown",
      "metadata": {
        "id": "view-in-github",
        "colab_type": "text"
      },
      "source": [
        "<a href=\"https://colab.research.google.com/github/lumpenop/miniProject_masl/blob/main/find__public_tansport.ipynb\" target=\"_parent\"><img src=\"https://colab.research.google.com/assets/colab-badge.svg\" alt=\"Open In Colab\"/></a>"
      ]
    },
    {
      "cell_type": "code",
      "metadata": {
        "colab": {
          "base_uri": "https://localhost:8080/"
        },
        "id": "OT1ZybeLA7Gj",
        "outputId": "9be7c30f-7d93-4a6a-97d1-0345359eadb2"
      },
      "source": [
        "!pip install haversine"
      ],
      "execution_count": 1,
      "outputs": [
        {
          "output_type": "stream",
          "text": [
            "Collecting haversine\n",
            "  Downloading https://files.pythonhosted.org/packages/f4/52/a13286844780c7b1740edbbee8a8f0524e2a6d51c068b59dda39a6a119f5/haversine-2.3.0-py2.py3-none-any.whl\n",
            "Installing collected packages: haversine\n",
            "Successfully installed haversine-2.3.0\n"
          ],
          "name": "stdout"
        }
      ]
    },
    {
      "cell_type": "code",
      "metadata": {
        "colab": {
          "base_uri": "https://localhost:8080/"
        },
        "id": "Wip3ZDBAKTw9",
        "outputId": "1a4efac7-5153-4ebc-f251-89e445d700fa"
      },
      "source": [
        "from google.colab import drive\r\n",
        "drive.mount('/content/drive')"
      ],
      "execution_count": 3,
      "outputs": [
        {
          "output_type": "stream",
          "text": [
            "Mounted at /content/drive\n"
          ],
          "name": "stdout"
        }
      ]
    },
    {
      "cell_type": "code",
      "metadata": {
        "id": "598p8tknH2Vw"
      },
      "source": [
        "from haversine import haversine ## 좌표로 거리 구하기 300m"
      ],
      "execution_count": 32,
      "outputs": []
    },
    {
      "cell_type": "code",
      "metadata": {
        "colab": {
          "base_uri": "https://localhost:8080/"
        },
        "id": "femp-Lv6H5xi",
        "outputId": "4809d66f-d9d0-4aaf-c1da-4ced7b509880"
      },
      "source": [
        "haversine((127.0016985,37.5642135), (127.0016985,37.5686963), unit = 'km') "
      ],
      "execution_count": 33,
      "outputs": [
        {
          "output_type": "execute_result",
          "data": {
            "text/plain": [
              "0.29999571050047735"
            ]
          },
          "metadata": {
            "tags": []
          },
          "execution_count": 33
        }
      ]
    },
    {
      "cell_type": "code",
      "metadata": {
        "id": "hTAXVyfuM4pr"
      },
      "source": [
        "xx = 0.0044966\r\n",
        "yy = 0.0074714"
      ],
      "execution_count": 34,
      "outputs": []
    },
    {
      "cell_type": "code",
      "metadata": {
        "id": "kVD9kpirJRCt"
      },
      "source": [
        "def square(x,y):\r\n",
        "  s_list = []\r\n",
        "  xx = 0.0044966\r\n",
        "  yy = 0.0074714\r\n",
        "  s_list.append([x-xx,y])\r\n",
        "  s_list.append([x+xx,y])\r\n",
        "  s_list.append([x,y-yy])\r\n",
        "  s_list.append([x,y+yy])\r\n",
        "  return s_list"
      ],
      "execution_count": 35,
      "outputs": []
    },
    {
      "cell_type": "code",
      "metadata": {
        "colab": {
          "base_uri": "https://localhost:8080/"
        },
        "id": "20LbA1oIN2u8",
        "outputId": "60d2ff2e-d9dd-4ffa-b818-ef5c8f76ec70"
      },
      "source": [
        "square(127.0016985,37.5642135)"
      ],
      "execution_count": 36,
      "outputs": [
        {
          "output_type": "execute_result",
          "data": {
            "text/plain": [
              "[[126.99720190000001, 37.5642135],\n",
              " [127.0061951, 37.5642135],\n",
              " [127.0016985, 37.5567421],\n",
              " [127.0016985, 37.5716849]]"
            ]
          },
          "metadata": {
            "tags": []
          },
          "execution_count": 36
        }
      ]
    },
    {
      "cell_type": "code",
      "metadata": {
        "id": "I_CaDn0UxdeR"
      },
      "source": [
        "import pandas as pd\r\n",
        "df = pd.read_csv('/content/drive/My Drive/elice_miniProject/metro_station_seoul.csv', encoding=\"cp949\")"
      ],
      "execution_count": 37,
      "outputs": []
    },
    {
      "cell_type": "code",
      "metadata": {
        "colab": {
          "base_uri": "https://localhost:8080/",
          "height": 404
        },
        "id": "_XhLXcW6xhge",
        "outputId": "535bbb95-d6e1-43d3-b350-048f58929746"
      },
      "source": [
        "df"
      ],
      "execution_count": 38,
      "outputs": [
        {
          "output_type": "execute_result",
          "data": {
            "text/html": [
              "<div>\n",
              "<style scoped>\n",
              "    .dataframe tbody tr th:only-of-type {\n",
              "        vertical-align: middle;\n",
              "    }\n",
              "\n",
              "    .dataframe tbody tr th {\n",
              "        vertical-align: top;\n",
              "    }\n",
              "\n",
              "    .dataframe thead th {\n",
              "        text-align: right;\n",
              "    }\n",
              "</style>\n",
              "<table border=\"1\" class=\"dataframe\">\n",
              "  <thead>\n",
              "    <tr style=\"text-align: right;\">\n",
              "      <th></th>\n",
              "      <th>Unnamed: 0</th>\n",
              "      <th>metro_station_name</th>\n",
              "      <th>metro_station_addr</th>\n",
              "      <th>metro_geo_lat</th>\n",
              "      <th>metro_geo_lng</th>\n",
              "    </tr>\n",
              "  </thead>\n",
              "  <tbody>\n",
              "    <tr>\n",
              "      <th>0</th>\n",
              "      <td>0</td>\n",
              "      <td>강남역 2호선</td>\n",
              "      <td>서울 강남구 강남대로 지하 396</td>\n",
              "      <td>37.498165</td>\n",
              "      <td>127.028308</td>\n",
              "    </tr>\n",
              "    <tr>\n",
              "      <th>1</th>\n",
              "      <td>1</td>\n",
              "      <td>서울대입구역 2호선</td>\n",
              "      <td>서울 관악구 남부순환로 지하 1822</td>\n",
              "      <td>37.481153</td>\n",
              "      <td>126.952645</td>\n",
              "    </tr>\n",
              "    <tr>\n",
              "      <th>2</th>\n",
              "      <td>2</td>\n",
              "      <td>합정역 2호선</td>\n",
              "      <td>서울 마포구 양화로 지하 55</td>\n",
              "      <td>37.550115</td>\n",
              "      <td>126.914638</td>\n",
              "    </tr>\n",
              "    <tr>\n",
              "      <th>3</th>\n",
              "      <td>3</td>\n",
              "      <td>왕십리역 2호선</td>\n",
              "      <td>서울 성동구 왕십리로 지하 300</td>\n",
              "      <td>37.561222</td>\n",
              "      <td>127.036655</td>\n",
              "    </tr>\n",
              "    <tr>\n",
              "      <th>4</th>\n",
              "      <td>4</td>\n",
              "      <td>당산역 2호선</td>\n",
              "      <td>서울 영등포구 당산로 229</td>\n",
              "      <td>37.534957</td>\n",
              "      <td>126.902731</td>\n",
              "    </tr>\n",
              "    <tr>\n",
              "      <th>...</th>\n",
              "      <td>...</td>\n",
              "      <td>...</td>\n",
              "      <td>...</td>\n",
              "      <td>...</td>\n",
              "      <td>...</td>\n",
              "    </tr>\n",
              "    <tr>\n",
              "      <th>439</th>\n",
              "      <td>439</td>\n",
              "      <td>신당역 6호선</td>\n",
              "      <td>서울 중구 다산로 지하 260</td>\n",
              "      <td>37.566274</td>\n",
              "      <td>127.016154</td>\n",
              "    </tr>\n",
              "    <tr>\n",
              "      <th>440</th>\n",
              "      <td>440</td>\n",
              "      <td>상봉역 경춘선</td>\n",
              "      <td>서울 중랑구 망우로 297</td>\n",
              "      <td>37.596714</td>\n",
              "      <td>127.085437</td>\n",
              "    </tr>\n",
              "    <tr>\n",
              "      <th>441</th>\n",
              "      <td>441</td>\n",
              "      <td>강남구청역 수인분당선</td>\n",
              "      <td>서울 강남구 학동로 지하 346</td>\n",
              "      <td>37.517189</td>\n",
              "      <td>127.041301</td>\n",
              "    </tr>\n",
              "    <tr>\n",
              "      <th>442</th>\n",
              "      <td>442</td>\n",
              "      <td>신설동역 2호선</td>\n",
              "      <td>서울 동대문구 왕산로 지하 1</td>\n",
              "      <td>37.575319</td>\n",
              "      <td>127.024702</td>\n",
              "    </tr>\n",
              "    <tr>\n",
              "      <th>443</th>\n",
              "      <td>443</td>\n",
              "      <td>솔밭공원역 우이신설선</td>\n",
              "      <td>서울 강북구 삼양로 595</td>\n",
              "      <td>37.656155</td>\n",
              "      <td>127.013092</td>\n",
              "    </tr>\n",
              "  </tbody>\n",
              "</table>\n",
              "<p>444 rows × 5 columns</p>\n",
              "</div>"
            ],
            "text/plain": [
              "     Unnamed: 0 metro_station_name  ... metro_geo_lat  metro_geo_lng\n",
              "0             0            강남역 2호선  ...     37.498165     127.028308\n",
              "1             1         서울대입구역 2호선  ...     37.481153     126.952645\n",
              "2             2            합정역 2호선  ...     37.550115     126.914638\n",
              "3             3           왕십리역 2호선  ...     37.561222     127.036655\n",
              "4             4            당산역 2호선  ...     37.534957     126.902731\n",
              "..          ...                ...  ...           ...            ...\n",
              "439         439            신당역 6호선  ...     37.566274     127.016154\n",
              "440         440            상봉역 경춘선  ...     37.596714     127.085437\n",
              "441         441        강남구청역 수인분당선  ...     37.517189     127.041301\n",
              "442         442           신설동역 2호선  ...     37.575319     127.024702\n",
              "443         443        솔밭공원역 우이신설선  ...     37.656155     127.013092\n",
              "\n",
              "[444 rows x 5 columns]"
            ]
          },
          "metadata": {
            "tags": []
          },
          "execution_count": 38
        }
      ]
    },
    {
      "cell_type": "code",
      "metadata": {
        "id": "dnpzjn-Mx0x3"
      },
      "source": [
        "del df['Unnamed: 0']"
      ],
      "execution_count": 39,
      "outputs": []
    },
    {
      "cell_type": "code",
      "metadata": {
        "id": "1kc3LJwiyas_"
      },
      "source": [
        "df['station_num'] = ''"
      ],
      "execution_count": 40,
      "outputs": []
    },
    {
      "cell_type": "code",
      "metadata": {
        "colab": {
          "base_uri": "https://localhost:8080/"
        },
        "id": "7konOQ57yS4k",
        "outputId": "7757743c-eeb3-4cf9-e1d0-c98fc38b4d7c"
      },
      "source": [
        "de = []\r\n",
        "for i in range(len(df['metro_station_name'])):\r\n",
        "  try:\r\n",
        "    df['station_num'][i]=df['metro_station_name'][i].split()[1]\r\n",
        "    df['metro_station_name'][i]=df['metro_station_name'][i].split()[0]\r\n",
        "  except:\r\n",
        "    de.append(i)"
      ],
      "execution_count": 41,
      "outputs": [
        {
          "output_type": "stream",
          "text": [
            "/usr/local/lib/python3.6/dist-packages/ipykernel_launcher.py:4: SettingWithCopyWarning: \n",
            "A value is trying to be set on a copy of a slice from a DataFrame\n",
            "\n",
            "See the caveats in the documentation: https://pandas.pydata.org/pandas-docs/stable/user_guide/indexing.html#returning-a-view-versus-a-copy\n",
            "  after removing the cwd from sys.path.\n",
            "/usr/local/lib/python3.6/dist-packages/ipykernel_launcher.py:5: SettingWithCopyWarning: \n",
            "A value is trying to be set on a copy of a slice from a DataFrame\n",
            "\n",
            "See the caveats in the documentation: https://pandas.pydata.org/pandas-docs/stable/user_guide/indexing.html#returning-a-view-versus-a-copy\n",
            "  \"\"\"\n"
          ],
          "name": "stderr"
        }
      ]
    },
    {
      "cell_type": "code",
      "metadata": {
        "colab": {
          "base_uri": "https://localhost:8080/"
        },
        "id": "g1A-PdbyzXyd",
        "outputId": "d0a166b1-f7c0-4690-89f2-7609d819aa19"
      },
      "source": [
        "print(de)"
      ],
      "execution_count": 42,
      "outputs": [
        {
          "output_type": "stream",
          "text": [
            "[254, 320, 354, 392, 426]\n"
          ],
          "name": "stdout"
        }
      ]
    },
    {
      "cell_type": "code",
      "metadata": {
        "colab": {
          "base_uri": "https://localhost:8080/"
        },
        "id": "-EiYvWG80fTu",
        "outputId": "addb932a-4564-43cf-ddcd-5dad160f1d83"
      },
      "source": [
        "de.sort(reverse=True)\r\n",
        "de"
      ],
      "execution_count": 43,
      "outputs": [
        {
          "output_type": "execute_result",
          "data": {
            "text/plain": [
              "[426, 392, 354, 320, 254]"
            ]
          },
          "metadata": {
            "tags": []
          },
          "execution_count": 43
        }
      ]
    },
    {
      "cell_type": "code",
      "metadata": {
        "id": "A2wKuUO3zsSC"
      },
      "source": [
        "for i in range(len(de)):\r\n",
        "  df.drop(df.index[i],inplace=True)"
      ],
      "execution_count": 44,
      "outputs": []
    },
    {
      "cell_type": "code",
      "metadata": {
        "colab": {
          "base_uri": "https://localhost:8080/",
          "height": 404
        },
        "id": "9ve_34_4zyg5",
        "outputId": "6cb0c92b-a308-4cdd-9b04-b8227a04e447"
      },
      "source": [
        "df"
      ],
      "execution_count": 45,
      "outputs": [
        {
          "output_type": "execute_result",
          "data": {
            "text/html": [
              "<div>\n",
              "<style scoped>\n",
              "    .dataframe tbody tr th:only-of-type {\n",
              "        vertical-align: middle;\n",
              "    }\n",
              "\n",
              "    .dataframe tbody tr th {\n",
              "        vertical-align: top;\n",
              "    }\n",
              "\n",
              "    .dataframe thead th {\n",
              "        text-align: right;\n",
              "    }\n",
              "</style>\n",
              "<table border=\"1\" class=\"dataframe\">\n",
              "  <thead>\n",
              "    <tr style=\"text-align: right;\">\n",
              "      <th></th>\n",
              "      <th>metro_station_name</th>\n",
              "      <th>metro_station_addr</th>\n",
              "      <th>metro_geo_lat</th>\n",
              "      <th>metro_geo_lng</th>\n",
              "      <th>station_num</th>\n",
              "    </tr>\n",
              "  </thead>\n",
              "  <tbody>\n",
              "    <tr>\n",
              "      <th>1</th>\n",
              "      <td>서울대입구역</td>\n",
              "      <td>서울 관악구 남부순환로 지하 1822</td>\n",
              "      <td>37.481153</td>\n",
              "      <td>126.952645</td>\n",
              "      <td>2호선</td>\n",
              "    </tr>\n",
              "    <tr>\n",
              "      <th>3</th>\n",
              "      <td>왕십리역</td>\n",
              "      <td>서울 성동구 왕십리로 지하 300</td>\n",
              "      <td>37.561222</td>\n",
              "      <td>127.036655</td>\n",
              "      <td>2호선</td>\n",
              "    </tr>\n",
              "    <tr>\n",
              "      <th>5</th>\n",
              "      <td>신촌역</td>\n",
              "      <td>서울 마포구 신촌로 지하 90</td>\n",
              "      <td>37.555442</td>\n",
              "      <td>126.936119</td>\n",
              "      <td>2호선</td>\n",
              "    </tr>\n",
              "    <tr>\n",
              "      <th>7</th>\n",
              "      <td>신림역</td>\n",
              "      <td>서울 관악구 남부순환로 지하 1614</td>\n",
              "      <td>37.484218</td>\n",
              "      <td>126.929803</td>\n",
              "      <td>2호선</td>\n",
              "    </tr>\n",
              "    <tr>\n",
              "      <th>9</th>\n",
              "      <td>교대역</td>\n",
              "      <td>서울 서초구 서초대로 지하 294</td>\n",
              "      <td>37.493577</td>\n",
              "      <td>127.014156</td>\n",
              "      <td>3호선</td>\n",
              "    </tr>\n",
              "    <tr>\n",
              "      <th>...</th>\n",
              "      <td>...</td>\n",
              "      <td>...</td>\n",
              "      <td>...</td>\n",
              "      <td>...</td>\n",
              "      <td>...</td>\n",
              "    </tr>\n",
              "    <tr>\n",
              "      <th>439</th>\n",
              "      <td>신당역</td>\n",
              "      <td>서울 중구 다산로 지하 260</td>\n",
              "      <td>37.566274</td>\n",
              "      <td>127.016154</td>\n",
              "      <td>6호선</td>\n",
              "    </tr>\n",
              "    <tr>\n",
              "      <th>440</th>\n",
              "      <td>상봉역</td>\n",
              "      <td>서울 중랑구 망우로 297</td>\n",
              "      <td>37.596714</td>\n",
              "      <td>127.085437</td>\n",
              "      <td>경춘선</td>\n",
              "    </tr>\n",
              "    <tr>\n",
              "      <th>441</th>\n",
              "      <td>강남구청역</td>\n",
              "      <td>서울 강남구 학동로 지하 346</td>\n",
              "      <td>37.517189</td>\n",
              "      <td>127.041301</td>\n",
              "      <td>수인분당선</td>\n",
              "    </tr>\n",
              "    <tr>\n",
              "      <th>442</th>\n",
              "      <td>신설동역</td>\n",
              "      <td>서울 동대문구 왕산로 지하 1</td>\n",
              "      <td>37.575319</td>\n",
              "      <td>127.024702</td>\n",
              "      <td>2호선</td>\n",
              "    </tr>\n",
              "    <tr>\n",
              "      <th>443</th>\n",
              "      <td>솔밭공원역</td>\n",
              "      <td>서울 강북구 삼양로 595</td>\n",
              "      <td>37.656155</td>\n",
              "      <td>127.013092</td>\n",
              "      <td>우이신설선</td>\n",
              "    </tr>\n",
              "  </tbody>\n",
              "</table>\n",
              "<p>439 rows × 5 columns</p>\n",
              "</div>"
            ],
            "text/plain": [
              "    metro_station_name    metro_station_addr  ...  metro_geo_lng  station_num\n",
              "1               서울대입구역  서울 관악구 남부순환로 지하 1822  ...     126.952645          2호선\n",
              "3                 왕십리역    서울 성동구 왕십리로 지하 300  ...     127.036655          2호선\n",
              "5                  신촌역      서울 마포구 신촌로 지하 90  ...     126.936119          2호선\n",
              "7                  신림역  서울 관악구 남부순환로 지하 1614  ...     126.929803          2호선\n",
              "9                  교대역    서울 서초구 서초대로 지하 294  ...     127.014156          3호선\n",
              "..                 ...                   ...  ...            ...          ...\n",
              "439                신당역      서울 중구 다산로 지하 260  ...     127.016154          6호선\n",
              "440                상봉역        서울 중랑구 망우로 297  ...     127.085437          경춘선\n",
              "441              강남구청역     서울 강남구 학동로 지하 346  ...     127.041301        수인분당선\n",
              "442               신설동역      서울 동대문구 왕산로 지하 1  ...     127.024702          2호선\n",
              "443              솔밭공원역        서울 강북구 삼양로 595  ...     127.013092        우이신설선\n",
              "\n",
              "[439 rows x 5 columns]"
            ]
          },
          "metadata": {
            "tags": []
          },
          "execution_count": 45
        }
      ]
    },
    {
      "cell_type": "code",
      "metadata": {
        "colab": {
          "base_uri": "https://localhost:8080/",
          "height": 404
        },
        "id": "hutnEBqRIfiS",
        "outputId": "6c449055-614b-4517-83e1-374b17a109da"
      },
      "source": [
        "df = df.sort_values(by=[\"metro_geo_lng\", \"metro_geo_lat\"], ascending=[True, True]) \r\n",
        "df"
      ],
      "execution_count": 65,
      "outputs": [
        {
          "output_type": "execute_result",
          "data": {
            "text/html": [
              "<div>\n",
              "<style scoped>\n",
              "    .dataframe tbody tr th:only-of-type {\n",
              "        vertical-align: middle;\n",
              "    }\n",
              "\n",
              "    .dataframe tbody tr th {\n",
              "        vertical-align: top;\n",
              "    }\n",
              "\n",
              "    .dataframe thead th {\n",
              "        text-align: right;\n",
              "    }\n",
              "</style>\n",
              "<table border=\"1\" class=\"dataframe\">\n",
              "  <thead>\n",
              "    <tr style=\"text-align: right;\">\n",
              "      <th></th>\n",
              "      <th>metro_station_name</th>\n",
              "      <th>metro_station_addr</th>\n",
              "      <th>metro_geo_lat</th>\n",
              "      <th>metro_geo_lng</th>\n",
              "      <th>station_num</th>\n",
              "    </tr>\n",
              "  </thead>\n",
              "  <tbody>\n",
              "    <tr>\n",
              "      <th>345</th>\n",
              "      <td>개화역</td>\n",
              "      <td>서울 강서구 개화동로8길 19</td>\n",
              "      <td>37.577886</td>\n",
              "      <td>126.798211</td>\n",
              "      <td>9호선</td>\n",
              "    </tr>\n",
              "    <tr>\n",
              "      <th>276</th>\n",
              "      <td>김포공항역</td>\n",
              "      <td>서울 강서구 하늘길 지하 77</td>\n",
              "      <td>37.562144</td>\n",
              "      <td>126.801570</td>\n",
              "      <td>9호선</td>\n",
              "    </tr>\n",
              "    <tr>\n",
              "      <th>277</th>\n",
              "      <td>김포공항역</td>\n",
              "      <td>서울 강서구 하늘길 지하 77</td>\n",
              "      <td>37.562144</td>\n",
              "      <td>126.801570</td>\n",
              "      <td>공항철도</td>\n",
              "    </tr>\n",
              "    <tr>\n",
              "      <th>278</th>\n",
              "      <td>김포공항역</td>\n",
              "      <td>서울 강서구 하늘길 지하 77</td>\n",
              "      <td>37.562144</td>\n",
              "      <td>126.801570</td>\n",
              "      <td>5호선</td>\n",
              "    </tr>\n",
              "    <tr>\n",
              "      <th>279</th>\n",
              "      <td>김포공항역</td>\n",
              "      <td>서울 강서구 하늘길 지하 77</td>\n",
              "      <td>37.562144</td>\n",
              "      <td>126.801570</td>\n",
              "      <td>공항철도</td>\n",
              "    </tr>\n",
              "    <tr>\n",
              "      <th>...</th>\n",
              "      <td>...</td>\n",
              "      <td>...</td>\n",
              "      <td>...</td>\n",
              "      <td>...</td>\n",
              "      <td>...</td>\n",
              "    </tr>\n",
              "    <tr>\n",
              "      <th>235</th>\n",
              "      <td>고덕역</td>\n",
              "      <td>서울 강동구 고덕로 지하 253</td>\n",
              "      <td>37.555047</td>\n",
              "      <td>127.153949</td>\n",
              "      <td>5호선</td>\n",
              "    </tr>\n",
              "    <tr>\n",
              "      <th>314</th>\n",
              "      <td>고덕지하철차량기지</td>\n",
              "      <td>서울 강동구 고덕동 10-4</td>\n",
              "      <td>37.570207</td>\n",
              "      <td>127.164366</td>\n",
              "      <td></td>\n",
              "    </tr>\n",
              "    <tr>\n",
              "      <th>315</th>\n",
              "      <td>고덕지하철차량기지</td>\n",
              "      <td>서울 강동구 고덕동 10-4</td>\n",
              "      <td>37.570207</td>\n",
              "      <td>127.164366</td>\n",
              "      <td></td>\n",
              "    </tr>\n",
              "    <tr>\n",
              "      <th>242</th>\n",
              "      <td>상일동역</td>\n",
              "      <td>서울 강동구 고덕로 지하 359</td>\n",
              "      <td>37.556664</td>\n",
              "      <td>127.165829</td>\n",
              "      <td>5호선</td>\n",
              "    </tr>\n",
              "    <tr>\n",
              "      <th>241</th>\n",
              "      <td>강일역(2021년3월예정)</td>\n",
              "      <td>서울 강동구 강일동 산 22-14</td>\n",
              "      <td>37.556073</td>\n",
              "      <td>127.176216</td>\n",
              "      <td></td>\n",
              "    </tr>\n",
              "  </tbody>\n",
              "</table>\n",
              "<p>439 rows × 5 columns</p>\n",
              "</div>"
            ],
            "text/plain": [
              "    metro_station_name  metro_station_addr  ...  metro_geo_lng  station_num\n",
              "345                개화역    서울 강서구 개화동로8길 19  ...     126.798211          9호선\n",
              "276              김포공항역    서울 강서구 하늘길 지하 77  ...     126.801570          9호선\n",
              "277              김포공항역    서울 강서구 하늘길 지하 77  ...     126.801570         공항철도\n",
              "278              김포공항역    서울 강서구 하늘길 지하 77  ...     126.801570          5호선\n",
              "279              김포공항역    서울 강서구 하늘길 지하 77  ...     126.801570         공항철도\n",
              "..                 ...                 ...  ...            ...          ...\n",
              "235                고덕역   서울 강동구 고덕로 지하 253  ...     127.153949          5호선\n",
              "314          고덕지하철차량기지     서울 강동구 고덕동 10-4  ...     127.164366             \n",
              "315          고덕지하철차량기지     서울 강동구 고덕동 10-4  ...     127.164366             \n",
              "242               상일동역   서울 강동구 고덕로 지하 359  ...     127.165829          5호선\n",
              "241     강일역(2021년3월예정)  서울 강동구 강일동 산 22-14  ...     127.176216             \n",
              "\n",
              "[439 rows x 5 columns]"
            ]
          },
          "metadata": {
            "tags": []
          },
          "execution_count": 65
        }
      ]
    },
    {
      "cell_type": "code",
      "metadata": {
        "colab": {
          "base_uri": "https://localhost:8080/",
          "height": 404
        },
        "id": "Ts7cCdjtO8c_",
        "outputId": "4364f22e-7745-4401-c69b-55b2c6142c1b"
      },
      "source": [
        "df.reset_index(drop=True, inplace=True)\r\n",
        "df"
      ],
      "execution_count": 66,
      "outputs": [
        {
          "output_type": "execute_result",
          "data": {
            "text/html": [
              "<div>\n",
              "<style scoped>\n",
              "    .dataframe tbody tr th:only-of-type {\n",
              "        vertical-align: middle;\n",
              "    }\n",
              "\n",
              "    .dataframe tbody tr th {\n",
              "        vertical-align: top;\n",
              "    }\n",
              "\n",
              "    .dataframe thead th {\n",
              "        text-align: right;\n",
              "    }\n",
              "</style>\n",
              "<table border=\"1\" class=\"dataframe\">\n",
              "  <thead>\n",
              "    <tr style=\"text-align: right;\">\n",
              "      <th></th>\n",
              "      <th>metro_station_name</th>\n",
              "      <th>metro_station_addr</th>\n",
              "      <th>metro_geo_lat</th>\n",
              "      <th>metro_geo_lng</th>\n",
              "      <th>station_num</th>\n",
              "    </tr>\n",
              "  </thead>\n",
              "  <tbody>\n",
              "    <tr>\n",
              "      <th>0</th>\n",
              "      <td>개화역</td>\n",
              "      <td>서울 강서구 개화동로8길 19</td>\n",
              "      <td>37.577886</td>\n",
              "      <td>126.798211</td>\n",
              "      <td>9호선</td>\n",
              "    </tr>\n",
              "    <tr>\n",
              "      <th>1</th>\n",
              "      <td>김포공항역</td>\n",
              "      <td>서울 강서구 하늘길 지하 77</td>\n",
              "      <td>37.562144</td>\n",
              "      <td>126.801570</td>\n",
              "      <td>9호선</td>\n",
              "    </tr>\n",
              "    <tr>\n",
              "      <th>2</th>\n",
              "      <td>김포공항역</td>\n",
              "      <td>서울 강서구 하늘길 지하 77</td>\n",
              "      <td>37.562144</td>\n",
              "      <td>126.801570</td>\n",
              "      <td>공항철도</td>\n",
              "    </tr>\n",
              "    <tr>\n",
              "      <th>3</th>\n",
              "      <td>김포공항역</td>\n",
              "      <td>서울 강서구 하늘길 지하 77</td>\n",
              "      <td>37.562144</td>\n",
              "      <td>126.801570</td>\n",
              "      <td>5호선</td>\n",
              "    </tr>\n",
              "    <tr>\n",
              "      <th>4</th>\n",
              "      <td>김포공항역</td>\n",
              "      <td>서울 강서구 하늘길 지하 77</td>\n",
              "      <td>37.562144</td>\n",
              "      <td>126.801570</td>\n",
              "      <td>공항철도</td>\n",
              "    </tr>\n",
              "    <tr>\n",
              "      <th>...</th>\n",
              "      <td>...</td>\n",
              "      <td>...</td>\n",
              "      <td>...</td>\n",
              "      <td>...</td>\n",
              "      <td>...</td>\n",
              "    </tr>\n",
              "    <tr>\n",
              "      <th>434</th>\n",
              "      <td>고덕역</td>\n",
              "      <td>서울 강동구 고덕로 지하 253</td>\n",
              "      <td>37.555047</td>\n",
              "      <td>127.153949</td>\n",
              "      <td>5호선</td>\n",
              "    </tr>\n",
              "    <tr>\n",
              "      <th>435</th>\n",
              "      <td>고덕지하철차량기지</td>\n",
              "      <td>서울 강동구 고덕동 10-4</td>\n",
              "      <td>37.570207</td>\n",
              "      <td>127.164366</td>\n",
              "      <td></td>\n",
              "    </tr>\n",
              "    <tr>\n",
              "      <th>436</th>\n",
              "      <td>고덕지하철차량기지</td>\n",
              "      <td>서울 강동구 고덕동 10-4</td>\n",
              "      <td>37.570207</td>\n",
              "      <td>127.164366</td>\n",
              "      <td></td>\n",
              "    </tr>\n",
              "    <tr>\n",
              "      <th>437</th>\n",
              "      <td>상일동역</td>\n",
              "      <td>서울 강동구 고덕로 지하 359</td>\n",
              "      <td>37.556664</td>\n",
              "      <td>127.165829</td>\n",
              "      <td>5호선</td>\n",
              "    </tr>\n",
              "    <tr>\n",
              "      <th>438</th>\n",
              "      <td>강일역(2021년3월예정)</td>\n",
              "      <td>서울 강동구 강일동 산 22-14</td>\n",
              "      <td>37.556073</td>\n",
              "      <td>127.176216</td>\n",
              "      <td></td>\n",
              "    </tr>\n",
              "  </tbody>\n",
              "</table>\n",
              "<p>439 rows × 5 columns</p>\n",
              "</div>"
            ],
            "text/plain": [
              "    metro_station_name  metro_station_addr  ...  metro_geo_lng  station_num\n",
              "0                  개화역    서울 강서구 개화동로8길 19  ...     126.798211          9호선\n",
              "1                김포공항역    서울 강서구 하늘길 지하 77  ...     126.801570          9호선\n",
              "2                김포공항역    서울 강서구 하늘길 지하 77  ...     126.801570         공항철도\n",
              "3                김포공항역    서울 강서구 하늘길 지하 77  ...     126.801570          5호선\n",
              "4                김포공항역    서울 강서구 하늘길 지하 77  ...     126.801570         공항철도\n",
              "..                 ...                 ...  ...            ...          ...\n",
              "434                고덕역   서울 강동구 고덕로 지하 253  ...     127.153949          5호선\n",
              "435          고덕지하철차량기지     서울 강동구 고덕동 10-4  ...     127.164366             \n",
              "436          고덕지하철차량기지     서울 강동구 고덕동 10-4  ...     127.164366             \n",
              "437               상일동역   서울 강동구 고덕로 지하 359  ...     127.165829          5호선\n",
              "438     강일역(2021년3월예정)  서울 강동구 강일동 산 22-14  ...     127.176216             \n",
              "\n",
              "[439 rows x 5 columns]"
            ]
          },
          "metadata": {
            "tags": []
          },
          "execution_count": 66
        }
      ]
    },
    {
      "cell_type": "code",
      "metadata": {
        "id": "vlYBHS5E0mx-"
      },
      "source": [
        "metro = {}\r\n",
        "\r\n",
        "for i in range(len(df['metro_station_name'])):\r\n",
        "  if df['station_num'][i] in metro:\r\n",
        "    a = {i:[df['metro_station_name'][i],(df['metro_geo_lng'][i],df['metro_geo_lat'][i])]}\r\n",
        "    metro[df['station_num'][i]].append(a)\r\n",
        "  else:\r\n",
        "    a = {i:[df['metro_station_name'][i],(df['metro_geo_lng'][i],df['metro_geo_lat'][i])]}\r\n",
        "    metro[df['station_num'][i]]=[a]\r\n"
      ],
      "execution_count": 89,
      "outputs": []
    },
    {
      "cell_type": "code",
      "metadata": {
        "colab": {
          "base_uri": "https://localhost:8080/"
        },
        "id": "oFQN5zEGObg3",
        "outputId": "d99ea717-06a5-4d72-c644-fa949869d1ab"
      },
      "source": [
        ""
      ],
      "execution_count": 94,
      "outputs": [
        {
          "output_type": "execute_result",
          "data": {
            "text/plain": [
              "['까치산역', (126.846611592059, 37.531956084774606)]"
            ]
          },
          "metadata": {
            "tags": []
          },
          "execution_count": 94
        }
      ]
    },
    {
      "cell_type": "code",
      "metadata": {
        "colab": {
          "base_uri": "https://localhost:8080/"
        },
        "id": "1Wn9FCtTUr0k",
        "outputId": "7ddaf937-a20d-4ea9-8ad1-b31149c88b10"
      },
      "source": [
        "a = square(metro['2호선'][0]['사당역'][0],metro['2호선'][0]['사당역'][1])\r\n",
        "a"
      ],
      "execution_count": 55,
      "outputs": [
        {
          "output_type": "execute_result",
          "data": {
            "text/plain": [
              "[[126.976912309449, 37.476522834761894],\n",
              " [126.985905509449, 37.476522834761894],\n",
              " [126.981408909449, 37.469051434761894],\n",
              " [126.981408909449, 37.483994234761894]]"
            ]
          },
          "metadata": {
            "tags": []
          },
          "execution_count": 55
        }
      ]
    },
    {
      "cell_type": "code",
      "metadata": {
        "colab": {
          "base_uri": "https://localhost:8080/"
        },
        "id": "_EXa6lbGXjOt",
        "outputId": "abd65215-1079-46c2-a6ae-8e8412dab482"
      },
      "source": [
        "a[0]"
      ],
      "execution_count": 56,
      "outputs": [
        {
          "output_type": "execute_result",
          "data": {
            "text/plain": [
              "[126.976912309449, 37.476522834761894]"
            ]
          },
          "metadata": {
            "tags": []
          },
          "execution_count": 56
        }
      ]
    },
    {
      "cell_type": "code",
      "metadata": {
        "id": "qndNyeTBVHUX"
      },
      "source": [
        "station = []\r\n",
        "for i in range(len(df['metro_station_name'])):\r\n",
        "  if df['metro_geo_lng'][i] >= a[0][0] and df['metro_geo_lng'][i] < a[1][0] and df['metro_geo_lat'][i] >= a[2][1] and df['metro_geo_lat'][i] < a[3][1]:\r\n",
        "    station.append(i)"
      ],
      "execution_count": 57,
      "outputs": []
    },
    {
      "cell_type": "code",
      "metadata": {
        "colab": {
          "base_uri": "https://localhost:8080/"
        },
        "id": "m37DQVZtX-qb",
        "outputId": "f5e616bd-4866-41b1-8d7a-621519d000d3"
      },
      "source": [
        "station"
      ],
      "execution_count": 58,
      "outputs": [
        {
          "output_type": "execute_result",
          "data": {
            "text/plain": [
              "[6, 7]"
            ]
          },
          "metadata": {
            "tags": []
          },
          "execution_count": 58
        }
      ]
    },
    {
      "cell_type": "code",
      "metadata": {
        "colab": {
          "base_uri": "https://localhost:8080/"
        },
        "id": "wZyjBfqhYAD9",
        "outputId": "42914fbf-73e3-40e9-cdcb-0fae9b2f400b"
      },
      "source": [
        "for i in station:\r\n",
        "  if haversine((df['metro_geo_lng'][i],df['metro_geo_lat'][i]), (metro['2호선'][0]['사당역'][0],metro['2호선'][0]['사당역'][1]), unit = 'km') <= 0.5:\r\n",
        "    print(i)\r\n"
      ],
      "execution_count": 59,
      "outputs": [
        {
          "output_type": "stream",
          "text": [
            "6\n",
            "7\n"
          ],
          "name": "stdout"
        }
      ]
    },
    {
      "cell_type": "code",
      "metadata": {
        "id": "1OgGs65Vakf1"
      },
      "source": [
        "def round500(x,y):\r\n",
        "  box = square(x,y)\r\n",
        "  station = []\r\n",
        "  left_x = box[0][0]\r\n",
        "  right_x = box[1][0]\r\n",
        "  low_y = box[2][1]\r\n",
        "  hight_y = box[3][1]\r\n",
        "  result = []\r\n",
        "  \r\n",
        "  for i in range(len(df['metro_station_name'])):\r\n",
        "    if df['metro_geo_lng'][i] >=  right_x:\r\n",
        "      break\r\n",
        "    if df['metro_geo_lng'][i] >= left_x and df['metro_geo_lng'][i] < right_x  and df['metro_geo_lat'][i] >= low_y and df['metro_geo_lat'][i] < hight_y:\r\n",
        "      station.append(i)\r\n",
        "  \r\n",
        "  for i in station:\r\n",
        "    if haversine((df['metro_geo_lng'][i],df['metro_geo_lat'][i]), (x, y), unit = 'km') <= 0.5:\r\n",
        "      result.append(i)\r\n",
        "  return result"
      ],
      "execution_count": 62,
      "outputs": []
    },
    {
      "cell_type": "code",
      "metadata": {
        "colab": {
          "base_uri": "https://localhost:8080/"
        },
        "id": "f6XOga7udJSr",
        "outputId": "5c3d4efb-d649-48f4-eef6-dddc66551987"
      },
      "source": [
        "round500(metro['2호선'][0]['사당역'][0],metro['2호선'][0]['사당역'][1])"
      ],
      "execution_count": 67,
      "outputs": [
        {
          "output_type": "execute_result",
          "data": {
            "text/plain": [
              "[161, 162]"
            ]
          },
          "metadata": {
            "tags": []
          },
          "execution_count": 67
        }
      ]
    },
    {
      "cell_type": "code",
      "metadata": {
        "colab": {
          "base_uri": "https://localhost:8080/",
          "height": 35
        },
        "id": "LkE5Bd2GdUIg",
        "outputId": "02f48cec-7f9b-4cdb-f947-7e30c7fc4474"
      },
      "source": [
        "df['metro_station_name'][161]"
      ],
      "execution_count": 71,
      "outputs": [
        {
          "output_type": "execute_result",
          "data": {
            "application/vnd.google.colaboratory.intrinsic+json": {
              "type": "string"
            },
            "text/plain": [
              "'사당역'"
            ]
          },
          "metadata": {
            "tags": []
          },
          "execution_count": 71
        }
      ]
    },
    {
      "cell_type": "code",
      "metadata": {
        "colab": {
          "base_uri": "https://localhost:8080/"
        },
        "id": "LcT6CwUGWhdD",
        "outputId": "3688905e-570d-4e45-86e6-72231c520795"
      },
      "source": [
        "metro[df['station_num'][161]][0].keys()"
      ],
      "execution_count": 87,
      "outputs": [
        {
          "output_type": "execute_result",
          "data": {
            "text/plain": [
              "dict_keys(['사당역'])"
            ]
          },
          "metadata": {
            "tags": []
          },
          "execution_count": 87
        }
      ]
    },
    {
      "cell_type": "code",
      "metadata": {
        "colab": {
          "base_uri": "https://localhost:8080/",
          "height": 185
        },
        "id": "liprfIa0XPhb",
        "outputId": "21238204-6b34-46ef-852b-8213815ca4ee"
      },
      "source": [
        "for i in range(len(metro[df['station_num'][161]])):\r\n",
        "  print(square(metro[df['station_num'][161]][i][0],metro[df['station_num'][161]][i][1]))"
      ],
      "execution_count": 80,
      "outputs": [
        {
          "output_type": "error",
          "ename": "KeyError",
          "evalue": "ignored",
          "traceback": [
            "\u001b[0;31m---------------------------------------------------------------------------\u001b[0m",
            "\u001b[0;31mKeyError\u001b[0m                                  Traceback (most recent call last)",
            "\u001b[0;32m<ipython-input-80-294ae36b9943>\u001b[0m in \u001b[0;36m<module>\u001b[0;34m()\u001b[0m\n\u001b[1;32m      1\u001b[0m \u001b[0;32mfor\u001b[0m \u001b[0mi\u001b[0m \u001b[0;32min\u001b[0m \u001b[0mrange\u001b[0m\u001b[0;34m(\u001b[0m\u001b[0mlen\u001b[0m\u001b[0;34m(\u001b[0m\u001b[0mmetro\u001b[0m\u001b[0;34m[\u001b[0m\u001b[0mdf\u001b[0m\u001b[0;34m[\u001b[0m\u001b[0;34m'station_num'\u001b[0m\u001b[0;34m]\u001b[0m\u001b[0;34m[\u001b[0m\u001b[0;36m161\u001b[0m\u001b[0;34m]\u001b[0m\u001b[0;34m]\u001b[0m\u001b[0;34m)\u001b[0m\u001b[0;34m)\u001b[0m\u001b[0;34m:\u001b[0m\u001b[0;34m\u001b[0m\u001b[0;34m\u001b[0m\u001b[0m\n\u001b[0;32m----> 2\u001b[0;31m   \u001b[0mprint\u001b[0m\u001b[0;34m(\u001b[0m\u001b[0msquare\u001b[0m\u001b[0;34m(\u001b[0m\u001b[0mmetro\u001b[0m\u001b[0;34m[\u001b[0m\u001b[0mdf\u001b[0m\u001b[0;34m[\u001b[0m\u001b[0;34m'station_num'\u001b[0m\u001b[0;34m]\u001b[0m\u001b[0;34m[\u001b[0m\u001b[0;36m161\u001b[0m\u001b[0;34m]\u001b[0m\u001b[0;34m]\u001b[0m\u001b[0;34m[\u001b[0m\u001b[0mi\u001b[0m\u001b[0;34m]\u001b[0m\u001b[0;34m[\u001b[0m\u001b[0;36m0\u001b[0m\u001b[0;34m]\u001b[0m\u001b[0;34m,\u001b[0m\u001b[0mmetro\u001b[0m\u001b[0;34m[\u001b[0m\u001b[0mdf\u001b[0m\u001b[0;34m[\u001b[0m\u001b[0;34m'station_num'\u001b[0m\u001b[0;34m]\u001b[0m\u001b[0;34m[\u001b[0m\u001b[0;36m161\u001b[0m\u001b[0;34m]\u001b[0m\u001b[0;34m]\u001b[0m\u001b[0;34m[\u001b[0m\u001b[0mi\u001b[0m\u001b[0;34m]\u001b[0m\u001b[0;34m[\u001b[0m\u001b[0;36m1\u001b[0m\u001b[0;34m]\u001b[0m\u001b[0;34m)\u001b[0m\u001b[0;34m)\u001b[0m\u001b[0;34m\u001b[0m\u001b[0;34m\u001b[0m\u001b[0m\n\u001b[0m",
            "\u001b[0;31mKeyError\u001b[0m: 0"
          ]
        }
      ]
    },
    {
      "cell_type": "code",
      "metadata": {
        "colab": {
          "base_uri": "https://localhost:8080/"
        },
        "id": "9qC5p0jeX6nz",
        "outputId": "4bcfc62e-605c-4b3b-9470-ebe3647c2c47"
      },
      "source": [
        "metro[df['station_num'][161]][i]"
      ],
      "execution_count": 84,
      "outputs": [
        {
          "output_type": "execute_result",
          "data": {
            "text/plain": [
              "{'사당역': (126.981408909449, 37.476522834761894)}"
            ]
          },
          "metadata": {
            "tags": []
          },
          "execution_count": 84
        }
      ]
    },
    {
      "cell_type": "code",
      "metadata": {
        "id": "wPuUdSTZX-yh"
      },
      "source": [
        ""
      ],
      "execution_count": null,
      "outputs": []
    }
  ]
}