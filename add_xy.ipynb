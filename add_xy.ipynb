{
  "nbformat": 4,
  "nbformat_minor": 0,
  "metadata": {
    "colab": {
      "name": "add_xy.ipynb",
      "provenance": []
    },
    "kernelspec": {
      "name": "python3",
      "display_name": "Python 3"
    }
  },
  "cells": [
    {
      "cell_type": "code",
      "metadata": {
        "colab": {
          "base_uri": "https://localhost:8080/"
        },
        "id": "ljKBuCaNzaJv",
        "outputId": "84b58a22-dff4-4650-8df3-e0a640e7ff87"
      },
      "source": [
        "from google.colab import drive\r\n",
        "drive.mount('/content/drive')"
      ],
      "execution_count": null,
      "outputs": [
        {
          "output_type": "stream",
          "text": [
            "Drive already mounted at /content/drive; to attempt to forcibly remount, call drive.mount(\"/content/drive\", force_remount=True).\n"
          ],
          "name": "stdout"
        }
      ]
    },
    {
      "cell_type": "code",
      "metadata": {
        "id": "kFv-xQgDzsHJ"
      },
      "source": [
        "import pandas as pd\r\n",
        "import json\r\n",
        "import requests\r\n",
        "from urllib.parse import urlparse\r\n",
        "\r\n",
        "df = pd.read_csv('/content/drive/My Drive/elice_miniProject/starbucks_seoul.csv', encoding=\"cp949\")"
      ],
      "execution_count": null,
      "outputs": []
    },
    {
      "cell_type": "code",
      "metadata": {
        "colab": {
          "base_uri": "https://localhost:8080/",
          "height": 204
        },
        "id": "F4qSvVYvz6To",
        "outputId": "8c4e24a0-15d8-464a-82a4-6dcec7873186"
      },
      "source": [
        "df.head()"
      ],
      "execution_count": null,
      "outputs": [
        {
          "output_type": "execute_result",
          "data": {
            "text/html": [
              "<div>\n",
              "<style scoped>\n",
              "    .dataframe tbody tr th:only-of-type {\n",
              "        vertical-align: middle;\n",
              "    }\n",
              "\n",
              "    .dataframe tbody tr th {\n",
              "        vertical-align: top;\n",
              "    }\n",
              "\n",
              "    .dataframe thead th {\n",
              "        text-align: right;\n",
              "    }\n",
              "</style>\n",
              "<table border=\"1\" class=\"dataframe\">\n",
              "  <thead>\n",
              "    <tr style=\"text-align: right;\">\n",
              "      <th></th>\n",
              "      <th>Unnamed: 0</th>\n",
              "      <th>지점명</th>\n",
              "      <th>지점주소</th>\n",
              "    </tr>\n",
              "  </thead>\n",
              "  <tbody>\n",
              "    <tr>\n",
              "      <th>0</th>\n",
              "      <td>0</td>\n",
              "      <td>스타벅스 강남R점</td>\n",
              "      <td>서울 강남구 강남대로 390</td>\n",
              "    </tr>\n",
              "    <tr>\n",
              "      <th>1</th>\n",
              "      <td>1</td>\n",
              "      <td>스타벅스 파미에파크R점</td>\n",
              "      <td>서울 서초구 사평대로 205 센트럴시티 파미에파크돔</td>\n",
              "    </tr>\n",
              "    <tr>\n",
              "      <th>2</th>\n",
              "      <td>2</td>\n",
              "      <td>스타벅스 공릉DT점</td>\n",
              "      <td>서울 노원구 동일로 1015</td>\n",
              "    </tr>\n",
              "    <tr>\n",
              "      <th>3</th>\n",
              "      <td>3</td>\n",
              "      <td>스타벅스 청담스타R점</td>\n",
              "      <td>서울 강남구 도산대로57길 24</td>\n",
              "    </tr>\n",
              "    <tr>\n",
              "      <th>4</th>\n",
              "      <td>4</td>\n",
              "      <td>스타벅스 더종로R점</td>\n",
              "      <td>서울 종로구 종로 51</td>\n",
              "    </tr>\n",
              "  </tbody>\n",
              "</table>\n",
              "</div>"
            ],
            "text/plain": [
              "   Unnamed: 0           지점명                          지점주소\n",
              "0           0     스타벅스 강남R점               서울 강남구 강남대로 390\n",
              "1           1  스타벅스 파미에파크R점  서울 서초구 사평대로 205 센트럴시티 파미에파크돔\n",
              "2           2    스타벅스 공릉DT점               서울 노원구 동일로 1015\n",
              "3           3   스타벅스 청담스타R점             서울 강남구 도산대로57길 24\n",
              "4           4    스타벅스 더종로R점                  서울 종로구 종로 51"
            ]
          },
          "metadata": {
            "tags": []
          },
          "execution_count": 212
        }
      ]
    },
    {
      "cell_type": "code",
      "metadata": {
        "id": "eOAHxUE3z__o"
      },
      "source": [
        "del df['Unnamed: 0']"
      ],
      "execution_count": null,
      "outputs": []
    },
    {
      "cell_type": "code",
      "metadata": {
        "id": "n-OvPZigMC6Q"
      },
      "source": [
        "## y,x열 추가\r\n",
        "\r\n",
        "df['y'] = 0\r\n",
        "df['x'] = 0"
      ],
      "execution_count": null,
      "outputs": []
    },
    {
      "cell_type": "code",
      "metadata": {
        "colab": {
          "base_uri": "https://localhost:8080/",
          "height": 35
        },
        "id": "q92hZhm-0AHv",
        "outputId": "da81ade5-d84b-4fbd-9f3d-e90045bacf31"
      },
      "source": [
        "df.loc[0][1]"
      ],
      "execution_count": null,
      "outputs": [
        {
          "output_type": "execute_result",
          "data": {
            "application/vnd.google.colaboratory.intrinsic+json": {
              "type": "string"
            },
            "text/plain": [
              "'서울 강남구 강남대로 390'"
            ]
          },
          "metadata": {
            "tags": []
          },
          "execution_count": 215
        }
      ]
    },
    {
      "cell_type": "code",
      "metadata": {
        "colab": {
          "base_uri": "https://localhost:8080/"
        },
        "id": "n30nR7ETJysj",
        "outputId": "87805e24-1b9b-4e4e-ef7f-5ebaec18cfb5"
      },
      "source": [
        "d = []\r\n",
        "\r\n",
        "for i in range(len(df['지점명'])):\r\n",
        "  adress = df.loc[i][1]\r\n",
        "  url = \"https://dapi.kakao.com/v2/local/search/address.json?&query=\"+adress\r\n",
        "  result = requests.get(urlparse(url).geturl(), headers={\"authorization\":\"KakaoAK 2e021e0dbc0637b7c8a74be86c202a11\"})\r\n",
        "  url_text = result.json()\r\n",
        "  try:\r\n",
        "    ## 주소가 있는 경우 값 추가\r\n",
        "    df['y'][i] = url_text['documents'][0]['y']\r\n",
        "    df['x'][i] = url_text['documents'][0]['x']\r\n",
        "  except:\r\n",
        "    ## 주소를 구할 수  없는 경우 행 번호 수집\r\n",
        "    d.append(i)\r\n",
        "    print(d)"
      ],
      "execution_count": null,
      "outputs": [
        {
          "output_type": "stream",
          "text": [
            "/usr/local/lib/python3.6/dist-packages/ipykernel_launcher.py:9: SettingWithCopyWarning: \n",
            "A value is trying to be set on a copy of a slice from a DataFrame\n",
            "\n",
            "See the caveats in the documentation: https://pandas.pydata.org/pandas-docs/stable/user_guide/indexing.html#returning-a-view-versus-a-copy\n",
            "  if __name__ == '__main__':\n",
            "/usr/local/lib/python3.6/dist-packages/pandas/core/indexing.py:670: SettingWithCopyWarning: \n",
            "A value is trying to be set on a copy of a slice from a DataFrame\n",
            "\n",
            "See the caveats in the documentation: https://pandas.pydata.org/pandas-docs/stable/user_guide/indexing.html#returning-a-view-versus-a-copy\n",
            "  iloc._setitem_with_indexer(indexer, value)\n",
            "/usr/local/lib/python3.6/dist-packages/ipykernel_launcher.py:10: SettingWithCopyWarning: \n",
            "A value is trying to be set on a copy of a slice from a DataFrame\n",
            "\n",
            "See the caveats in the documentation: https://pandas.pydata.org/pandas-docs/stable/user_guide/indexing.html#returning-a-view-versus-a-copy\n",
            "  # Remove the CWD from sys.path while we load stuff.\n"
          ],
          "name": "stderr"
        },
        {
          "output_type": "stream",
          "text": [
            "[7]\n",
            "[7, 96]\n",
            "[7, 96, 109]\n",
            "[7, 96, 109, 146]\n",
            "[7, 96, 109, 146, 157]\n",
            "[7, 96, 109, 146, 157, 167]\n",
            "[7, 96, 109, 146, 157, 167, 168]\n",
            "[7, 96, 109, 146, 157, 167, 168, 172]\n",
            "[7, 96, 109, 146, 157, 167, 168, 172, 178]\n",
            "[7, 96, 109, 146, 157, 167, 168, 172, 178, 187]\n",
            "[7, 96, 109, 146, 157, 167, 168, 172, 178, 187, 190]\n",
            "[7, 96, 109, 146, 157, 167, 168, 172, 178, 187, 190, 199]\n",
            "[7, 96, 109, 146, 157, 167, 168, 172, 178, 187, 190, 199, 218]\n",
            "[7, 96, 109, 146, 157, 167, 168, 172, 178, 187, 190, 199, 218, 237]\n",
            "[7, 96, 109, 146, 157, 167, 168, 172, 178, 187, 190, 199, 218, 237, 257]\n",
            "[7, 96, 109, 146, 157, 167, 168, 172, 178, 187, 190, 199, 218, 237, 257, 283]\n",
            "[7, 96, 109, 146, 157, 167, 168, 172, 178, 187, 190, 199, 218, 237, 257, 283, 298]\n",
            "[7, 96, 109, 146, 157, 167, 168, 172, 178, 187, 190, 199, 218, 237, 257, 283, 298, 323]\n",
            "[7, 96, 109, 146, 157, 167, 168, 172, 178, 187, 190, 199, 218, 237, 257, 283, 298, 323, 403]\n",
            "[7, 96, 109, 146, 157, 167, 168, 172, 178, 187, 190, 199, 218, 237, 257, 283, 298, 323, 403, 422]\n",
            "[7, 96, 109, 146, 157, 167, 168, 172, 178, 187, 190, 199, 218, 237, 257, 283, 298, 323, 403, 422, 446]\n",
            "[7, 96, 109, 146, 157, 167, 168, 172, 178, 187, 190, 199, 218, 237, 257, 283, 298, 323, 403, 422, 446, 460]\n",
            "[7, 96, 109, 146, 157, 167, 168, 172, 178, 187, 190, 199, 218, 237, 257, 283, 298, 323, 403, 422, 446, 460, 470]\n"
          ],
          "name": "stdout"
        }
      ]
    },
    {
      "cell_type": "code",
      "metadata": {
        "colab": {
          "base_uri": "https://localhost:8080/",
          "height": 419
        },
        "id": "1i-KhBSBd3dX",
        "outputId": "5c331e95-ff71-498f-d762-1bf6624e5add"
      },
      "source": [
        "## 숫자가 큰 순서의 행 부터 삭제\r\n",
        "## 작은 순으로 삭제하면 행의 길이가 바뀌기 때문에 귀찮아짐\r\n",
        "d.sort(reverse=True)\r\n",
        "\r\n",
        "for i in d:\r\n",
        "  df = df.drop(index=i)\r\n",
        "\r\n",
        "df = df.reset_index(drop=True, inplace=False)\r\n",
        "df"
      ],
      "execution_count": null,
      "outputs": [
        {
          "output_type": "execute_result",
          "data": {
            "text/html": [
              "<div>\n",
              "<style scoped>\n",
              "    .dataframe tbody tr th:only-of-type {\n",
              "        vertical-align: middle;\n",
              "    }\n",
              "\n",
              "    .dataframe tbody tr th {\n",
              "        vertical-align: top;\n",
              "    }\n",
              "\n",
              "    .dataframe thead th {\n",
              "        text-align: right;\n",
              "    }\n",
              "</style>\n",
              "<table border=\"1\" class=\"dataframe\">\n",
              "  <thead>\n",
              "    <tr style=\"text-align: right;\">\n",
              "      <th></th>\n",
              "      <th>지점명</th>\n",
              "      <th>지점주소</th>\n",
              "      <th>y</th>\n",
              "      <th>x</th>\n",
              "    </tr>\n",
              "  </thead>\n",
              "  <tbody>\n",
              "    <tr>\n",
              "      <th>0</th>\n",
              "      <td>스타벅스 강남R점</td>\n",
              "      <td>서울 강남구 강남대로 390</td>\n",
              "      <td>37.4978399531903</td>\n",
              "      <td>127.028578846319</td>\n",
              "    </tr>\n",
              "    <tr>\n",
              "      <th>1</th>\n",
              "      <td>스타벅스 파미에파크R점</td>\n",
              "      <td>서울 서초구 사평대로 205 센트럴시티 파미에파크돔</td>\n",
              "      <td>37.5044921229104</td>\n",
              "      <td>127.007845270854</td>\n",
              "    </tr>\n",
              "    <tr>\n",
              "      <th>2</th>\n",
              "      <td>스타벅스 공릉DT점</td>\n",
              "      <td>서울 노원구 동일로 1015</td>\n",
              "      <td>37.6207526469417</td>\n",
              "      <td>127.074220863167</td>\n",
              "    </tr>\n",
              "    <tr>\n",
              "      <th>3</th>\n",
              "      <td>스타벅스 청담스타R점</td>\n",
              "      <td>서울 강남구 도산대로57길 24</td>\n",
              "      <td>37.5252578873567</td>\n",
              "      <td>127.041837238386</td>\n",
              "    </tr>\n",
              "    <tr>\n",
              "      <th>4</th>\n",
              "      <td>스타벅스 더종로R점</td>\n",
              "      <td>서울 종로구 종로 51</td>\n",
              "      <td>37.5707451369668</td>\n",
              "      <td>126.983611410428</td>\n",
              "    </tr>\n",
              "    <tr>\n",
              "      <th>...</th>\n",
              "      <td>...</td>\n",
              "      <td>...</td>\n",
              "      <td>...</td>\n",
              "      <td>...</td>\n",
              "    </tr>\n",
              "    <tr>\n",
              "      <th>472</th>\n",
              "      <td>스타벅스 타임스퀘어점</td>\n",
              "      <td>서울 영등포구 영중로 15 2층</td>\n",
              "      <td>37.5172332566615</td>\n",
              "      <td>126.903715993779</td>\n",
              "    </tr>\n",
              "    <tr>\n",
              "      <th>473</th>\n",
              "      <td>스타벅스 소공로점</td>\n",
              "      <td>서울 중구 남대문로7길 19 삼영빌딩 1층</td>\n",
              "      <td>37.5637733439194</td>\n",
              "      <td>126.980774234134</td>\n",
              "    </tr>\n",
              "    <tr>\n",
              "      <th>474</th>\n",
              "      <td>스타벅스 순화동에이스점</td>\n",
              "      <td>서울 중구 통일로 92 1층</td>\n",
              "      <td>37.5635955637684</td>\n",
              "      <td>126.969222436022</td>\n",
              "    </tr>\n",
              "    <tr>\n",
              "      <th>475</th>\n",
              "      <td>스타벅스 을지로국제빌딩점</td>\n",
              "      <td>서울 중구 남대문로 109</td>\n",
              "      <td>37.5669858059331</td>\n",
              "      <td>126.982247152887</td>\n",
              "    </tr>\n",
              "    <tr>\n",
              "      <th>476</th>\n",
              "      <td>스타벅스 명동메트로점</td>\n",
              "      <td>서울 중구 명동9가길 14 메트로호텔 1층</td>\n",
              "      <td>37.5651356441528</td>\n",
              "      <td>126.983730468109</td>\n",
              "    </tr>\n",
              "  </tbody>\n",
              "</table>\n",
              "<p>477 rows × 4 columns</p>\n",
              "</div>"
            ],
            "text/plain": [
              "               지점명  ...                 x\n",
              "0        스타벅스 강남R점  ...  127.028578846319\n",
              "1     스타벅스 파미에파크R점  ...  127.007845270854\n",
              "2       스타벅스 공릉DT점  ...  127.074220863167\n",
              "3      스타벅스 청담스타R점  ...  127.041837238386\n",
              "4       스타벅스 더종로R점  ...  126.983611410428\n",
              "..             ...  ...               ...\n",
              "472    스타벅스 타임스퀘어점  ...  126.903715993779\n",
              "473      스타벅스 소공로점  ...  126.980774234134\n",
              "474   스타벅스 순화동에이스점  ...  126.969222436022\n",
              "475  스타벅스 을지로국제빌딩점  ...  126.982247152887\n",
              "476    스타벅스 명동메트로점  ...  126.983730468109\n",
              "\n",
              "[477 rows x 4 columns]"
            ]
          },
          "metadata": {
            "tags": []
          },
          "execution_count": 217
        }
      ]
    },
    {
      "cell_type": "code",
      "metadata": {
        "colab": {
          "base_uri": "https://localhost:8080/"
        },
        "id": "fXlHcxMkD0H7",
        "outputId": "07c0aea0-98b6-479b-b1cf-0b116b14b0ff"
      },
      "source": [
        "## 매장명 마지막 점검\r\n",
        "c = [] \r\n",
        "for i in range(len(df['지점명'])):\r\n",
        "  a = df['지점명'][i].split()[0]\r\n",
        "  if a != '스타벅스':\r\n",
        "    c.append(i)\r\n",
        "print(c)\r\n"
      ],
      "execution_count": null,
      "outputs": [
        {
          "output_type": "stream",
          "text": [
            "[]\n"
          ],
          "name": "stdout"
        }
      ]
    },
    {
      "cell_type": "code",
      "metadata": {
        "colab": {
          "base_uri": "https://localhost:8080/",
          "height": 419
        },
        "id": "9XmG1AGJD2c6",
        "outputId": "394d4991-b99c-4362-b7be-9faaccb6785c"
      },
      "source": [
        "df = df.drop(index=i)\r\n",
        "df = df.reset_index(drop=True, inplace=False)\r\n",
        "df"
      ],
      "execution_count": null,
      "outputs": [
        {
          "output_type": "execute_result",
          "data": {
            "text/html": [
              "<div>\n",
              "<style scoped>\n",
              "    .dataframe tbody tr th:only-of-type {\n",
              "        vertical-align: middle;\n",
              "    }\n",
              "\n",
              "    .dataframe tbody tr th {\n",
              "        vertical-align: top;\n",
              "    }\n",
              "\n",
              "    .dataframe thead th {\n",
              "        text-align: right;\n",
              "    }\n",
              "</style>\n",
              "<table border=\"1\" class=\"dataframe\">\n",
              "  <thead>\n",
              "    <tr style=\"text-align: right;\">\n",
              "      <th></th>\n",
              "      <th>지점명</th>\n",
              "      <th>지점주소</th>\n",
              "      <th>y</th>\n",
              "      <th>x</th>\n",
              "    </tr>\n",
              "  </thead>\n",
              "  <tbody>\n",
              "    <tr>\n",
              "      <th>0</th>\n",
              "      <td>스타벅스 강남R점</td>\n",
              "      <td>서울 강남구 강남대로 390</td>\n",
              "      <td>37.4978399531903</td>\n",
              "      <td>127.028578846319</td>\n",
              "    </tr>\n",
              "    <tr>\n",
              "      <th>1</th>\n",
              "      <td>스타벅스 파미에파크R점</td>\n",
              "      <td>서울 서초구 사평대로 205 센트럴시티 파미에파크돔</td>\n",
              "      <td>37.5044921229104</td>\n",
              "      <td>127.007845270854</td>\n",
              "    </tr>\n",
              "    <tr>\n",
              "      <th>2</th>\n",
              "      <td>스타벅스 공릉DT점</td>\n",
              "      <td>서울 노원구 동일로 1015</td>\n",
              "      <td>37.6207526469417</td>\n",
              "      <td>127.074220863167</td>\n",
              "    </tr>\n",
              "    <tr>\n",
              "      <th>3</th>\n",
              "      <td>스타벅스 청담스타R점</td>\n",
              "      <td>서울 강남구 도산대로57길 24</td>\n",
              "      <td>37.5252578873567</td>\n",
              "      <td>127.041837238386</td>\n",
              "    </tr>\n",
              "    <tr>\n",
              "      <th>4</th>\n",
              "      <td>스타벅스 더종로R점</td>\n",
              "      <td>서울 종로구 종로 51</td>\n",
              "      <td>37.5707451369668</td>\n",
              "      <td>126.983611410428</td>\n",
              "    </tr>\n",
              "    <tr>\n",
              "      <th>...</th>\n",
              "      <td>...</td>\n",
              "      <td>...</td>\n",
              "      <td>...</td>\n",
              "      <td>...</td>\n",
              "    </tr>\n",
              "    <tr>\n",
              "      <th>470</th>\n",
              "      <td>스타벅스 순화동더샵점</td>\n",
              "      <td>서울 중구 칠패로 27 포스코더# A동 102호</td>\n",
              "      <td>37.5602669008102</td>\n",
              "      <td>126.972035325682</td>\n",
              "    </tr>\n",
              "    <tr>\n",
              "      <th>471</th>\n",
              "      <td>스타벅스 포스코점</td>\n",
              "      <td>서울 강남구 삼성로86길 7 1층</td>\n",
              "      <td>37.5057744473143</td>\n",
              "      <td>127.057946040574</td>\n",
              "    </tr>\n",
              "    <tr>\n",
              "      <th>472</th>\n",
              "      <td>스타벅스 타임스퀘어점</td>\n",
              "      <td>서울 영등포구 영중로 15 2층</td>\n",
              "      <td>37.5172332566615</td>\n",
              "      <td>126.903715993779</td>\n",
              "    </tr>\n",
              "    <tr>\n",
              "      <th>473</th>\n",
              "      <td>스타벅스 소공로점</td>\n",
              "      <td>서울 중구 남대문로7길 19 삼영빌딩 1층</td>\n",
              "      <td>37.5637733439194</td>\n",
              "      <td>126.980774234134</td>\n",
              "    </tr>\n",
              "    <tr>\n",
              "      <th>474</th>\n",
              "      <td>스타벅스 순화동에이스점</td>\n",
              "      <td>서울 중구 통일로 92 1층</td>\n",
              "      <td>37.5635955637684</td>\n",
              "      <td>126.969222436022</td>\n",
              "    </tr>\n",
              "  </tbody>\n",
              "</table>\n",
              "<p>475 rows × 4 columns</p>\n",
              "</div>"
            ],
            "text/plain": [
              "              지점명  ...                 x\n",
              "0       스타벅스 강남R점  ...  127.028578846319\n",
              "1    스타벅스 파미에파크R점  ...  127.007845270854\n",
              "2      스타벅스 공릉DT점  ...  127.074220863167\n",
              "3     스타벅스 청담스타R점  ...  127.041837238386\n",
              "4      스타벅스 더종로R점  ...  126.983611410428\n",
              "..            ...  ...               ...\n",
              "470   스타벅스 순화동더샵점  ...  126.972035325682\n",
              "471     스타벅스 포스코점  ...  127.057946040574\n",
              "472   스타벅스 타임스퀘어점  ...  126.903715993779\n",
              "473     스타벅스 소공로점  ...  126.980774234134\n",
              "474  스타벅스 순화동에이스점  ...  126.969222436022\n",
              "\n",
              "[475 rows x 4 columns]"
            ]
          },
          "metadata": {
            "tags": []
          },
          "execution_count": 221
        }
      ]
    },
    {
      "cell_type": "code",
      "metadata": {
        "id": "zZUbmVtVeUGs"
      },
      "source": [
        "df.to_csv('/content/drive/My Drive/elice_miniProject/starbucks_seoul.csv',index=False,encoding='utf-8')"
      ],
      "execution_count": null,
      "outputs": []
    },
    {
      "cell_type": "code",
      "metadata": {
        "id": "RLYXFGzXBXIh"
      },
      "source": [
        ""
      ],
      "execution_count": null,
      "outputs": []
    }
  ]
}