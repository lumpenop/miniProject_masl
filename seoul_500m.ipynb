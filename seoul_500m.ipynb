{
  "nbformat": 4,
  "nbformat_minor": 0,
  "metadata": {
    "colab": {
      "name": "seoul_500m.ipynb",
      "provenance": [],
      "collapsed_sections": []
    },
    "kernelspec": {
      "name": "python3",
      "display_name": "Python 3"
    }
  },
  "cells": [
    {
      "cell_type": "code",
      "metadata": {
        "colab": {
          "base_uri": "https://localhost:8080/"
        },
        "id": "_Dm-_G0Rkz59",
        "outputId": "ca765baf-6b7f-4cba-e1f0-7c617bb8a52b"
      },
      "source": [
        "!pip install requests"
      ],
      "execution_count": null,
      "outputs": [
        {
          "output_type": "stream",
          "text": [
            "Requirement already satisfied: requests in /usr/local/lib/python3.6/dist-packages (2.23.0)\n",
            "Requirement already satisfied: idna<3,>=2.5 in /usr/local/lib/python3.6/dist-packages (from requests) (2.10)\n",
            "Requirement already satisfied: chardet<4,>=3.0.2 in /usr/local/lib/python3.6/dist-packages (from requests) (3.0.4)\n",
            "Requirement already satisfied: certifi>=2017.4.17 in /usr/local/lib/python3.6/dist-packages (from requests) (2020.12.5)\n",
            "Requirement already satisfied: urllib3!=1.25.0,!=1.25.1,<1.26,>=1.21.1 in /usr/local/lib/python3.6/dist-packages (from requests) (1.24.3)\n"
          ],
          "name": "stdout"
        }
      ]
    },
    {
      "cell_type": "code",
      "metadata": {
        "id": "98vMPFdPlGmw"
      },
      "source": [
        "### API key test ## \r\n",
        "url = \"https://dapi.kakao.com/v2/local/geo/coord2regioncode.json?x=127.0016985&y=37.5642135\"\r\n",
        "headers = {\"Authorization\": \"KakaoAK 2e021e0dbc0637b7c8a74be86c202a11\"}"
      ],
      "execution_count": null,
      "outputs": []
    },
    {
      "cell_type": "code",
      "metadata": {
        "colab": {
          "base_uri": "https://localhost:8080/"
        },
        "id": "pGfo-k01lJYX",
        "outputId": "b398e1ae-c39c-48a1-f9f2-929e6431fc99"
      },
      "source": [
        "import requests\r\n",
        "import json\r\n",
        "import pandas as pd\r\n",
        "api_test = requests.get(url,headers=headers)\r\n",
        "url_text = json.loads(api_test.text)\r\n",
        "url_text"
      ],
      "execution_count": null,
      "outputs": [
        {
          "output_type": "execute_result",
          "data": {
            "text/plain": [
              "{'documents': [{'address_name': '서울특별시 중구 오장동',\n",
              "   'code': '1114015400',\n",
              "   'region_1depth_name': '서울특별시',\n",
              "   'region_2depth_name': '중구',\n",
              "   'region_3depth_name': '오장동',\n",
              "   'region_4depth_name': '',\n",
              "   'region_type': 'B',\n",
              "   'x': 127.00069270856211,\n",
              "   'y': 37.56491061309639},\n",
              "  {'address_name': '서울특별시 중구 광희동',\n",
              "   'code': '1114059000',\n",
              "   'region_1depth_name': '서울특별시',\n",
              "   'region_2depth_name': '중구',\n",
              "   'region_3depth_name': '광희동',\n",
              "   'region_4depth_name': '',\n",
              "   'region_type': 'H',\n",
              "   'x': 127.00505266779864,\n",
              "   'y': 37.56446721686456}],\n",
              " 'meta': {'total_count': 2}}"
            ]
          },
          "metadata": {
            "tags": []
          },
          "execution_count": 4
        }
      ]
    },
    {
      "cell_type": "code",
      "metadata": {
        "colab": {
          "base_uri": "https://localhost:8080/",
          "height": 35
        },
        "id": "wFhudiYRlQ0-",
        "outputId": "e97921db-041d-4ec8-cf5f-b0dab7c32633"
      },
      "source": [
        "url_text['documents'][0]['address_name'].split()[0]"
      ],
      "execution_count": null,
      "outputs": [
        {
          "output_type": "execute_result",
          "data": {
            "application/vnd.google.colaboratory.intrinsic+json": {
              "type": "string"
            },
            "text/plain": [
              "'서울특별시'"
            ]
          },
          "metadata": {
            "tags": []
          },
          "execution_count": 5
        }
      ]
    },
    {
      "cell_type": "code",
      "metadata": {
        "colab": {
          "base_uri": "https://localhost:8080/"
        },
        "id": "VQajUQfylTVZ",
        "outputId": "8340d9c0-5c23-43ba-9d53-a56a4e3e4453"
      },
      "source": [
        "!pip install haversine"
      ],
      "execution_count": null,
      "outputs": [
        {
          "output_type": "stream",
          "text": [
            "Collecting haversine\n",
            "  Downloading https://files.pythonhosted.org/packages/f4/52/a13286844780c7b1740edbbee8a8f0524e2a6d51c068b59dda39a6a119f5/haversine-2.3.0-py2.py3-none-any.whl\n",
            "Installing collected packages: haversine\n",
            "Successfully installed haversine-2.3.0\n"
          ],
          "name": "stdout"
        }
      ]
    },
    {
      "cell_type": "code",
      "metadata": {
        "id": "VfeSmbQPlVRX"
      },
      "source": [
        "from haversine import haversine ## 좌표로 거리 구하기"
      ],
      "execution_count": null,
      "outputs": []
    },
    {
      "cell_type": "code",
      "metadata": {
        "colab": {
          "base_uri": "https://localhost:8080/"
        },
        "id": "8VT6QamulW-q",
        "outputId": "76f8eee6-72f4-4aee-871a-e32732a4518a"
      },
      "source": [
        "haversine((127.0016985,37.5642135), (127.0061951,37.5642135), unit = 'km') "
      ],
      "execution_count": null,
      "outputs": [
        {
          "output_type": "execute_result",
          "data": {
            "text/plain": [
              "0.4999997977785586"
            ]
          },
          "metadata": {
            "tags": []
          },
          "execution_count": 116
        }
      ]
    },
    {
      "cell_type": "code",
      "metadata": {
        "id": "8HJvlVkAlYg3"
      },
      "source": [
        "xx = 0.0044966  ## 경도 x의 1km\r\n",
        "yy = 0.0074714 ## 위도 y의 1km"
      ],
      "execution_count": null,
      "outputs": []
    },
    {
      "cell_type": "code",
      "metadata": {
        "id": "dQhB6SVilev6"
      },
      "source": [
        "xx = 44966\r\n",
        "yy = 74714\r\n",
        "## for문을 float형태로 제어할 수 없어서 10^7 씩 곱해줌\r\n",
        "seoul = {}\r\n",
        "p=0\r\n",
        "for x in range(1267340860,1272684117,xx):\r\n",
        "  for y in range(374058227,377001904,yy):\r\n",
        "    lat = y/10000000   ### 곱해준 10^7로 나눠줌\r\n",
        "    lon = x/10000000\r\n",
        "    xgap = xx/10000000\r\n",
        "    ygap = yy/10000000\r\n",
        "    url = \"https://dapi.kakao.com/v2/local/geo/coord2regioncode.json?x={0}&y={1}\".format(lon,lat)\r\n",
        "    headers = {\"Authorization\": \"KakaoAK 2e021e0dbc0637b7c8a74be86c202a11\"}\r\n",
        "    api_test = requests.get(url,headers=headers)\r\n",
        "    url_text = json.loads(api_test.text)\r\n",
        "   \r\n",
        "    if url_text['documents'][0]['address_name'].split()[0]=='서울특별시':\r\n",
        "      seoul[p]=[(lat,lon),(lat,lon+xgap),(lat+ygap,lon),(lat+ygap,lon+xgap)] ## 시각화 편의를 위해 y,x 순서로\r\n",
        "      p=p+1"
      ],
      "execution_count": null,
      "outputs": []
    },
    {
      "cell_type": "code",
      "metadata": {
        "colab": {
          "base_uri": "https://localhost:8080/",
          "height": 419
        },
        "id": "D_rnWwX7qtrr",
        "outputId": "1d67619c-2534-4817-ef8a-2f469c055101"
      },
      "source": [
        "## 딕셔너리를 데이터 프레임으로\r\n",
        "df = pd.DataFrame(seoul)\r\n",
        "df = df.T\r\n",
        "df.columns = ['bottom_left','bottom_right','top_left','top_right']\r\n",
        "df"
      ],
      "execution_count": null,
      "outputs": [
        {
          "output_type": "execute_result",
          "data": {
            "text/html": [
              "<div>\n",
              "<style scoped>\n",
              "    .dataframe tbody tr th:only-of-type {\n",
              "        vertical-align: middle;\n",
              "    }\n",
              "\n",
              "    .dataframe tbody tr th {\n",
              "        vertical-align: top;\n",
              "    }\n",
              "\n",
              "    .dataframe thead th {\n",
              "        text-align: right;\n",
              "    }\n",
              "</style>\n",
              "<table border=\"1\" class=\"dataframe\">\n",
              "  <thead>\n",
              "    <tr style=\"text-align: right;\">\n",
              "      <th></th>\n",
              "      <th>bottom_left</th>\n",
              "      <th>bottom_right</th>\n",
              "      <th>top_left</th>\n",
              "      <th>top_right</th>\n",
              "    </tr>\n",
              "  </thead>\n",
              "  <tbody>\n",
              "    <tr>\n",
              "      <th>0</th>\n",
              "      <td>(37.5552507, 126.7655622)</td>\n",
              "      <td>(37.5552507, 126.7700588)</td>\n",
              "      <td>(37.5627221, 126.7655622)</td>\n",
              "      <td>(37.5627221, 126.7700588)</td>\n",
              "    </tr>\n",
              "    <tr>\n",
              "      <th>1</th>\n",
              "      <td>(37.5552507, 126.7700588)</td>\n",
              "      <td>(37.5552507, 126.7745554)</td>\n",
              "      <td>(37.5627221, 126.7700588)</td>\n",
              "      <td>(37.5627221, 126.7745554)</td>\n",
              "    </tr>\n",
              "    <tr>\n",
              "      <th>2</th>\n",
              "      <td>(37.5552507, 126.7745554)</td>\n",
              "      <td>(37.5552507, 126.779052)</td>\n",
              "      <td>(37.5627221, 126.7745554)</td>\n",
              "      <td>(37.5627221, 126.779052)</td>\n",
              "    </tr>\n",
              "    <tr>\n",
              "      <th>3</th>\n",
              "      <td>(37.5477793, 126.779052)</td>\n",
              "      <td>(37.5477793, 126.78354859999999)</td>\n",
              "      <td>(37.5552507, 126.779052)</td>\n",
              "      <td>(37.5552507, 126.78354859999999)</td>\n",
              "    </tr>\n",
              "    <tr>\n",
              "      <th>4</th>\n",
              "      <td>(37.5552507, 126.779052)</td>\n",
              "      <td>(37.5552507, 126.78354859999999)</td>\n",
              "      <td>(37.5627221, 126.779052)</td>\n",
              "      <td>(37.5627221, 126.78354859999999)</td>\n",
              "    </tr>\n",
              "    <tr>\n",
              "      <th>...</th>\n",
              "      <td>...</td>\n",
              "      <td>...</td>\n",
              "      <td>...</td>\n",
              "      <td>...</td>\n",
              "    </tr>\n",
              "    <tr>\n",
              "      <th>1827</th>\n",
              "      <td>(37.5701935, 127.1747528)</td>\n",
              "      <td>(37.5701935, 127.17924939999999)</td>\n",
              "      <td>(37.5776649, 127.1747528)</td>\n",
              "      <td>(37.5776649, 127.17924939999999)</td>\n",
              "    </tr>\n",
              "    <tr>\n",
              "      <th>1828</th>\n",
              "      <td>(37.5776649, 127.1747528)</td>\n",
              "      <td>(37.5776649, 127.17924939999999)</td>\n",
              "      <td>(37.5851363, 127.1747528)</td>\n",
              "      <td>(37.5851363, 127.17924939999999)</td>\n",
              "    </tr>\n",
              "    <tr>\n",
              "      <th>1829</th>\n",
              "      <td>(37.5477793, 127.1792494)</td>\n",
              "      <td>(37.5477793, 127.183746)</td>\n",
              "      <td>(37.5552507, 127.1792494)</td>\n",
              "      <td>(37.5552507, 127.183746)</td>\n",
              "    </tr>\n",
              "    <tr>\n",
              "      <th>1830</th>\n",
              "      <td>(37.5552507, 127.1792494)</td>\n",
              "      <td>(37.5552507, 127.183746)</td>\n",
              "      <td>(37.5627221, 127.1792494)</td>\n",
              "      <td>(37.5627221, 127.183746)</td>\n",
              "    </tr>\n",
              "    <tr>\n",
              "      <th>1831</th>\n",
              "      <td>(37.5627221, 127.1792494)</td>\n",
              "      <td>(37.5627221, 127.183746)</td>\n",
              "      <td>(37.5701935, 127.1792494)</td>\n",
              "      <td>(37.5701935, 127.183746)</td>\n",
              "    </tr>\n",
              "  </tbody>\n",
              "</table>\n",
              "<p>1832 rows × 4 columns</p>\n",
              "</div>"
            ],
            "text/plain": [
              "                    bottom_left  ...                         top_right\n",
              "0     (37.5552507, 126.7655622)  ...         (37.5627221, 126.7700588)\n",
              "1     (37.5552507, 126.7700588)  ...         (37.5627221, 126.7745554)\n",
              "2     (37.5552507, 126.7745554)  ...          (37.5627221, 126.779052)\n",
              "3      (37.5477793, 126.779052)  ...  (37.5552507, 126.78354859999999)\n",
              "4      (37.5552507, 126.779052)  ...  (37.5627221, 126.78354859999999)\n",
              "...                         ...  ...                               ...\n",
              "1827  (37.5701935, 127.1747528)  ...  (37.5776649, 127.17924939999999)\n",
              "1828  (37.5776649, 127.1747528)  ...  (37.5851363, 127.17924939999999)\n",
              "1829  (37.5477793, 127.1792494)  ...          (37.5552507, 127.183746)\n",
              "1830  (37.5552507, 127.1792494)  ...          (37.5627221, 127.183746)\n",
              "1831  (37.5627221, 127.1792494)  ...          (37.5701935, 127.183746)\n",
              "\n",
              "[1832 rows x 4 columns]"
            ]
          },
          "metadata": {
            "tags": []
          },
          "execution_count": 123
        }
      ]
    },
    {
      "cell_type": "code",
      "metadata": {
        "colab": {
          "base_uri": "https://localhost:8080/",
          "height": 419
        },
        "id": "zL6IlBL4h50I",
        "outputId": "1d44b3c6-1dc9-461a-f080-a7f1f48bef15"
      },
      "source": [
        "df"
      ],
      "execution_count": null,
      "outputs": [
        {
          "output_type": "execute_result",
          "data": {
            "text/html": [
              "<div>\n",
              "<style scoped>\n",
              "    .dataframe tbody tr th:only-of-type {\n",
              "        vertical-align: middle;\n",
              "    }\n",
              "\n",
              "    .dataframe tbody tr th {\n",
              "        vertical-align: top;\n",
              "    }\n",
              "\n",
              "    .dataframe thead th {\n",
              "        text-align: right;\n",
              "    }\n",
              "</style>\n",
              "<table border=\"1\" class=\"dataframe\">\n",
              "  <thead>\n",
              "    <tr style=\"text-align: right;\">\n",
              "      <th></th>\n",
              "      <th>bottom_left</th>\n",
              "      <th>bottom_right</th>\n",
              "      <th>top_left</th>\n",
              "      <th>top_right</th>\n",
              "    </tr>\n",
              "  </thead>\n",
              "  <tbody>\n",
              "    <tr>\n",
              "      <th>0</th>\n",
              "      <td>(37.5552507, 126.7655622)</td>\n",
              "      <td>(37.5552507, 126.7700588)</td>\n",
              "      <td>(37.5627221, 126.7655622)</td>\n",
              "      <td>(37.5627221, 126.7700588)</td>\n",
              "    </tr>\n",
              "    <tr>\n",
              "      <th>1</th>\n",
              "      <td>(37.5552507, 126.7700588)</td>\n",
              "      <td>(37.5552507, 126.7745554)</td>\n",
              "      <td>(37.5627221, 126.7700588)</td>\n",
              "      <td>(37.5627221, 126.7745554)</td>\n",
              "    </tr>\n",
              "    <tr>\n",
              "      <th>2</th>\n",
              "      <td>(37.5552507, 126.7745554)</td>\n",
              "      <td>(37.5552507, 126.779052)</td>\n",
              "      <td>(37.5627221, 126.7745554)</td>\n",
              "      <td>(37.5627221, 126.779052)</td>\n",
              "    </tr>\n",
              "    <tr>\n",
              "      <th>3</th>\n",
              "      <td>(37.5477793, 126.779052)</td>\n",
              "      <td>(37.5477793, 126.78354859999999)</td>\n",
              "      <td>(37.5552507, 126.779052)</td>\n",
              "      <td>(37.5552507, 126.78354859999999)</td>\n",
              "    </tr>\n",
              "    <tr>\n",
              "      <th>4</th>\n",
              "      <td>(37.5552507, 126.779052)</td>\n",
              "      <td>(37.5552507, 126.78354859999999)</td>\n",
              "      <td>(37.5627221, 126.779052)</td>\n",
              "      <td>(37.5627221, 126.78354859999999)</td>\n",
              "    </tr>\n",
              "    <tr>\n",
              "      <th>...</th>\n",
              "      <td>...</td>\n",
              "      <td>...</td>\n",
              "      <td>...</td>\n",
              "      <td>...</td>\n",
              "    </tr>\n",
              "    <tr>\n",
              "      <th>1827</th>\n",
              "      <td>(37.5701935, 127.1747528)</td>\n",
              "      <td>(37.5701935, 127.17924939999999)</td>\n",
              "      <td>(37.5776649, 127.1747528)</td>\n",
              "      <td>(37.5776649, 127.17924939999999)</td>\n",
              "    </tr>\n",
              "    <tr>\n",
              "      <th>1828</th>\n",
              "      <td>(37.5776649, 127.1747528)</td>\n",
              "      <td>(37.5776649, 127.17924939999999)</td>\n",
              "      <td>(37.5851363, 127.1747528)</td>\n",
              "      <td>(37.5851363, 127.17924939999999)</td>\n",
              "    </tr>\n",
              "    <tr>\n",
              "      <th>1829</th>\n",
              "      <td>(37.5477793, 127.1792494)</td>\n",
              "      <td>(37.5477793, 127.183746)</td>\n",
              "      <td>(37.5552507, 127.1792494)</td>\n",
              "      <td>(37.5552507, 127.183746)</td>\n",
              "    </tr>\n",
              "    <tr>\n",
              "      <th>1830</th>\n",
              "      <td>(37.5552507, 127.1792494)</td>\n",
              "      <td>(37.5552507, 127.183746)</td>\n",
              "      <td>(37.5627221, 127.1792494)</td>\n",
              "      <td>(37.5627221, 127.183746)</td>\n",
              "    </tr>\n",
              "    <tr>\n",
              "      <th>1831</th>\n",
              "      <td>(37.5627221, 127.1792494)</td>\n",
              "      <td>(37.5627221, 127.183746)</td>\n",
              "      <td>(37.5701935, 127.1792494)</td>\n",
              "      <td>(37.5701935, 127.183746)</td>\n",
              "    </tr>\n",
              "  </tbody>\n",
              "</table>\n",
              "<p>1832 rows × 4 columns</p>\n",
              "</div>"
            ],
            "text/plain": [
              "                    bottom_left  ...                         top_right\n",
              "0     (37.5552507, 126.7655622)  ...         (37.5627221, 126.7700588)\n",
              "1     (37.5552507, 126.7700588)  ...         (37.5627221, 126.7745554)\n",
              "2     (37.5552507, 126.7745554)  ...          (37.5627221, 126.779052)\n",
              "3      (37.5477793, 126.779052)  ...  (37.5552507, 126.78354859999999)\n",
              "4      (37.5552507, 126.779052)  ...  (37.5627221, 126.78354859999999)\n",
              "...                         ...  ...                               ...\n",
              "1827  (37.5701935, 127.1747528)  ...  (37.5776649, 127.17924939999999)\n",
              "1828  (37.5776649, 127.1747528)  ...  (37.5851363, 127.17924939999999)\n",
              "1829  (37.5477793, 127.1792494)  ...          (37.5552507, 127.183746)\n",
              "1830  (37.5552507, 127.1792494)  ...          (37.5627221, 127.183746)\n",
              "1831  (37.5627221, 127.1792494)  ...          (37.5701935, 127.183746)\n",
              "\n",
              "[1832 rows x 4 columns]"
            ]
          },
          "metadata": {
            "tags": []
          },
          "execution_count": 133
        }
      ]
    },
    {
      "cell_type": "code",
      "metadata": {
        "colab": {
          "base_uri": "https://localhost:8080/"
        },
        "id": "BqY3TFc2YNK6",
        "outputId": "0e485dd6-1e8f-448e-e1f8-8fb5f031b678"
      },
      "source": [
        "from google.colab import drive\r\n",
        "drive.mount('/content/drive')"
      ],
      "execution_count": null,
      "outputs": [
        {
          "output_type": "stream",
          "text": [
            "Mounted at /content/drive\n"
          ],
          "name": "stdout"
        }
      ]
    },
    {
      "cell_type": "code",
      "metadata": {
        "colab": {
          "base_uri": "https://localhost:8080/",
          "height": 419
        },
        "id": "AYr1e4cbZZKM",
        "outputId": "6de1daf5-fe53-47a7-e296-b0d9b307a853"
      },
      "source": [
        "df2 = pd.DataFrame(index=range(0,1832),columns=['bottom_left_y', 'bottom_left_x','bottom_right_y','bottom_right_x','top_left_y','top_left_x','top_right_y','top_right_x'])\r\n",
        "df2"
      ],
      "execution_count": null,
      "outputs": [
        {
          "output_type": "execute_result",
          "data": {
            "text/html": [
              "<div>\n",
              "<style scoped>\n",
              "    .dataframe tbody tr th:only-of-type {\n",
              "        vertical-align: middle;\n",
              "    }\n",
              "\n",
              "    .dataframe tbody tr th {\n",
              "        vertical-align: top;\n",
              "    }\n",
              "\n",
              "    .dataframe thead th {\n",
              "        text-align: right;\n",
              "    }\n",
              "</style>\n",
              "<table border=\"1\" class=\"dataframe\">\n",
              "  <thead>\n",
              "    <tr style=\"text-align: right;\">\n",
              "      <th></th>\n",
              "      <th>bottom_left_y</th>\n",
              "      <th>bottom_left_x</th>\n",
              "      <th>bottom_right_y</th>\n",
              "      <th>bottom_right_x</th>\n",
              "      <th>top_left_y</th>\n",
              "      <th>top_left_x</th>\n",
              "      <th>top_right_y</th>\n",
              "      <th>top_right_x</th>\n",
              "    </tr>\n",
              "  </thead>\n",
              "  <tbody>\n",
              "    <tr>\n",
              "      <th>0</th>\n",
              "      <td>NaN</td>\n",
              "      <td>NaN</td>\n",
              "      <td>NaN</td>\n",
              "      <td>NaN</td>\n",
              "      <td>NaN</td>\n",
              "      <td>NaN</td>\n",
              "      <td>NaN</td>\n",
              "      <td>NaN</td>\n",
              "    </tr>\n",
              "    <tr>\n",
              "      <th>1</th>\n",
              "      <td>NaN</td>\n",
              "      <td>NaN</td>\n",
              "      <td>NaN</td>\n",
              "      <td>NaN</td>\n",
              "      <td>NaN</td>\n",
              "      <td>NaN</td>\n",
              "      <td>NaN</td>\n",
              "      <td>NaN</td>\n",
              "    </tr>\n",
              "    <tr>\n",
              "      <th>2</th>\n",
              "      <td>NaN</td>\n",
              "      <td>NaN</td>\n",
              "      <td>NaN</td>\n",
              "      <td>NaN</td>\n",
              "      <td>NaN</td>\n",
              "      <td>NaN</td>\n",
              "      <td>NaN</td>\n",
              "      <td>NaN</td>\n",
              "    </tr>\n",
              "    <tr>\n",
              "      <th>3</th>\n",
              "      <td>NaN</td>\n",
              "      <td>NaN</td>\n",
              "      <td>NaN</td>\n",
              "      <td>NaN</td>\n",
              "      <td>NaN</td>\n",
              "      <td>NaN</td>\n",
              "      <td>NaN</td>\n",
              "      <td>NaN</td>\n",
              "    </tr>\n",
              "    <tr>\n",
              "      <th>4</th>\n",
              "      <td>NaN</td>\n",
              "      <td>NaN</td>\n",
              "      <td>NaN</td>\n",
              "      <td>NaN</td>\n",
              "      <td>NaN</td>\n",
              "      <td>NaN</td>\n",
              "      <td>NaN</td>\n",
              "      <td>NaN</td>\n",
              "    </tr>\n",
              "    <tr>\n",
              "      <th>...</th>\n",
              "      <td>...</td>\n",
              "      <td>...</td>\n",
              "      <td>...</td>\n",
              "      <td>...</td>\n",
              "      <td>...</td>\n",
              "      <td>...</td>\n",
              "      <td>...</td>\n",
              "      <td>...</td>\n",
              "    </tr>\n",
              "    <tr>\n",
              "      <th>1827</th>\n",
              "      <td>NaN</td>\n",
              "      <td>NaN</td>\n",
              "      <td>NaN</td>\n",
              "      <td>NaN</td>\n",
              "      <td>NaN</td>\n",
              "      <td>NaN</td>\n",
              "      <td>NaN</td>\n",
              "      <td>NaN</td>\n",
              "    </tr>\n",
              "    <tr>\n",
              "      <th>1828</th>\n",
              "      <td>NaN</td>\n",
              "      <td>NaN</td>\n",
              "      <td>NaN</td>\n",
              "      <td>NaN</td>\n",
              "      <td>NaN</td>\n",
              "      <td>NaN</td>\n",
              "      <td>NaN</td>\n",
              "      <td>NaN</td>\n",
              "    </tr>\n",
              "    <tr>\n",
              "      <th>1829</th>\n",
              "      <td>NaN</td>\n",
              "      <td>NaN</td>\n",
              "      <td>NaN</td>\n",
              "      <td>NaN</td>\n",
              "      <td>NaN</td>\n",
              "      <td>NaN</td>\n",
              "      <td>NaN</td>\n",
              "      <td>NaN</td>\n",
              "    </tr>\n",
              "    <tr>\n",
              "      <th>1830</th>\n",
              "      <td>NaN</td>\n",
              "      <td>NaN</td>\n",
              "      <td>NaN</td>\n",
              "      <td>NaN</td>\n",
              "      <td>NaN</td>\n",
              "      <td>NaN</td>\n",
              "      <td>NaN</td>\n",
              "      <td>NaN</td>\n",
              "    </tr>\n",
              "    <tr>\n",
              "      <th>1831</th>\n",
              "      <td>NaN</td>\n",
              "      <td>NaN</td>\n",
              "      <td>NaN</td>\n",
              "      <td>NaN</td>\n",
              "      <td>NaN</td>\n",
              "      <td>NaN</td>\n",
              "      <td>NaN</td>\n",
              "      <td>NaN</td>\n",
              "    </tr>\n",
              "  </tbody>\n",
              "</table>\n",
              "<p>1832 rows × 8 columns</p>\n",
              "</div>"
            ],
            "text/plain": [
              "     bottom_left_y bottom_left_x  ... top_right_y top_right_x\n",
              "0              NaN           NaN  ...         NaN         NaN\n",
              "1              NaN           NaN  ...         NaN         NaN\n",
              "2              NaN           NaN  ...         NaN         NaN\n",
              "3              NaN           NaN  ...         NaN         NaN\n",
              "4              NaN           NaN  ...         NaN         NaN\n",
              "...            ...           ...  ...         ...         ...\n",
              "1827           NaN           NaN  ...         NaN         NaN\n",
              "1828           NaN           NaN  ...         NaN         NaN\n",
              "1829           NaN           NaN  ...         NaN         NaN\n",
              "1830           NaN           NaN  ...         NaN         NaN\n",
              "1831           NaN           NaN  ...         NaN         NaN\n",
              "\n",
              "[1832 rows x 8 columns]"
            ]
          },
          "metadata": {
            "tags": []
          },
          "execution_count": 135
        }
      ]
    },
    {
      "cell_type": "code",
      "metadata": {
        "id": "84DjE-_cZ7n_"
      },
      "source": [
        "for i in range(len(df['bottom_left'])):\r\n",
        "  df2['bottom_left_y'][i] = df['bottom_left'][i][0]\r\n",
        "  df2['bottom_left_x'][i] = df['bottom_left'][i][1]\r\n",
        "  df2['bottom_right_y'][i] = df['bottom_right'][i][0]\r\n",
        "  df2['bottom_right_x'][i] = df['bottom_right'][i][1]\r\n",
        "  df2['top_left_y'][i] = df['top_left'][i][0]\r\n",
        "  df2['top_left_x'][i] = df['top_left'][i][1]\r\n",
        "  df2['top_right_y'][i] = df['top_right'][i][0]\r\n",
        "  df2['top_right_x'][i] = df['top_right'][i][1]"
      ],
      "execution_count": null,
      "outputs": []
    },
    {
      "cell_type": "code",
      "metadata": {
        "colab": {
          "base_uri": "https://localhost:8080/",
          "height": 419
        },
        "id": "ZfArcFjEZ9UH",
        "outputId": "42b2ae04-feb1-4e0e-9edf-5ae0c148c6c3"
      },
      "source": [
        "df2"
      ],
      "execution_count": null,
      "outputs": [
        {
          "output_type": "execute_result",
          "data": {
            "text/html": [
              "<div>\n",
              "<style scoped>\n",
              "    .dataframe tbody tr th:only-of-type {\n",
              "        vertical-align: middle;\n",
              "    }\n",
              "\n",
              "    .dataframe tbody tr th {\n",
              "        vertical-align: top;\n",
              "    }\n",
              "\n",
              "    .dataframe thead th {\n",
              "        text-align: right;\n",
              "    }\n",
              "</style>\n",
              "<table border=\"1\" class=\"dataframe\">\n",
              "  <thead>\n",
              "    <tr style=\"text-align: right;\">\n",
              "      <th></th>\n",
              "      <th>bottom_left_y</th>\n",
              "      <th>bottom_left_x</th>\n",
              "      <th>bottom_right_y</th>\n",
              "      <th>bottom_right_x</th>\n",
              "      <th>top_left_y</th>\n",
              "      <th>top_left_x</th>\n",
              "      <th>top_right_y</th>\n",
              "      <th>topright_x</th>\n",
              "    </tr>\n",
              "  </thead>\n",
              "  <tbody>\n",
              "    <tr>\n",
              "      <th>0</th>\n",
              "      <td>37.5553</td>\n",
              "      <td>126.766</td>\n",
              "      <td>37.5553</td>\n",
              "      <td>126.766</td>\n",
              "      <td>37.5627</td>\n",
              "      <td>126.766</td>\n",
              "      <td>37.5627</td>\n",
              "      <td>126.766</td>\n",
              "    </tr>\n",
              "    <tr>\n",
              "      <th>1</th>\n",
              "      <td>37.5553</td>\n",
              "      <td>126.77</td>\n",
              "      <td>37.5553</td>\n",
              "      <td>126.77</td>\n",
              "      <td>37.5627</td>\n",
              "      <td>126.77</td>\n",
              "      <td>37.5627</td>\n",
              "      <td>126.77</td>\n",
              "    </tr>\n",
              "    <tr>\n",
              "      <th>2</th>\n",
              "      <td>37.5553</td>\n",
              "      <td>126.775</td>\n",
              "      <td>37.5553</td>\n",
              "      <td>126.775</td>\n",
              "      <td>37.5627</td>\n",
              "      <td>126.775</td>\n",
              "      <td>37.5627</td>\n",
              "      <td>126.775</td>\n",
              "    </tr>\n",
              "    <tr>\n",
              "      <th>3</th>\n",
              "      <td>37.5478</td>\n",
              "      <td>126.779</td>\n",
              "      <td>37.5478</td>\n",
              "      <td>126.779</td>\n",
              "      <td>37.5553</td>\n",
              "      <td>126.779</td>\n",
              "      <td>37.5553</td>\n",
              "      <td>126.779</td>\n",
              "    </tr>\n",
              "    <tr>\n",
              "      <th>4</th>\n",
              "      <td>37.5553</td>\n",
              "      <td>126.779</td>\n",
              "      <td>37.5553</td>\n",
              "      <td>126.779</td>\n",
              "      <td>37.5627</td>\n",
              "      <td>126.779</td>\n",
              "      <td>37.5627</td>\n",
              "      <td>126.779</td>\n",
              "    </tr>\n",
              "    <tr>\n",
              "      <th>...</th>\n",
              "      <td>...</td>\n",
              "      <td>...</td>\n",
              "      <td>...</td>\n",
              "      <td>...</td>\n",
              "      <td>...</td>\n",
              "      <td>...</td>\n",
              "      <td>...</td>\n",
              "      <td>...</td>\n",
              "    </tr>\n",
              "    <tr>\n",
              "      <th>1827</th>\n",
              "      <td>37.5702</td>\n",
              "      <td>127.175</td>\n",
              "      <td>37.5702</td>\n",
              "      <td>127.175</td>\n",
              "      <td>37.5777</td>\n",
              "      <td>127.175</td>\n",
              "      <td>37.5777</td>\n",
              "      <td>127.175</td>\n",
              "    </tr>\n",
              "    <tr>\n",
              "      <th>1828</th>\n",
              "      <td>37.5777</td>\n",
              "      <td>127.175</td>\n",
              "      <td>37.5777</td>\n",
              "      <td>127.175</td>\n",
              "      <td>37.5851</td>\n",
              "      <td>127.175</td>\n",
              "      <td>37.5851</td>\n",
              "      <td>127.175</td>\n",
              "    </tr>\n",
              "    <tr>\n",
              "      <th>1829</th>\n",
              "      <td>37.5478</td>\n",
              "      <td>127.179</td>\n",
              "      <td>37.5478</td>\n",
              "      <td>127.179</td>\n",
              "      <td>37.5553</td>\n",
              "      <td>127.179</td>\n",
              "      <td>37.5553</td>\n",
              "      <td>127.179</td>\n",
              "    </tr>\n",
              "    <tr>\n",
              "      <th>1830</th>\n",
              "      <td>37.5553</td>\n",
              "      <td>127.179</td>\n",
              "      <td>37.5553</td>\n",
              "      <td>127.179</td>\n",
              "      <td>37.5627</td>\n",
              "      <td>127.179</td>\n",
              "      <td>37.5627</td>\n",
              "      <td>127.179</td>\n",
              "    </tr>\n",
              "    <tr>\n",
              "      <th>1831</th>\n",
              "      <td>37.5627</td>\n",
              "      <td>127.179</td>\n",
              "      <td>37.5627</td>\n",
              "      <td>127.179</td>\n",
              "      <td>37.5702</td>\n",
              "      <td>127.179</td>\n",
              "      <td>37.5702</td>\n",
              "      <td>127.179</td>\n",
              "    </tr>\n",
              "  </tbody>\n",
              "</table>\n",
              "<p>1832 rows × 8 columns</p>\n",
              "</div>"
            ],
            "text/plain": [
              "     bottom_left_y bottom_left_x  ... top_right_y topright_x\n",
              "0          37.5553       126.766  ...     37.5627    126.766\n",
              "1          37.5553        126.77  ...     37.5627     126.77\n",
              "2          37.5553       126.775  ...     37.5627    126.775\n",
              "3          37.5478       126.779  ...     37.5553    126.779\n",
              "4          37.5553       126.779  ...     37.5627    126.779\n",
              "...            ...           ...  ...         ...        ...\n",
              "1827       37.5702       127.175  ...     37.5777    127.175\n",
              "1828       37.5777       127.175  ...     37.5851    127.175\n",
              "1829       37.5478       127.179  ...     37.5553    127.179\n",
              "1830       37.5553       127.179  ...     37.5627    127.179\n",
              "1831       37.5627       127.179  ...     37.5702    127.179\n",
              "\n",
              "[1832 rows x 8 columns]"
            ]
          },
          "metadata": {
            "tags": []
          },
          "execution_count": 128
        }
      ]
    },
    {
      "cell_type": "code",
      "metadata": {
        "id": "NijqJ9pBan1N"
      },
      "source": [
        "df2.to_csv('/content/drive/My Drive/elice_miniProject/seoul_500m.csv',index=False,encoding='utf-8')"
      ],
      "execution_count": null,
      "outputs": []
    },
    {
      "cell_type": "code",
      "metadata": {
        "id": "nu2RDkmJaPvR"
      },
      "source": [
        "lines = df['bottom_left']"
      ],
      "execution_count": null,
      "outputs": []
    },
    {
      "cell_type": "code",
      "metadata": {
        "colab": {
          "base_uri": "https://localhost:8080/",
          "height": 1000
        },
        "id": "WUJt-lofaBIQ",
        "outputId": "6b652d7e-b9de-438d-fd84-c6bbd8015484"
      },
      "source": [
        "## 시각화로 데이터를 잘 가져왔는지 확인 \r\n",
        "\r\n",
        "import folium \r\n",
        "\r\n",
        "m = folium.Map(\r\n",
        "    location=[37.5838699,127.0565831],\r\n",
        "    zoom_start=10\r\n",
        ")\r\n",
        "\r\n",
        "## 서울 행정구역 경계 좌표\r\n",
        "with open('/content/drive/My Drive/elice_miniProject/geo.json',mode='rt',encoding='utf-8') as f:\r\n",
        "    geo = json.loads(f.read())\r\n",
        "    f.close()\r\n",
        "## 행정구역 좌표에 따라 실선 및 채우기\r\n",
        "folium.GeoJson(\r\n",
        "    geo,\r\n",
        "    name='seoul_municipalities'\r\n",
        ").add_to(m)\r\n",
        "\r\n",
        "## 구한 좌표의 bottom left를 따라 실선 \r\n",
        "folium.PolyLine(\r\n",
        "    locations = lines,\r\n",
        "    tooltip = 'PolyLine'\r\n",
        ").add_to(m)\r\n",
        "\r\n",
        "m.save('map.html')\r\n",
        "m"
      ],
      "execution_count": null,
      "outputs": [
        {
          "output_type": "execute_result",
          "data": {
            "text/html": [
              "<div style=\"width:100%;\"><div style=\"position:relative;width:100%;height:0;padding-bottom:60%;\"><span style=\"color:#565656\">Make this Notebook Trusted to load map: File -> Trust Notebook</span><iframe src=\"about:blank\" style=\"position:absolute;width:100%;height:100%;left:0;top:0;border:none !important;\" data-html=%3C%21DOCTYPE%20html%3E%0A%3Chead%3E%20%20%20%20%0A%20%20%20%20%3Cmeta%20http-equiv%3D%22content-type%22%20content%3D%22text/html%3B%20charset%3DUTF-8%22%20/%3E%0A%20%20%20%20%3Cscript%3EL_PREFER_CANVAS%3Dfalse%3B%20L_NO_TOUCH%3Dfalse%3B%20L_DISABLE_3D%3Dfalse%3B%3C/script%3E%0A%20%20%20%20%3Cscript%20src%3D%22https%3A//cdn.jsdelivr.net/npm/leaflet%401.4.0/dist/leaflet.js%22%3E%3C/script%3E%0A%20%20%20%20%3Cscript%20src%3D%22https%3A//code.jquery.com/jquery-1.12.4.min.js%22%3E%3C/script%3E%0A%20%20%20%20%3Cscript%20src%3D%22https%3A//maxcdn.bootstrapcdn.com/bootstrap/3.2.0/js/bootstrap.min.js%22%3E%3C/script%3E%0A%20%20%20%20%3Cscript%20src%3D%22https%3A//cdnjs.cloudflare.com/ajax/libs/Leaflet.awesome-markers/2.0.2/leaflet.awesome-markers.js%22%3E%3C/script%3E%0A%20%20%20%20%3Clink%20rel%3D%22stylesheet%22%20href%3D%22https%3A//cdn.jsdelivr.net/npm/leaflet%401.4.0/dist/leaflet.css%22/%3E%0A%20%20%20%20%3Clink%20rel%3D%22stylesheet%22%20href%3D%22https%3A//maxcdn.bootstrapcdn.com/bootstrap/3.2.0/css/bootstrap.min.css%22/%3E%0A%20%20%20%20%3Clink%20rel%3D%22stylesheet%22%20href%3D%22https%3A//maxcdn.bootstrapcdn.com/bootstrap/3.2.0/css/bootstrap-theme.min.css%22/%3E%0A%20%20%20%20%3Clink%20rel%3D%22stylesheet%22%20href%3D%22https%3A//maxcdn.bootstrapcdn.com/font-awesome/4.6.3/css/font-awesome.min.css%22/%3E%0A%20%20%20%20%3Clink%20rel%3D%22stylesheet%22%20href%3D%22https%3A//cdnjs.cloudflare.com/ajax/libs/Leaflet.awesome-markers/2.0.2/leaflet.awesome-markers.css%22/%3E%0A%20%20%20%20%3Clink%20rel%3D%22stylesheet%22%20href%3D%22https%3A//rawcdn.githack.com/python-visualization/folium/master/folium/templates/leaflet.awesome.rotate.css%22/%3E%0A%20%20%20%20%3Cstyle%3Ehtml%2C%20body%20%7Bwidth%3A%20100%25%3Bheight%3A%20100%25%3Bmargin%3A%200%3Bpadding%3A%200%3B%7D%3C/style%3E%0A%20%20%20%20%3Cstyle%3E%23map%20%7Bposition%3Aabsolute%3Btop%3A0%3Bbottom%3A0%3Bright%3A0%3Bleft%3A0%3B%7D%3C/style%3E%0A%20%20%20%20%0A%20%20%20%20%3Cmeta%20name%3D%22viewport%22%20content%3D%22width%3Ddevice-width%2C%0A%20%20%20%20%20%20%20%20initial-scale%3D1.0%2C%20maximum-scale%3D1.0%2C%20user-scalable%3Dno%22%20/%3E%0A%20%20%20%20%3Cstyle%3E%23map_86adf8a4ad4d43d8aa99329ca407226d%20%7B%0A%20%20%20%20%20%20%20%20position%3A%20relative%3B%0A%20%20%20%20%20%20%20%20width%3A%20100.0%25%3B%0A%20%20%20%20%20%20%20%20height%3A%20100.0%25%3B%0A%20%20%20%20%20%20%20%20left%3A%200.0%25%3B%0A%20%20%20%20%20%20%20%20top%3A%200.0%25%3B%0A%20%20%20%20%20%20%20%20%7D%0A%20%20%20%20%3C/style%3E%0A%3C/head%3E%0A%3Cbody%3E%20%20%20%20%0A%20%20%20%20%0A%20%20%20%20%3Cdiv%20class%3D%22folium-map%22%20id%3D%22map_86adf8a4ad4d43d8aa99329ca407226d%22%20%3E%3C/div%3E%0A%3C/body%3E%0A%3Cscript%3E%20%20%20%20%0A%20%20%20%20%0A%20%20%20%20%0A%20%20%20%20%20%20%20%20var%20bounds%20%3D%20null%3B%0A%20%20%20%20%0A%0A%20%20%20%20var%20map_86adf8a4ad4d43d8aa99329ca407226d%20%3D%20L.map%28%0A%20%20%20%20%20%20%20%20%27map_86adf8a4ad4d43d8aa99329ca407226d%27%2C%20%7B%0A%20%20%20%20%20%20%20%20center%3A%20%5B37.5838699%2C%20127.0565831%5D%2C%0A%20%20%20%20%20%20%20%20zoom%3A%2010%2C%0A%20%20%20%20%20%20%20%20maxBounds%3A%20bounds%2C%0A%20%20%20%20%20%20%20%20layers%3A%20%5B%5D%2C%0A%20%20%20%20%20%20%20%20worldCopyJump%3A%20false%2C%0A%20%20%20%20%20%20%20%20crs%3A%20L.CRS.EPSG3857%2C%0A%20%20%20%20%20%20%20%20zoomControl%3A%20true%2C%0A%20%20%20%20%20%20%20%20%7D%29%3B%0A%0A%0A%20%20%20%20%0A%20%20%20%20var%20tile_layer_11dfe669c9bf45e2a307d9225b53356f%20%3D%20L.tileLayer%28%0A%20%20%20%20%20%20%20%20%27https%3A//%7Bs%7D.tile.openstreetmap.org/%7Bz%7D/%7Bx%7D/%7By%7D.png%27%2C%0A%20%20%20%20%20%20%20%20%7B%0A%20%20%20%20%20%20%20%20%22attribution%22%3A%20null%2C%0A%20%20%20%20%20%20%20%20%22detectRetina%22%3A%20false%2C%0A%20%20%20%20%20%20%20%20%22maxNativeZoom%22%3A%2018%2C%0A%20%20%20%20%20%20%20%20%22maxZoom%22%3A%2018%2C%0A%20%20%20%20%20%20%20%20%22minZoom%22%3A%200%2C%0A%20%20%20%20%20%20%20%20%22noWrap%22%3A%20false%2C%0A%20%20%20%20%20%20%20%20%22opacity%22%3A%201%2C%0A%20%20%20%20%20%20%20%20%22subdomains%22%3A%20%22abc%22%2C%0A%20%20%20%20%20%20%20%20%22tms%22%3A%20false%0A%7D%29.addTo%28map_86adf8a4ad4d43d8aa99329ca407226d%29%3B%0A%20%20%20%20%0A%20%20%20%20%20%20%20%20var%20geo_json_daa497612441406eb8246c9ddc017b58%20%3D%20L.geoJson%28%0A%20%20%20%20%20%20%20%20%20%20%20%20%7B%22features%22%3A%20%5B%7B%22geometry%22%3A%20%7B%22coordinates%22%3A%20%5B%5B%5B127.11519584981606%2C%2037.557533180704915%5D%2C%20%5B127.11879551821994%2C%2037.557222485451305%5D%2C%20%5B127.12146867175024%2C%2037.55986003393365%5D%2C%20%5B127.12435254630417%2C%2037.56144246249796%5D%2C%20%5B127.13593925898998%2C%2037.56564793048277%5D%2C%20%5B127.14930548011061%2C%2037.56892250303897%5D%2C%20%5B127.15511020940411%2C%2037.57093642128295%5D%2C%20%5B127.16683184366129%2C%2037.57672487388627%5D%2C%20%5B127.17038810813094%2C%2037.576465605301046%5D%2C%20%5B127.17607118428914%2C%2037.57678573961056%5D%2C%20%5B127.17905504160184%2C%2037.57791388161732%5D%2C%20%5B127.17747787800164%2C%2037.57448983055031%5D%2C%20%5B127.1781775408844%2C%2037.571481967974336%5D%2C%20%5B127.17995281860672%2C%2037.569309661290504%5D%2C%20%5B127.18122821955262%2C%2037.56636089217979%5D%2C%20%5B127.18169407550688%2C%2037.56286338914073%5D%2C%20%5B127.18408792330152%2C%2037.55814280369575%5D%2C%20%5B127.18350810324185%2C%2037.550053002101485%5D%2C%20%5B127.1852644795464%2C%2037.54888592026534%5D%2C%20%5B127.18480906237207%2C%2037.545296888806796%5D%2C%20%5B127.18543378919821%2C%2037.54260756512178%5D%2C%20%5B127.18364810569703%2C%2037.54241347907019%5D%2C%20%5B127.18116465939269%2C%2037.54384126582126%5D%2C%20%5B127.17770860504257%2C%2037.542414255164374%5D%2C%20%5B127.1744373170213%2C%2037.54277723796397%5D%2C%20%5B127.16830424484573%2C%2037.54145405702079%5D%2C%20%5B127.16530984307447%2C%2037.54221851258693%5D%2C%20%5B127.15566835118616%2C%2037.53119520531309%5D%2C%20%5B127.15538075046105%2C%2037.52652930087977%5D%2C%20%5B127.15154315998161%2C%2037.522828709496416%5D%2C%20%5B127.14981542759394%2C%2037.51926843453025%5D%2C%20%5B127.14791518058246%2C%2037.51918714979303%5D%2C%20%5B127.14684644251928%2C%2037.51661384818575%5D%2C%20%5B127.14672806823502%2C%2037.51415680680291%5D%2C%20%5B127.14532023498624%2C%2037.51464060108829%5D%2C%20%5B127.12123165719615%2C%2037.52528270089%5D%2C%20%5B127.12251496040881%2C%2037.52751810228347%5D%2C%20%5B127.12532464331997%2C%2037.53572787912298%5D%2C%20%5B127.12061313033807%2C%2037.538129867839416%5D%2C%20%5B127.1116764203608%2C%2037.540669955324965%5D%2C%20%5B127.11418412219375%2C%2037.54474592090681%5D%2C%20%5B127.11600200349189%2C%2037.55053147511706%5D%2C%20%5B127.11600943681239%2C%2037.55580061507081%5D%2C%20%5B127.11519584981606%2C%2037.557533180704915%5D%5D%5D%2C%20%22type%22%3A%20%22Polygon%22%7D%2C%20%22properties%22%3A%20%7B%22base_year%22%3A%20%222013%22%2C%20%22code%22%3A%20%2211250%22%2C%20%22highlight%22%3A%20%7B%7D%2C%20%22name%22%3A%20%22%5Cuac15%5Cub3d9%5Cuad6c%22%2C%20%22name_eng%22%3A%20%22Gangdong-gu%22%2C%20%22style%22%3A%20%7B%7D%7D%2C%20%22type%22%3A%20%22Feature%22%7D%2C%20%7B%22geometry%22%3A%20%7B%22coordinates%22%3A%20%5B%5B%5B127.0690698130372%2C%2037.522279423505026%5D%2C%20%5B127.07496309841329%2C%2037.52091052765938%5D%2C%20%5B127.07968915919895%2C%2037.52077294752823%5D%2C%20%5B127.08639455667742%2C%2037.52161824624356%5D%2C%20%5B127.0943611414465%2C%2037.523984206117525%5D%2C%20%5B127.10087519791962%2C%2037.524841220167055%5D%2C%20%5B127.10484130265957%2C%2037.53120327509912%5D%2C%20%5B127.1116764203608%2C%2037.540669955324965%5D%2C%20%5B127.12061313033807%2C%2037.538129867839416%5D%2C%20%5B127.12532464331997%2C%2037.53572787912298%5D%2C%20%5B127.12251496040881%2C%2037.52751810228347%5D%2C%20%5B127.12123165719615%2C%2037.52528270089%5D%2C%20%5B127.14532023498624%2C%2037.51464060108829%5D%2C%20%5B127.14672806823502%2C%2037.51415680680291%5D%2C%20%5B127.14670263739373%2C%2037.512786602955565%5D%2C%20%5B127.14462782318448%2C%2037.511529542030715%5D%2C%20%5B127.14323992504048%2C%2037.50951977457089%5D%2C%20%5B127.1420864475393%2C%2037.50578973782813%5D%2C%20%5B127.14324986168657%2C%2037.502649431479774%5D%2C%20%5B127.1473517108062%2C%2037.50069754405746%5D%2C%20%5B127.14980119646964%2C%2037.50046502392898%5D%2C%20%5B127.15223804785649%2C%2037.50170492532197%5D%2C%20%5B127.15401160147654%2C%2037.500347919909956%5D%2C%20%5B127.16086308579277%2C%2037.49886565522751%5D%2C%20%5B127.1634944215765%2C%2037.497445406097484%5D%2C%20%5B127.16199885180917%2C%2037.49402577547199%5D%2C%20%5B127.16216448592424%2C%2037.491639601211624%5D%2C%20%5B127.16040295326431%2C%2037.4877818619403%5D%2C%20%5B127.15892216655034%2C%2037.486126922469445%5D%2C%20%5B127.15393282790794%2C%2037.48483891408459%5D%2C%20%5B127.15147990997852%2C%2037.47745324805034%5D%2C%20%5B127.1515017465549%2C%2037.475633269417585%5D%2C%20%5B127.14857580353349%2C%2037.47381386382568%5D%2C%20%5B127.14415938171436%2C%2037.473692508393505%5D%2C%20%5B127.14112111404233%2C%2037.470600239054825%5D%2C%20%5B127.13631568648837%2C%2037.47214721764681%5D%2C%20%5B127.13281577200672%2C%2037.47257463763244%5D%2C%20%5B127.13307493070646%2C%2037.468907694139894%5D%2C%20%5B127.13750907701846%2C%2037.46647058226059%5D%2C%20%5B127.13478085797742%2C%2037.46509524639883%5D%2C%20%5B127.1308437061496%2C%2037.46509985661207%5D%2C%20%5B127.12728991002369%2C%2037.46673043118672%5D%2C%20%5B127.12729757787379%2C%2037.46421548908766%5D%2C%20%5B127.12440571080893%2C%2037.46240445587048%5D%2C%20%5B127.12441393026374%2C%2037.46442715236855%5D%2C%20%5B127.12265007208167%2C%2037.46756987490939%5D%2C%20%5B127.11380709617507%2C%2037.479633334849325%5D%2C%20%5B127.1143875173445%2C%2037.48073157362458%5D%2C%20%5B127.11117085201238%2C%2037.485708381512445%5D%2C%20%5B127.1077937689776%2C%2037.48860875954992%5D%2C%20%5B127.10433125798602%2C%2037.490728250649646%5D%2C%20%5B127.0988509639092%2C%2037.49302529254068%5D%2C%20%5B127.08050206733888%2C%2037.49783151325589%5D%2C%20%5B127.0764808967127%2C%2037.498612695580306%5D%2C%20%5B127.0719146000724%2C%2037.50224013587669%5D%2C%20%5B127.06926628842805%2C%2037.51717796437217%5D%2C%20%5B127.06860425556381%2C%2037.51812758676938%5D%2C%20%5B127.0690698130372%2C%2037.522279423505026%5D%5D%5D%2C%20%22type%22%3A%20%22Polygon%22%7D%2C%20%22properties%22%3A%20%7B%22base_year%22%3A%20%222013%22%2C%20%22code%22%3A%20%2211240%22%2C%20%22highlight%22%3A%20%7B%7D%2C%20%22name%22%3A%20%22%5Cuc1a1%5Cud30c%5Cuad6c%22%2C%20%22name_eng%22%3A%20%22Songpa-gu%22%2C%20%22style%22%3A%20%7B%7D%7D%2C%20%22type%22%3A%20%22Feature%22%7D%2C%20%7B%22geometry%22%3A%20%7B%22coordinates%22%3A%20%5B%5B%5B127.05867359288398%2C%2037.52629974922568%5D%2C%20%5B127.0690698130372%2C%2037.522279423505026%5D%2C%20%5B127.06860425556381%2C%2037.51812758676938%5D%2C%20%5B127.06926628842805%2C%2037.51717796437217%5D%2C%20%5B127.0719146000724%2C%2037.50224013587669%5D%2C%20%5B127.0764808967127%2C%2037.498612695580306%5D%2C%20%5B127.08050206733888%2C%2037.49783151325589%5D%2C%20%5B127.0988509639092%2C%2037.49302529254068%5D%2C%20%5B127.10433125798602%2C%2037.490728250649646%5D%2C%20%5B127.1077937689776%2C%2037.48860875954992%5D%2C%20%5B127.11117085201238%2C%2037.485708381512445%5D%2C%20%5B127.1143875173445%2C%2037.48073157362458%5D%2C%20%5B127.11380709617507%2C%2037.479633334849325%5D%2C%20%5B127.12265007208167%2C%2037.46756987490939%5D%2C%20%5B127.12441393026374%2C%2037.46442715236855%5D%2C%20%5B127.12440571080893%2C%2037.46240445587048%5D%2C%20%5B127.11957248720776%2C%2037.45936217377656%5D%2C%20%5B127.11885903757606%2C%2037.45578434878651%5D%2C%20%5B127.11535741803938%2C%2037.45722556454321%5D%2C%20%5B127.11413179478714%2C%2037.45875072431525%5D%2C%20%5B127.10841788934951%2C%2037.45972888008147%5D%2C%20%5B127.10561257180657%2C%2037.456815702518746%5D%2C%20%5B127.10032466845217%2C%2037.45598440195682%5D%2C%20%5B127.09842759318751%2C%2037.45862253857461%5D%2C%20%5B127.09712653145507%2C%2037.460848194480654%5D%2C%20%5B127.09039613625872%2C%2037.465520545397716%5D%2C%20%5B127.0866005634691%2C%2037.47006403057779%5D%2C%20%5B127.08640440578156%2C%2037.472697935184655%5D%2C%20%5B127.0802737559454%2C%2037.471973057552624%5D%2C%20%5B127.07602132306535%2C%2037.47005021331707%5D%2C%20%5B127.07476117209941%2C%2037.47199174520626%5D%2C%20%5B127.07231320371885%2C%2037.47234914588019%5D%2C%20%5B127.07135137525977%2C%2037.47107802023145%5D%2C%20%5B127.06463901956462%2C%2037.47003474490574%5D%2C%20%5B127.06371868919344%2C%2037.4661503234869%5D%2C%20%5B127.0588551029968%2C%2037.465611780743174%5D%2C%20%5B127.0559170481904%2C%2037.4659228914077%5D%2C%20%5B127.04713549385288%2C%2037.474479419244865%5D%2C%20%5B127.04345123620755%2C%2037.48276415595109%5D%2C%20%5B127.03621915098798%2C%2037.48175802427603%5D%2C%20%5B127.03372275812187%2C%2037.48674434662411%5D%2C%20%5B127.02265609299096%2C%2037.509970106251416%5D%2C%20%5B127.02038705349842%2C%2037.51771683027875%5D%2C%20%5B127.01917707838057%2C%2037.520085205855196%5D%2C%20%5B127.01397119667513%2C%2037.52503988289669%5D%2C%20%5B127.02302831890559%2C%2037.53231899582663%5D%2C%20%5B127.0269608080842%2C%2037.53484752757724%5D%2C%20%5B127.0319617044248%2C%2037.536064291470424%5D%2C%20%5B127.04806779588436%2C%2037.52970198575087%5D%2C%20%5B127.04903802830752%2C%2037.53140496708317%5D%2C%20%5B127.05116490008963%2C%2037.52975116557232%5D%2C%20%5B127.05867359288398%2C%2037.52629974922568%5D%5D%5D%2C%20%22type%22%3A%20%22Polygon%22%7D%2C%20%22properties%22%3A%20%7B%22base_year%22%3A%20%222013%22%2C%20%22code%22%3A%20%2211230%22%2C%20%22highlight%22%3A%20%7B%7D%2C%20%22name%22%3A%20%22%5Cuac15%5Cub0a8%5Cuad6c%22%2C%20%22name_eng%22%3A%20%22Gangnam-gu%22%2C%20%22style%22%3A%20%7B%7D%7D%2C%20%22type%22%3A%20%22Feature%22%7D%2C%20%7B%22geometry%22%3A%20%7B%22coordinates%22%3A%20%5B%5B%5B127.01397119667513%2C%2037.52503988289669%5D%2C%20%5B127.01917707838057%2C%2037.520085205855196%5D%2C%20%5B127.02038705349842%2C%2037.51771683027875%5D%2C%20%5B127.02265609299096%2C%2037.509970106251416%5D%2C%20%5B127.03372275812187%2C%2037.48674434662411%5D%2C%20%5B127.03621915098798%2C%2037.48175802427603%5D%2C%20%5B127.04345123620755%2C%2037.48276415595109%5D%2C%20%5B127.04713549385288%2C%2037.474479419244865%5D%2C%20%5B127.0559170481904%2C%2037.4659228914077%5D%2C%20%5B127.0588551029968%2C%2037.465611780743174%5D%2C%20%5B127.06371868919344%2C%2037.4661503234869%5D%2C%20%5B127.06463901956462%2C%2037.47003474490574%5D%2C%20%5B127.07135137525977%2C%2037.47107802023145%5D%2C%20%5B127.07231320371885%2C%2037.47234914588019%5D%2C%20%5B127.07476117209941%2C%2037.47199174520626%5D%2C%20%5B127.07602132306535%2C%2037.47005021331707%5D%2C%20%5B127.0802737559454%2C%2037.471973057552624%5D%2C%20%5B127.08640440578156%2C%2037.472697935184655%5D%2C%20%5B127.0866005634691%2C%2037.47006403057779%5D%2C%20%5B127.09039613625872%2C%2037.465520545397716%5D%2C%20%5B127.09712653145507%2C%2037.460848194480654%5D%2C%20%5B127.09842759318751%2C%2037.45862253857461%5D%2C%20%5B127.09673714758375%2C%2037.45597209899094%5D%2C%20%5B127.09722129576434%2C%2037.45374822681991%5D%2C%20%5B127.09575982122928%2C%2037.45332980525459%5D%2C%20%5B127.09472136159357%2C%2037.450897902539175%5D%2C%20%5B127.09293250684935%2C%2037.450020696864506%5D%2C%20%5B127.09047890749349%2C%2037.44637473407341%5D%2C%20%5B127.09046928565951%2C%2037.44296826114185%5D%2C%20%5B127.0862358725955%2C%2037.44118543250345%5D%2C%20%5B127.08441983692467%2C%2037.4383879031398%5D%2C%20%5B127.07686576585408%2C%2037.43960712011444%5D%2C%20%5B127.07375875606847%2C%2037.43898415920535%5D%2C%20%5B127.07407631675713%2C%2037.43719357187124%5D%2C%20%5B127.07666569012467%2C%2037.43600054505559%5D%2C%20%5B127.07603719210388%2C%2037.43429107517633%5D%2C%20%5B127.07361291761038%2C%2037.43318474533595%5D%2C%20%5B127.07271473569163%2C%2037.42939553659177%5D%2C%20%5B127.0733788318578%2C%2037.42814484786288%5D%2C%20%5B127.06885354151605%2C%2037.42731815367302%5D%2C%20%5B127.06778107605433%2C%2037.426197424057314%5D%2C%20%5B127.06317558623768%2C%2037.4272916178182%5D%2C%20%5B127.05998777565219%2C%2037.4273224867045%5D%2C%20%5B127.05424556064274%2C%2037.42574929824175%5D%2C%20%5B127.05197080928994%2C%2037.42749842502397%5D%2C%20%5B127.04960937636815%2C%2037.42801020057224%5D%2C%20%5B127.04849622718511%2C%2037.430672016902065%5D%2C%20%5B127.04191594772718%2C%2037.43568906449929%5D%2C%20%5B127.0379686253535%2C%2037.43634417139204%5D%2C%20%5B127.03751805596916%2C%2037.438362795245276%5D%2C%20%5B127.04031700689708%2C%2037.44191429311459%5D%2C%20%5B127.03959875976469%2C%2037.443582700519194%5D%2C%20%5B127.0398984887873%2C%2037.44656106007936%5D%2C%20%5B127.03825522385397%2C%2037.448766467898395%5D%2C%20%5B127.03916301678915%2C%2037.45180237055558%5D%2C%20%5B127.03881782597922%2C%2037.45382039851715%5D%2C%20%5B127.03695436044305%2C%2037.45537592726508%5D%2C%20%5B127.03573307034355%2C%2037.4586703897792%5D%2C%20%5B127.03683946894893%2C%2037.46103886642786%5D%2C%20%5B127.03337331972266%2C%2037.462966775127626%5D%2C%20%5B127.02820831539744%2C%2037.455700834295826%5D%2C%20%5B127.02263694708293%2C%2037.45335816711404%5D%2C%20%5B127.01827371395349%2C%2037.4525593623189%5D%2C%20%5B127.01316256500736%2C%2037.45257906566242%5D%2C%20%5B127.01110931353561%2C%2037.45456166745922%5D%2C%20%5B127.00836380369604%2C%2037.45936868039916%5D%2C%20%5B127.00738548779366%2C%2037.459815333664274%5D%2C%20%5B127.00552362663117%2C%2037.46445102893571%5D%2C%20%5B127.00008523087483%2C%2037.46455774995882%5D%2C%20%5B126.99837609897334%2C%2037.46390918086617%5D%2C%20%5B126.99932142462428%2C%2037.46113351815481%5D%2C%20%5B126.99893310307874%2C%2037.459376062410314%5D%2C%20%5B126.9953054179472%2C%2037.45860121328987%5D%2C%20%5B126.99072073195462%2C%2037.455326143310025%5D%2C%20%5B126.98956736277059%2C%2037.457600756400446%5D%2C%20%5B126.99026416700147%2C%2037.46271603227842%5D%2C%20%5B126.98896316546526%2C%2037.465041871263544%5D%2C%20%5B126.98662755598336%2C%2037.466937278295305%5D%2C%20%5B126.9846374349825%2C%2037.46996301876212%5D%2C%20%5B126.98367668291802%2C%2037.473856492692086%5D%2C%20%5B126.98500224966135%2C%2037.49356837311327%5D%2C%20%5B126.9871787157338%2C%2037.49719505997539%5D%2C%20%5B126.9832495184969%2C%2037.49948552591205%5D%2C%20%5B126.98241580381733%2C%2037.50120029501884%5D%2C%20%5B126.98223807916081%2C%2037.509314966770326%5D%2C%20%5B126.98458580602838%2C%2037.51070333105394%5D%2C%20%5B126.98948242685965%2C%2037.5108780134613%5D%2C%20%5B126.99148001917875%2C%2037.50990503427709%5D%2C%20%5B127.00011962020382%2C%2037.513901653034374%5D%2C%20%5B127.00583392114271%2C%2037.516905128452926%5D%2C%20%5B127.00818058911564%2C%2037.51877313923874%5D%2C%20%5B127.01022186960886%2C%2037.522020085671926%5D%2C%20%5B127.01397119667513%2C%2037.52503988289669%5D%5D%5D%2C%20%22type%22%3A%20%22Polygon%22%7D%2C%20%22properties%22%3A%20%7B%22base_year%22%3A%20%222013%22%2C%20%22code%22%3A%20%2211220%22%2C%20%22highlight%22%3A%20%7B%7D%2C%20%22name%22%3A%20%22%5Cuc11c%5Cucd08%5Cuad6c%22%2C%20%22name_eng%22%3A%20%22Seocho-gu%22%2C%20%22style%22%3A%20%7B%7D%7D%2C%20%22type%22%3A%20%22Feature%22%7D%2C%20%7B%22geometry%22%3A%20%7B%22coordinates%22%3A%20%5B%5B%5B126.98367668291802%2C%2037.473856492692086%5D%2C%20%5B126.9846374349825%2C%2037.46996301876212%5D%2C%20%5B126.98662755598336%2C%2037.466937278295305%5D%2C%20%5B126.98896316546526%2C%2037.465041871263544%5D%2C%20%5B126.99026416700147%2C%2037.46271603227842%5D%2C%20%5B126.98956736277059%2C%2037.457600756400446%5D%2C%20%5B126.99072073195462%2C%2037.455326143310025%5D%2C%20%5B126.98484249930785%2C%2037.45391909788938%5D%2C%20%5B126.9829408096241%2C%2037.450206782833206%5D%2C%20%5B126.97835022660695%2C%2037.447659155806164%5D%2C%20%5B126.97608193440507%2C%2037.44478918862847%5D%2C%20%5B126.9731300196836%2C%2037.444722870088114%5D%2C%20%5B126.96650852936277%2C%2037.44276983031553%5D%2C%20%5B126.96618702895445%2C%2037.439376482995094%5D%2C%20%5B126.96520439085143%2C%2037.438249784006246%5D%2C%20%5B126.9614877541633%2C%2037.437956805629675%5D%2C%20%5B126.96054904645496%2C%2037.43673997185797%5D%2C%20%5B126.95527369898224%2C%2037.43673711968809%5D%2C%20%5B126.9473688393239%2C%2037.4347689647565%5D%2C%20%5B126.94440352544498%2C%2037.43476162120059%5D%2C%20%5B126.9415292183489%2C%2037.43315139671158%5D%2C%20%5B126.94037501670272%2C%2037.43462213966344%5D%2C%20%5B126.9405640311191%2C%2037.437501011208845%5D%2C%20%5B126.9376981355065%2C%2037.44041709605302%5D%2C%20%5B126.93312955918624%2C%2037.44290014710262%5D%2C%20%5B126.93309127096236%2C%2037.44533734785938%5D%2C%20%5B126.93084408056525%2C%2037.447382928333994%5D%2C%20%5B126.92527839995981%2C%2037.45161884570837%5D%2C%20%5B126.9245243450059%2C%2037.45392293573877%5D%2C%20%5B126.91887928082078%2C%2037.45495082787016%5D%2C%20%5B126.9167728146601%2C%2037.45490566423789%5D%2C%20%5B126.91641538472182%2C%2037.45870245071989%5D%2C%20%5B126.91495285904284%2C%2037.461166184511065%5D%2C%20%5B126.91584245173756%2C%2037.462474576247985%5D%2C%20%5B126.91374656127704%2C%2037.46375990852858%5D%2C%20%5B126.91032166997253%2C%2037.469818629944285%5D%2C%20%5B126.91280966667205%2C%2037.47083063715413%5D%2C%20%5B126.91405961426707%2C%2037.47416764846582%5D%2C%20%5B126.9115784808617%2C%2037.4753960485947%5D%2C%20%5B126.91181700249076%2C%2037.47814319736339%5D%2C%20%5B126.90276666415615%2C%2037.47652007992712%5D%2C%20%5B126.90156094129895%2C%2037.47753842789901%5D%2C%20%5B126.90531975801812%2C%2037.48218087575429%5D%2C%20%5B126.90805655355825%2C%2037.48218338568103%5D%2C%20%5B126.91533979779165%2C%2037.484392208242134%5D%2C%20%5B126.91916807529428%2C%2037.48660606817164%5D%2C%20%5B126.92639563063156%2C%2037.48715979752876%5D%2C%20%5B126.92869559665061%2C%2037.49132126714011%5D%2C%20%5B126.92981699800066%2C%2037.49218420958284%5D%2C%20%5B126.93346386636452%2C%2037.49043826776755%5D%2C%20%5B126.93669800083833%2C%2037.49026778789087%5D%2C%20%5B126.93844070234584%2C%2037.4893532861132%5D%2C%20%5B126.94373156012337%2C%2037.48938843727846%5D%2C%20%5B126.94922661389508%2C%2037.49125437495649%5D%2C%20%5B126.95396955055433%2C%2037.48955250290043%5D%2C%20%5B126.9559655046206%2C%2037.48820165625994%5D%2C%20%5B126.95881175306481%2C%2037.48874989165474%5D%2C%20%5B126.96329694970828%2C%2037.4905835370787%5D%2C%20%5B126.96291787066104%2C%2037.48803272157808%5D%2C%20%5B126.96443983219191%2C%2037.48442261322104%5D%2C%20%5B126.9634428120456%2C%2037.48067931902171%5D%2C%20%5B126.9725891850662%2C%2037.472561363278125%5D%2C%20%5B126.97901795539295%2C%2037.47376525108475%5D%2C%20%5B126.98367668291802%2C%2037.473856492692086%5D%5D%5D%2C%20%22type%22%3A%20%22Polygon%22%7D%2C%20%22properties%22%3A%20%7B%22base_year%22%3A%20%222013%22%2C%20%22code%22%3A%20%2211210%22%2C%20%22highlight%22%3A%20%7B%7D%2C%20%22name%22%3A%20%22%5Cuad00%5Cuc545%5Cuad6c%22%2C%20%22name_eng%22%3A%20%22Gwanak-gu%22%2C%20%22style%22%3A%20%7B%7D%7D%2C%20%22type%22%3A%20%22Feature%22%7D%2C%20%7B%22geometry%22%3A%20%7B%22coordinates%22%3A%20%5B%5B%5B126.98223807916081%2C%2037.509314966770326%5D%2C%20%5B126.98241580381733%2C%2037.50120029501884%5D%2C%20%5B126.9832495184969%2C%2037.49948552591205%5D%2C%20%5B126.9871787157338%2C%2037.49719505997539%5D%2C%20%5B126.98500224966135%2C%2037.49356837311327%5D%2C%20%5B126.98367668291802%2C%2037.473856492692086%5D%2C%20%5B126.97901795539295%2C%2037.47376525108475%5D%2C%20%5B126.9725891850662%2C%2037.472561363278125%5D%2C%20%5B126.9634428120456%2C%2037.48067931902171%5D%2C%20%5B126.96443983219191%2C%2037.48442261322104%5D%2C%20%5B126.96291787066104%2C%2037.48803272157808%5D%2C%20%5B126.96329694970828%2C%2037.4905835370787%5D%2C%20%5B126.95881175306481%2C%2037.48874989165474%5D%2C%20%5B126.9559655046206%2C%2037.48820165625994%5D%2C%20%5B126.95396955055433%2C%2037.48955250290043%5D%2C%20%5B126.94922661389508%2C%2037.49125437495649%5D%2C%20%5B126.94373156012337%2C%2037.48938843727846%5D%2C%20%5B126.93844070234584%2C%2037.4893532861132%5D%2C%20%5B126.93669800083833%2C%2037.49026778789087%5D%2C%20%5B126.93346386636452%2C%2037.49043826776755%5D%2C%20%5B126.92981699800066%2C%2037.49218420958284%5D%2C%20%5B126.92869559665061%2C%2037.49132126714011%5D%2C%20%5B126.92639563063156%2C%2037.48715979752876%5D%2C%20%5B126.91916807529428%2C%2037.48660606817164%5D%2C%20%5B126.91533979779165%2C%2037.484392208242134%5D%2C%20%5B126.90805655355825%2C%2037.48218338568103%5D%2C%20%5B126.90531975801812%2C%2037.48218087575429%5D%2C%20%5B126.91461888105147%2C%2037.493581242537296%5D%2C%20%5B126.92177893174825%2C%2037.494889877415176%5D%2C%20%5B126.9232469824303%2C%2037.49928149943772%5D%2C%20%5B126.92749463764046%2C%2037.50985955934051%5D%2C%20%5B126.92919938332032%2C%2037.51019685838638%5D%2C%20%5B126.92810628828279%2C%2037.51329595732015%5D%2C%20%5B126.93453120783802%2C%2037.5128512712934%5D%2C%20%5B126.94407346439685%2C%2037.51463101265907%5D%2C%20%5B126.95249990298159%2C%2037.51722500741813%5D%2C%20%5B126.95551848909955%2C%2037.514736123015844%5D%2C%20%5B126.95950268374823%2C%2037.51249532165974%5D%2C%20%5B126.96670111119346%2C%2037.50997579058433%5D%2C%20%5B126.98223807916081%2C%2037.509314966770326%5D%5D%5D%2C%20%22type%22%3A%20%22Polygon%22%7D%2C%20%22properties%22%3A%20%7B%22base_year%22%3A%20%222013%22%2C%20%22code%22%3A%20%2211200%22%2C%20%22highlight%22%3A%20%7B%7D%2C%20%22name%22%3A%20%22%5Cub3d9%5Cuc791%5Cuad6c%22%2C%20%22name_eng%22%3A%20%22Dongjak-gu%22%2C%20%22style%22%3A%20%7B%7D%7D%2C%20%22type%22%3A%20%22Feature%22%7D%2C%20%7B%22geometry%22%3A%20%7B%22coordinates%22%3A%20%5B%5B%5B126.89184663862764%2C%2037.547373974997114%5D%2C%20%5B126.90281125423546%2C%2037.54133630026083%5D%2C%20%5B126.90829204147958%2C%2037.539206065016785%5D%2C%20%5B126.93132557924062%2C%2037.53415416375281%5D%2C%20%5B126.93680342222562%2C%2037.53344577095931%5D%2C%20%5B126.94566733083212%2C%2037.526617542453366%5D%2C%20%5B126.9488066464266%2C%2037.52424913252661%5D%2C%20%5B126.95003825019774%2C%2037.520781022055274%5D%2C%20%5B126.95249990298159%2C%2037.51722500741813%5D%2C%20%5B126.94407346439685%2C%2037.51463101265907%5D%2C%20%5B126.93453120783802%2C%2037.5128512712934%5D%2C%20%5B126.92810628828279%2C%2037.51329595732015%5D%2C%20%5B126.92919938332032%2C%2037.51019685838638%5D%2C%20%5B126.92749463764046%2C%2037.50985955934051%5D%2C%20%5B126.9232469824303%2C%2037.49928149943772%5D%2C%20%5B126.92177893174825%2C%2037.494889877415176%5D%2C%20%5B126.91461888105147%2C%2037.493581242537296%5D%2C%20%5B126.90531975801812%2C%2037.48218087575429%5D%2C%20%5B126.90260188508027%2C%2037.48282626920736%5D%2C%20%5B126.89861362258316%2C%2037.48625405368759%5D%2C%20%5B126.89581061458084%2C%2037.49391346191318%5D%2C%20%5B126.89549571721683%2C%2037.50033127915717%5D%2C%20%5B126.89594776782485%2C%2037.504675281309176%5D%2C%20%5B126.89253696873205%2C%2037.50875582175844%5D%2C%20%5B126.88156402353862%2C%2037.513970034765684%5D%2C%20%5B126.88191372979959%2C%2037.51939416754389%5D%2C%20%5B126.88260109180834%2C%2037.52242565920786%5D%2C%20%5B126.88382776477316%2C%2037.52352483439659%5D%2C%20%5B126.88904768965743%2C%2037.525856504359034%5D%2C%20%5B126.89057378109133%2C%2037.52792091672938%5D%2C%20%5B126.89213569003026%2C%2037.52757969298779%5D%2C%20%5B126.89361739665432%2C%2037.53033899535983%5D%2C%20%5B126.89339176028666%2C%2037.533030814524004%5D%2C%20%5B126.88938421776182%2C%2037.54060159145325%5D%2C%20%5B126.88825757860099%2C%2037.54079733630232%5D%2C%20%5B126.88736718003831%2C%2037.54350482420959%5D%2C%20%5B126.89184663862764%2C%2037.547373974997114%5D%5D%5D%2C%20%22type%22%3A%20%22Polygon%22%7D%2C%20%22properties%22%3A%20%7B%22base_year%22%3A%20%222013%22%2C%20%22code%22%3A%20%2211190%22%2C%20%22highlight%22%3A%20%7B%7D%2C%20%22name%22%3A%20%22%5Cuc601%5Cub4f1%5Cud3ec%5Cuad6c%22%2C%20%22name_eng%22%3A%20%22Yeongdeungpo-gu%22%2C%20%22style%22%3A%20%7B%7D%7D%2C%20%22type%22%3A%20%22Feature%22%7D%2C%20%7B%22geometry%22%3A%20%7B%22coordinates%22%3A%20%5B%5B%5B126.90156094129895%2C%2037.47753842789901%5D%2C%20%5B126.90276666415615%2C%2037.47652007992712%5D%2C%20%5B126.91181700249076%2C%2037.47814319736339%5D%2C%20%5B126.9115784808617%2C%2037.4753960485947%5D%2C%20%5B126.91405961426707%2C%2037.47416764846582%5D%2C%20%5B126.91280966667205%2C%2037.47083063715413%5D%2C%20%5B126.91032166997253%2C%2037.469818629944285%5D%2C%20%5B126.91374656127704%2C%2037.46375990852858%5D%2C%20%5B126.91584245173756%2C%2037.462474576247985%5D%2C%20%5B126.91495285904284%2C%2037.461166184511065%5D%2C%20%5B126.91641538472182%2C%2037.45870245071989%5D%2C%20%5B126.9167728146601%2C%2037.45490566423789%5D%2C%20%5B126.91887928082078%2C%2037.45495082787016%5D%2C%20%5B126.9245243450059%2C%2037.45392293573877%5D%2C%20%5B126.92527839995981%2C%2037.45161884570837%5D%2C%20%5B126.93084408056525%2C%2037.447382928333994%5D%2C%20%5B126.9255681646224%2C%2037.44377627841776%5D%2C%20%5B126.92318732232543%2C%2037.44131494528283%5D%2C%20%5B126.92199241717724%2C%2037.43848070111403%5D%2C%20%5B126.92004664118903%2C%2037.43708741729147%5D%2C%20%5B126.91641802826501%2C%2037.43722730676683%5D%2C%20%5B126.91344497343947%2C%2037.43474365720405%5D%2C%20%5B126.91082677485002%2C%2037.43100963341445%5D%2C%20%5B126.90487628022693%2C%2037.43129996372531%5D%2C%20%5B126.90480610062333%2C%2037.433123813599884%5D%2C%20%5B126.90147608259903%2C%2037.4353323892334%5D%2C%20%5B126.90081465102077%2C%2037.436498759868456%5D%2C%20%5B126.90105333433885%2C%2037.44031094924801%5D%2C%20%5B126.90031753853916%2C%2037.441844173154756%5D%2C%20%5B126.89768314223053%2C%2037.442906858137974%5D%2C%20%5B126.89812451590424%2C%2037.44551117837958%5D%2C%20%5B126.89616541233094%2C%2037.44983024861048%5D%2C%20%5B126.8947204038491%2C%2037.4491097366517%5D%2C%20%5B126.89157226377172%2C%2037.449944282396714%5D%2C%20%5B126.89113632562855%2C%2037.45236898205529%5D%2C%20%5B126.88831381741582%2C%2037.45357939777933%5D%2C%20%5B126.88826482749008%2C%2037.45663270152334%5D%2C%20%5B126.89074130059865%2C%2037.45966561796733%5D%2C%20%5B126.88198617469523%2C%2037.469975509557976%5D%2C%20%5B126.87874781843654%2C%2037.47475533620029%5D%2C%20%5B126.87553760781829%2C%2037.48186220368496%5D%2C%20%5B126.87683271502428%2C%2037.482576591607305%5D%2C%20%5B126.88079109105627%2C%2037.48378287831426%5D%2C%20%5B126.8827497570056%2C%2037.48316340563878%5D%2C%20%5B126.88803217321346%2C%2037.47975290808737%5D%2C%20%5B126.89116882970154%2C%2037.47681803032367%5D%2C%20%5B126.89689977603885%2C%2037.47570593888643%5D%2C%20%5B126.90104536043339%2C%2037.47614746588584%5D%2C%20%5B126.90156094129895%2C%2037.47753842789901%5D%5D%5D%2C%20%22type%22%3A%20%22Polygon%22%7D%2C%20%22properties%22%3A%20%7B%22base_year%22%3A%20%222013%22%2C%20%22code%22%3A%20%2211180%22%2C%20%22highlight%22%3A%20%7B%7D%2C%20%22name%22%3A%20%22%5Cuae08%5Cucc9c%5Cuad6c%22%2C%20%22name_eng%22%3A%20%22Geumcheon-gu%22%2C%20%22style%22%3A%20%7B%7D%7D%2C%20%22type%22%3A%20%22Feature%22%7D%2C%20%7B%22geometry%22%3A%20%7B%22coordinates%22%3A%20%5B%5B%5B126.82688081517314%2C%2037.50548972232896%5D%2C%20%5B126.8312211095328%2C%2037.50541191299514%5D%2C%20%5B126.8341914436862%2C%2037.50238060850881%5D%2C%20%5B126.8385046623421%2C%2037.49965438083505%5D%2C%20%5B126.84270526111828%2C%2037.501190052842375%5D%2C%20%5B126.8421330711049%2C%2037.50273297478404%5D%2C%20%5B126.84689618668257%2C%2037.50287086505149%5D%2C%20%5B126.84730715497963%2C%2037.50522159123912%5D%2C%20%5B126.85079659934003%2C%2037.50601938589165%5D%2C%20%5B126.8521985385098%2C%2037.507310601432195%5D%2C%20%5B126.8549910115563%2C%2037.507774255244875%5D%2C%20%5B126.85767018319959%2C%2037.50643578404816%5D%2C%20%5B126.8602448049945%2C%2037.50714262450898%5D%2C%20%5B126.86219488732715%2C%2037.50388438562706%5D%2C%20%5B126.86454914535695%2C%2037.50388350542007%5D%2C%20%5B126.86525729660478%2C%2037.502448483868896%5D%2C%20%5B126.86795186545288%2C%2037.502755995885714%5D%2C%20%5B126.87109220473953%2C%2037.50203922322315%5D%2C%20%5B126.87432642792102%2C%2037.50260287829134%5D%2C%20%5B126.87556919864359%2C%2037.505720626918%5D%2C%20%5B126.88054908630636%2C%2037.51148026214697%5D%2C%20%5B126.88156402353862%2C%2037.513970034765684%5D%2C%20%5B126.89253696873205%2C%2037.50875582175844%5D%2C%20%5B126.89594776782485%2C%2037.504675281309176%5D%2C%20%5B126.89549571721683%2C%2037.50033127915717%5D%2C%20%5B126.89581061458084%2C%2037.49391346191318%5D%2C%20%5B126.89861362258316%2C%2037.48625405368759%5D%2C%20%5B126.90260188508027%2C%2037.48282626920736%5D%2C%20%5B126.90531975801812%2C%2037.48218087575429%5D%2C%20%5B126.90156094129895%2C%2037.47753842789901%5D%2C%20%5B126.90104536043339%2C%2037.47614746588584%5D%2C%20%5B126.89689977603885%2C%2037.47570593888643%5D%2C%20%5B126.89116882970154%2C%2037.47681803032367%5D%2C%20%5B126.88803217321346%2C%2037.47975290808737%5D%2C%20%5B126.8827497570056%2C%2037.48316340563878%5D%2C%20%5B126.88079109105627%2C%2037.48378287831426%5D%2C%20%5B126.87683271502428%2C%2037.482576591607305%5D%2C%20%5B126.87926901338844%2C%2037.4851363312754%5D%2C%20%5B126.87807822721697%2C%2037.486247661404484%5D%2C%20%5B126.87500855887376%2C%2037.485529408954044%5D%2C%20%5B126.87499999632084%2C%2037.48723558386031%5D%2C%20%5B126.86985088086946%2C%2037.490972856926746%5D%2C%20%5B126.86690708512153%2C%2037.48850048185492%5D%2C%20%5B126.86334463261252%2C%2037.48702105213313%5D%2C%20%5B126.85979281993241%2C%2037.48309390333688%5D%2C%20%5B126.8571926758503%2C%2037.482400254369296%5D%2C%20%5B126.85582775745682%2C%2037.48008159809108%5D%2C%20%5B126.85397991619827%2C%2037.47882533996402%5D%2C%20%5B126.84914329670241%2C%2037.4792573077648%5D%2C%20%5B126.84804505350411%2C%2037.478160467930344%5D%2C%20%5B126.84762676054953%2C%2037.47146723936323%5D%2C%20%5B126.84154264465728%2C%2037.4728980419%5D%2C%20%5B126.83754691879544%2C%2037.472514053936045%5D%2C%20%5B126.83388005989259%2C%2037.4747683882548%5D%2C%20%5B126.83136668931549%2C%2037.47344154955525%5D%2C%20%5B126.82660025197819%2C%2037.47364544953152%5D%2C%20%5B126.82419365698964%2C%2037.472951080902234%5D%2C%20%5B126.82179895415682%2C%2037.47518076838956%5D%2C%20%5B126.82206789884786%2C%2037.47889514031285%5D%2C%20%5B126.82139445214092%2C%2037.48136482338644%5D%2C%20%5B126.82208805042494%2C%2037.48299688518288%5D%2C%20%5B126.82558489219227%2C%2037.48497306755705%5D%2C%20%5B126.82482114643597%2C%2037.48717399070965%5D%2C%20%5B126.81993148808915%2C%2037.48877864988337%5D%2C%20%5B126.81649745505314%2C%2037.490455810141476%5D%2C%20%5B126.81480709048222%2C%2037.493362284349615%5D%2C%20%5B126.81518179823208%2C%2037.495233793642186%5D%2C%20%5B126.81771493003457%2C%2037.494748098657496%5D%2C%20%5B126.8208295567048%2C%2037.49594689979241%5D%2C%20%5B126.82204657426578%2C%2037.49851634597747%5D%2C%20%5B126.82367963750009%2C%2037.49925830108059%5D%2C%20%5B126.82504736331406%2C%2037.50302612640443%5D%2C%20%5B126.82469248121312%2C%2037.50496239513798%5D%2C%20%5B126.82688081517314%2C%2037.50548972232896%5D%5D%5D%2C%20%22type%22%3A%20%22Polygon%22%7D%2C%20%22properties%22%3A%20%7B%22base_year%22%3A%20%222013%22%2C%20%22code%22%3A%20%2211170%22%2C%20%22highlight%22%3A%20%7B%7D%2C%20%22name%22%3A%20%22%5Cuad6c%5Cub85c%5Cuad6c%22%2C%20%22name_eng%22%3A%20%22Guro-gu%22%2C%20%22style%22%3A%20%7B%7D%7D%2C%20%22type%22%3A%20%22Feature%22%7D%2C%20%7B%22geometry%22%3A%20%7B%22coordinates%22%3A%20%5B%5B%5B126.85984199399667%2C%2037.571847855292745%5D%2C%20%5B126.85950389772532%2C%2037.5682771531189%5D%2C%20%5B126.8604929702619%2C%2037.566825621733905%5D%2C%20%5B126.86837407967381%2C%2037.56309561411933%5D%2C%20%5B126.87997924964915%2C%2037.55510740490174%5D%2C%20%5B126.89184663862764%2C%2037.547373974997114%5D%2C%20%5B126.88736718003831%2C%2037.54350482420959%5D%2C%20%5B126.88825757860099%2C%2037.54079733630232%5D%2C%20%5B126.8872486543506%2C%2037.54079100234749%5D%2C%20%5B126.88280520161935%2C%2037.545072121233225%5D%2C%20%5B126.8761093656006%2C%2037.54412882794802%5D%2C%20%5B126.8727924099192%2C%2037.544853699294116%5D%2C%20%5B126.86637464321238%2C%2037.54859191094823%5D%2C%20%5B126.86426635332332%2C%2037.54172958759955%5D%2C%20%5B126.86582129720519%2C%2037.53817151116851%5D%2C%20%5B126.8655037497872%2C%2037.53382926555605%5D%2C%20%5B126.86610073476395%2C%2037.52699964144669%5D%2C%20%5B126.85098397861944%2C%2037.525098716169985%5D%2C%20%5B126.84257291943153%2C%2037.52373707805596%5D%2C%20%5B126.836555914069%2C%2037.53367208325903%5D%2C%20%5B126.83716591765655%2C%2037.534935320492906%5D%2C%20%5B126.83522688458329%2C%2037.539042988809484%5D%2C%20%5B126.8325348945036%2C%2037.538953250433295%5D%2C%20%5B126.83191667070415%2C%2037.54146500511403%5D%2C%20%5B126.83017074557299%2C%2037.542611079015344%5D%2C%20%5B126.82889818288362%2C%2037.53909381305992%5D%2C%20%5B126.8242331426722%2C%2037.53788078753248%5D%2C%20%5B126.81674221631081%2C%2037.5378396500627%5D%2C%20%5B126.81246052552456%2C%2037.538810793377344%5D%2C%20%5B126.81143604908785%2C%2037.54033621168525%5D%2C%20%5B126.80542840499083%2C%2037.54008921830378%5D%2C%20%5B126.80185404828612%2C%2037.537645443377826%5D%2C%20%5B126.80090914554204%2C%2037.53503009075454%5D%2C%20%5B126.79688612254975%2C%2037.53302974862096%5D%2C%20%5B126.79582133969424%2C%2037.536641561833754%5D%2C%20%5B126.79693641290046%2C%2037.53865858611534%5D%2C%20%5B126.79388711477147%2C%2037.53902211451394%5D%2C%20%5B126.7938616681597%2C%2037.54104361952839%5D%2C%20%5B126.79075533377627%2C%2037.54165251407983%5D%2C%20%5B126.78880225462409%2C%2037.54353706379955%5D%2C%20%5B126.78198339188025%2C%2037.543449601019624%5D%2C%20%5B126.77756215424237%2C%2037.54611355396897%5D%2C%20%5B126.77324417717703%2C%2037.5459123450554%5D%2C%20%5B126.76977011413412%2C%2037.55052082471595%5D%2C%20%5B126.76700465024426%2C%2037.552821566629916%5D%2C%20%5B126.77074629769308%2C%2037.55296836994276%5D%2C%20%5B126.77145103135192%2C%2037.55434307460708%5D%2C%20%5B126.77879087345151%2C%2037.55919525318415%5D%2C%20%5B126.77889121370164%2C%2037.5613614424496%5D%2C%20%5B126.77671213061004%2C%2037.5645429268672%5D%2C%20%5B126.77986476402239%2C%2037.564245932540665%5D%2C%20%5B126.78252024622797%2C%2037.565367145342954%5D%2C%20%5B126.78471963959866%2C%2037.56745669198498%5D%2C%20%5B126.78398460461828%2C%2037.56905814599349%5D%2C%20%5B126.78496836516075%2C%2037.57090748246567%5D%2C%20%5B126.79172648531066%2C%2037.57472630536462%5D%2C%20%5B126.79539987549317%2C%2037.57451148875729%5D%2C%20%5B126.79523455851671%2C%2037.57760277954844%5D%2C%20%5B126.7958606942207%2C%2037.58019957877273%5D%2C%20%5B126.79799133400897%2C%2037.58036436587069%5D%2C%20%5B126.80091228188235%2C%2037.5854309825683%5D%2C%20%5B126.80289369340177%2C%2037.58621464221784%5D%2C%20%5B126.80131704756816%2C%2037.58839794302751%5D%2C%20%5B126.80149834313248%2C%2037.59012749570681%5D%2C%20%5B126.7996634054858%2C%2037.59296530943065%5D%2C%20%5B126.79910601240701%2C%2037.59569886491464%5D%2C%20%5B126.80046544382346%2C%2037.59827267924192%5D%2C%20%5B126.80198459129242%2C%2037.598541940075755%5D%2C%20%5B126.80268446118524%2C%2037.601312560472834%5D%2C%20%5B126.80393696882469%2C%2037.601857300987895%5D%2C%20%5B126.80759006979085%2C%2037.60089755124775%5D%2C%20%5B126.81814502537962%2C%2037.591566052513244%5D%2C%20%5B126.82251438477105%2C%2037.5880430810082%5D%2C%20%5B126.82891304761237%2C%2037.5855611764797%5D%2C%20%5B126.85302823436479%2C%2037.57282468882299%5D%2C%20%5B126.85984199399667%2C%2037.571847855292745%5D%5D%5D%2C%20%22type%22%3A%20%22Polygon%22%7D%2C%20%22properties%22%3A%20%7B%22base_year%22%3A%20%222013%22%2C%20%22code%22%3A%20%2211160%22%2C%20%22highlight%22%3A%20%7B%7D%2C%20%22name%22%3A%20%22%5Cuac15%5Cuc11c%5Cuad6c%22%2C%20%22name_eng%22%3A%20%22Gangseo-gu%22%2C%20%22style%22%3A%20%7B%7D%7D%2C%20%22type%22%3A%20%22Feature%22%7D%2C%20%7B%22geometry%22%3A%20%7B%22coordinates%22%3A%20%5B%5B%5B126.8242331426722%2C%2037.53788078753248%5D%2C%20%5B126.82889818288362%2C%2037.53909381305992%5D%2C%20%5B126.83017074557299%2C%2037.542611079015344%5D%2C%20%5B126.83191667070415%2C%2037.54146500511403%5D%2C%20%5B126.8325348945036%2C%2037.538953250433295%5D%2C%20%5B126.83522688458329%2C%2037.539042988809484%5D%2C%20%5B126.83716591765655%2C%2037.534935320492906%5D%2C%20%5B126.836555914069%2C%2037.53367208325903%5D%2C%20%5B126.84257291943153%2C%2037.52373707805596%5D%2C%20%5B126.85098397861944%2C%2037.525098716169985%5D%2C%20%5B126.86610073476395%2C%2037.52699964144669%5D%2C%20%5B126.8655037497872%2C%2037.53382926555605%5D%2C%20%5B126.86582129720519%2C%2037.53817151116851%5D%2C%20%5B126.86426635332332%2C%2037.54172958759955%5D%2C%20%5B126.86637464321238%2C%2037.54859191094823%5D%2C%20%5B126.8727924099192%2C%2037.544853699294116%5D%2C%20%5B126.8761093656006%2C%2037.54412882794802%5D%2C%20%5B126.88280520161935%2C%2037.545072121233225%5D%2C%20%5B126.8872486543506%2C%2037.54079100234749%5D%2C%20%5B126.88825757860099%2C%2037.54079733630232%5D%2C%20%5B126.88938421776182%2C%2037.54060159145325%5D%2C%20%5B126.89339176028666%2C%2037.533030814524004%5D%2C%20%5B126.89361739665432%2C%2037.53033899535983%5D%2C%20%5B126.89213569003026%2C%2037.52757969298779%5D%2C%20%5B126.89057378109133%2C%2037.52792091672938%5D%2C%20%5B126.88904768965743%2C%2037.525856504359034%5D%2C%20%5B126.88382776477316%2C%2037.52352483439659%5D%2C%20%5B126.88260109180834%2C%2037.52242565920786%5D%2C%20%5B126.88191372979959%2C%2037.51939416754389%5D%2C%20%5B126.88156402353862%2C%2037.513970034765684%5D%2C%20%5B126.88054908630636%2C%2037.51148026214697%5D%2C%20%5B126.87556919864359%2C%2037.505720626918%5D%2C%20%5B126.87432642792102%2C%2037.50260287829134%5D%2C%20%5B126.87109220473953%2C%2037.50203922322315%5D%2C%20%5B126.86795186545288%2C%2037.502755995885714%5D%2C%20%5B126.86525729660478%2C%2037.502448483868896%5D%2C%20%5B126.86454914535695%2C%2037.50388350542007%5D%2C%20%5B126.86219488732715%2C%2037.50388438562706%5D%2C%20%5B126.8602448049945%2C%2037.50714262450898%5D%2C%20%5B126.85767018319959%2C%2037.50643578404816%5D%2C%20%5B126.8549910115563%2C%2037.507774255244875%5D%2C%20%5B126.8521985385098%2C%2037.507310601432195%5D%2C%20%5B126.85079659934003%2C%2037.50601938589165%5D%2C%20%5B126.84730715497963%2C%2037.50522159123912%5D%2C%20%5B126.84689618668257%2C%2037.50287086505149%5D%2C%20%5B126.8421330711049%2C%2037.50273297478404%5D%2C%20%5B126.84270526111828%2C%2037.501190052842375%5D%2C%20%5B126.8385046623421%2C%2037.49965438083505%5D%2C%20%5B126.8341914436862%2C%2037.50238060850881%5D%2C%20%5B126.8312211095328%2C%2037.50541191299514%5D%2C%20%5B126.82688081517314%2C%2037.50548972232896%5D%2C%20%5B126.82609821744505%2C%2037.507816771867255%5D%2C%20%5B126.82665326173496%2C%2037.510416148524136%5D%2C%20%5B126.82529622550616%2C%2037.513385210403136%5D%2C%20%5B126.82763384465879%2C%2037.516923263281946%5D%2C%20%5B126.8273575421771%2C%2037.52002629298419%5D%2C%20%5B126.83054711509516%2C%2037.52390261457357%5D%2C%20%5B126.82938708105253%2C%2037.5268052663749%5D%2C%20%5B126.8276955169658%2C%2037.52706155314193%5D%2C%20%5B126.82389942108053%2C%2037.53199443525418%5D%2C%20%5B126.8242331426722%2C%2037.53788078753248%5D%5D%5D%2C%20%22type%22%3A%20%22Polygon%22%7D%2C%20%22properties%22%3A%20%7B%22base_year%22%3A%20%222013%22%2C%20%22code%22%3A%20%2211150%22%2C%20%22highlight%22%3A%20%7B%7D%2C%20%22name%22%3A%20%22%5Cuc591%5Cucc9c%5Cuad6c%22%2C%20%22name_eng%22%3A%20%22Yangcheon-gu%22%2C%20%22style%22%3A%20%7B%7D%7D%2C%20%22type%22%3A%20%22Feature%22%7D%2C%20%7B%22geometry%22%3A%20%7B%22coordinates%22%3A%20%5B%5B%5B126.90522065831053%2C%2037.57409700522574%5D%2C%20%5B126.90370105002282%2C%2037.57266722738834%5D%2C%20%5B126.90687243065778%2C%2037.57059762097416%5D%2C%20%5B126.92189004506%2C%2037.56391798973296%5D%2C%20%5B126.92778174854314%2C%2037.562495624023775%5D%2C%20%5B126.93034243306369%2C%2037.56054720372433%5D%2C%20%5B126.92881397392811%2C%2037.558202848902%5D%2C%20%5B126.92872097190046%2C%2037.556034533941734%5D%2C%20%5B126.93898161798973%2C%2037.552310003728124%5D%2C%20%5B126.94314477022111%2C%2037.5536460848349%5D%2C%20%5B126.95916768398142%2C%2037.55468176051932%5D%2C%20%5B126.96080686210321%2C%2037.55386236039188%5D%2C%20%5B126.96358226710812%2C%2037.55605635475154%5D%2C%20%5B126.96519694864509%2C%2037.55362533505407%5D%2C%20%5B126.96380145704283%2C%2037.55254525759954%5D%2C%20%5B126.96448570553055%2C%2037.548705692021635%5D%2C%20%5B126.96604189284825%2C%2037.546894141748815%5D%2C%20%5B126.96401856825223%2C%2037.54584596959762%5D%2C%20%5B126.96231305253527%2C%2037.543511558047456%5D%2C%20%5B126.9605977865388%2C%2037.542661954880806%5D%2C%20%5B126.95926437828754%2C%2037.53897908363236%5D%2C%20%5B126.95340780191557%2C%2037.533494726370755%5D%2C%20%5B126.94717864071288%2C%2037.53213495568077%5D%2C%20%5B126.94566733083212%2C%2037.526617542453366%5D%2C%20%5B126.93680342222562%2C%2037.53344577095931%5D%2C%20%5B126.93132557924062%2C%2037.53415416375281%5D%2C%20%5B126.90829204147958%2C%2037.539206065016785%5D%2C%20%5B126.90281125423546%2C%2037.54133630026083%5D%2C%20%5B126.89184663862764%2C%2037.547373974997114%5D%2C%20%5B126.87997924964915%2C%2037.55510740490174%5D%2C%20%5B126.86837407967381%2C%2037.56309561411933%5D%2C%20%5B126.8604929702619%2C%2037.566825621733905%5D%2C%20%5B126.85950389772532%2C%2037.5682771531189%5D%2C%20%5B126.85984199399667%2C%2037.571847855292745%5D%2C%20%5B126.85993476176495%2C%2037.5728262143511%5D%2C%20%5B126.8638132887273%2C%2037.57306147014704%5D%2C%20%5B126.86560520354786%2C%2037.57385540098251%5D%2C%20%5B126.86766286078968%2C%2037.57269227137124%5D%2C%20%5B126.87008117117851%2C%2037.574598289168996%5D%2C%20%5B126.87282267062741%2C%2037.574956427500126%5D%2C%20%5B126.8779661566318%2C%2037.57680133323819%5D%2C%20%5B126.87918874599603%2C%2037.5796889248137%5D%2C%20%5B126.87876320682938%2C%2037.581327335058546%5D%2C%20%5B126.88107183862735%2C%2037.583788024645344%5D%2C%20%5B126.88237824849728%2C%2037.586847436468204%5D%2C%20%5B126.88433284773288%2C%2037.588143322880526%5D%2C%20%5B126.89150044994719%2C%2037.58202374305761%5D%2C%20%5B126.89532313269488%2C%2037.579420322822145%5D%2C%20%5B126.89738573904876%2C%2037.578668647687564%5D%2C%20%5B126.90023584510952%2C%2037.575506080437606%5D%2C%20%5B126.90373193212757%2C%2037.573123712282076%5D%2C%20%5B126.90522065831053%2C%2037.57409700522574%5D%5D%5D%2C%20%22type%22%3A%20%22Polygon%22%7D%2C%20%22properties%22%3A%20%7B%22base_year%22%3A%20%222013%22%2C%20%22code%22%3A%20%2211140%22%2C%20%22highlight%22%3A%20%7B%7D%2C%20%22name%22%3A%20%22%5Cub9c8%5Cud3ec%5Cuad6c%22%2C%20%22name_eng%22%3A%20%22Mapo-gu%22%2C%20%22style%22%3A%20%7B%7D%7D%2C%20%22type%22%3A%20%22Feature%22%7D%2C%20%7B%22geometry%22%3A%20%7B%22coordinates%22%3A%20%5B%5B%5B126.9524752030572%2C%2037.60508692737045%5D%2C%20%5B126.95480868778256%2C%2037.60381765067903%5D%2C%20%5B126.95564117002459%2C%2037.601827148276776%5D%2C%20%5B126.95484771718951%2C%2037.59761368186209%5D%2C%20%5B126.95619178283661%2C%2037.59575826218021%5D%2C%20%5B126.95924434840931%2C%2037.59545024466215%5D%2C%20%5B126.95842779914786%2C%2037.592356673207824%5D%2C%20%5B126.960424902266%2C%2037.58868913291801%5D%2C%20%5B126.96048802632431%2C%2037.587202077053746%5D%2C%20%5B126.95879970726017%2C%2037.58189826471162%5D%2C%20%5B126.96177754536156%2C%2037.57970124256911%5D%2C%20%5B126.95789326971087%2C%2037.57793453336025%5D%2C%20%5B126.95565425846463%2C%2037.576080790881456%5D%2C%20%5B126.96873633279075%2C%2037.56313604690827%5D%2C%20%5B126.97169209525231%2C%2037.55921654641677%5D%2C%20%5B126.96900073076728%2C%2037.55850929094393%5D%2C%20%5B126.96570855677983%2C%2037.556512377492325%5D%2C%20%5B126.96358226710812%2C%2037.55605635475154%5D%2C%20%5B126.96080686210321%2C%2037.55386236039188%5D%2C%20%5B126.95916768398142%2C%2037.55468176051932%5D%2C%20%5B126.94314477022111%2C%2037.5536460848349%5D%2C%20%5B126.93898161798973%2C%2037.552310003728124%5D%2C%20%5B126.92872097190046%2C%2037.556034533941734%5D%2C%20%5B126.92881397392811%2C%2037.558202848902%5D%2C%20%5B126.93034243306369%2C%2037.56054720372433%5D%2C%20%5B126.92778174854314%2C%2037.562495624023775%5D%2C%20%5B126.92189004506%2C%2037.56391798973296%5D%2C%20%5B126.90687243065778%2C%2037.57059762097416%5D%2C%20%5B126.90370105002282%2C%2037.57266722738834%5D%2C%20%5B126.90522065831053%2C%2037.57409700522574%5D%2C%20%5B126.91464724464083%2C%2037.583228529985455%5D%2C%20%5B126.91827498278953%2C%2037.58276881451649%5D%2C%20%5B126.91792000144513%2C%2037.58034997804668%5D%2C%20%5B126.92444169370404%2C%2037.581233899739914%5D%2C%20%5B126.92596484570709%2C%2037.58441659356971%5D%2C%20%5B126.9281697003186%2C%2037.584376616028365%5D%2C%20%5B126.9302171100533%2C%2037.58559126746845%5D%2C%20%5B126.92996402426377%2C%2037.58767009299767%5D%2C%20%5B126.93104958440722%2C%2037.58996937993664%5D%2C%20%5B126.93575441237547%2C%2037.593605788596975%5D%2C%20%5B126.94277481511082%2C%2037.59587806191211%5D%2C%20%5B126.94359054641505%2C%2037.60034871312552%5D%2C%20%5B126.94451473597087%2C%2037.60203195380752%5D%2C%20%5B126.94701525068315%2C%2037.602028095480975%5D%2C%20%5B126.94919787550161%2C%2037.60506379949065%5D%2C%20%5B126.9524752030572%2C%2037.60508692737045%5D%5D%5D%2C%20%22type%22%3A%20%22Polygon%22%7D%2C%20%22properties%22%3A%20%7B%22base_year%22%3A%20%222013%22%2C%20%22code%22%3A%20%2211130%22%2C%20%22highlight%22%3A%20%7B%7D%2C%20%22name%22%3A%20%22%5Cuc11c%5Cub300%5Cubb38%5Cuad6c%22%2C%20%22name_eng%22%3A%20%22Seodaemun-gu%22%2C%20%22style%22%3A%20%7B%7D%7D%2C%20%22type%22%3A%20%22Feature%22%7D%2C%20%7B%22geometry%22%3A%20%7B%22coordinates%22%3A%20%5B%5B%5B126.9738864128702%2C%2037.62949634786888%5D%2C%20%5B126.97135221665513%2C%2037.62743418897386%5D%2C%20%5B126.96164158910712%2C%2037.62569322976388%5D%2C%20%5B126.95885198650147%2C%2037.6225761621008%5D%2C%20%5B126.95427017006129%2C%2037.622033431339425%5D%2C%20%5B126.95393421039743%2C%2037.61877981567335%5D%2C%20%5B126.9528332649861%2C%2037.6161065117682%5D%2C%20%5B126.95145384404022%2C%2037.61493028446385%5D%2C%20%5B126.95249458941419%2C%2037.61333750249896%5D%2C%20%5B126.95308190738618%2C%2037.60926681659027%5D%2C%20%5B126.95187994741721%2C%2037.60600915874973%5D%2C%20%5B126.9524752030572%2C%2037.60508692737045%5D%2C%20%5B126.94919787550161%2C%2037.60506379949065%5D%2C%20%5B126.94701525068315%2C%2037.602028095480975%5D%2C%20%5B126.94451473597087%2C%2037.60203195380752%5D%2C%20%5B126.94359054641505%2C%2037.60034871312552%5D%2C%20%5B126.94277481511082%2C%2037.59587806191211%5D%2C%20%5B126.93575441237547%2C%2037.593605788596975%5D%2C%20%5B126.93104958440722%2C%2037.58996937993664%5D%2C%20%5B126.92996402426377%2C%2037.58767009299767%5D%2C%20%5B126.9302171100533%2C%2037.58559126746845%5D%2C%20%5B126.9281697003186%2C%2037.584376616028365%5D%2C%20%5B126.92596484570709%2C%2037.58441659356971%5D%2C%20%5B126.92444169370404%2C%2037.581233899739914%5D%2C%20%5B126.91792000144513%2C%2037.58034997804668%5D%2C%20%5B126.91827498278953%2C%2037.58276881451649%5D%2C%20%5B126.91464724464083%2C%2037.583228529985455%5D%2C%20%5B126.90522065831053%2C%2037.57409700522574%5D%2C%20%5B126.90373193212757%2C%2037.573123712282076%5D%2C%20%5B126.90023584510952%2C%2037.575506080437606%5D%2C%20%5B126.89738573904876%2C%2037.578668647687564%5D%2C%20%5B126.89532313269488%2C%2037.579420322822145%5D%2C%20%5B126.89150044994719%2C%2037.58202374305761%5D%2C%20%5B126.88433284773288%2C%2037.588143322880526%5D%2C%20%5B126.88715278104091%2C%2037.59100341655796%5D%2C%20%5B126.88936046370014%2C%2037.59099007316069%5D%2C%20%5B126.88753401663872%2C%2037.58829545592628%5D%2C%20%5B126.88935419108029%2C%2037.58580092310326%5D%2C%20%5B126.89349057571656%2C%2037.585662344444785%5D%2C%20%5B126.89532781702978%2C%2037.58637054299599%5D%2C%20%5B126.89905466698256%2C%2037.58582731337662%5D%2C%20%5B126.9019347597747%2C%2037.58707359614439%5D%2C%20%5B126.9010825805882%2C%2037.58986595756633%5D%2C%20%5B126.90396681003595%2C%2037.59227403419942%5D%2C%20%5B126.90321089756087%2C%2037.594542731935476%5D%2C%20%5B126.90358350094938%2C%2037.59657528019595%5D%2C%20%5B126.90235425214276%2C%2037.60036302950128%5D%2C%20%5B126.90417801431465%2C%2037.60102912046836%5D%2C%20%5B126.90396561274416%2C%2037.60721180273151%5D%2C%20%5B126.90303066177668%2C%2037.609977911401344%5D%2C%20%5B126.90548675623195%2C%2037.61601216482774%5D%2C%20%5B126.90721633741286%2C%2037.6164590533837%5D%2C%20%5B126.90935539569412%2C%2037.61912234588074%5D%2C%20%5B126.90852982623917%2C%2037.62123670148755%5D%2C%20%5B126.91081768678396%2C%2037.62338674837964%5D%2C%20%5B126.91117179533428%2C%2037.62562846875194%5D%2C%20%5B126.90862530043799%2C%2037.62973539928895%5D%2C%20%5B126.91295124779275%2C%2037.633086577991136%5D%2C%20%5B126.91232131977827%2C%2037.635879167956396%5D%2C%20%5B126.91380622398978%2C%2037.63822817856539%5D%2C%20%5B126.91455481429648%2C%2037.64150050996935%5D%2C%20%5B126.9097405206299%2C%2037.643548736416925%5D%2C%20%5B126.9104285840059%2C%2037.64469477594629%5D%2C%20%5B126.91598194662826%2C%2037.64192000919822%5D%2C%20%5B126.92335892549015%2C%2037.642768849393626%5D%2C%20%5B126.92751618877016%2C%2037.644656244616336%5D%2C%20%5B126.93099150738166%2C%2037.64717805899008%5D%2C%20%5B126.93658892420821%2C%2037.64777520545395%5D%2C%20%5B126.93914008753828%2C%2037.64914400014214%5D%2C%20%5B126.94248904852749%2C%2037.65384179343651%5D%2C%20%5B126.94571884127255%2C%2037.655369042036206%5D%2C%20%5B126.94940373004215%2C%2037.656145979585894%5D%2C%20%5B126.94982400027399%2C%2037.65461320918016%5D%2C%20%5B126.95334970767568%2C%2037.65216408903825%5D%2C%20%5B126.956473797387%2C%2037.652480737339445%5D%2C%20%5B126.9588647426878%2C%2037.6498628918019%5D%2C%20%5B126.95972824076269%2C%2037.64638504253487%5D%2C%20%5B126.96223689995006%2C%2037.64553441285544%5D%2C%20%5B126.96424221141602%2C%2037.64071627640099%5D%2C%20%5B126.96652025322855%2C%2037.640285044901944%5D%2C%20%5B126.97092373342322%2C%2037.63589354812246%5D%2C%20%5B126.97086605626453%2C%2037.633738820281394%5D%2C%20%5B126.9738864128702%2C%2037.62949634786888%5D%5D%5D%2C%20%22type%22%3A%20%22Polygon%22%7D%2C%20%22properties%22%3A%20%7B%22base_year%22%3A%20%222013%22%2C%20%22code%22%3A%20%2211120%22%2C%20%22highlight%22%3A%20%7B%7D%2C%20%22name%22%3A%20%22%5Cuc740%5Cud3c9%5Cuad6c%22%2C%20%22name_eng%22%3A%20%22Eunpyeong-gu%22%2C%20%22style%22%3A%20%7B%7D%7D%2C%20%22type%22%3A%20%22Feature%22%7D%2C%20%7B%22geometry%22%3A%20%7B%22coordinates%22%3A%20%5B%5B%5B127.10782277688129%2C%2037.61804244241069%5D%2C%20%5B127.10361952102048%2C%2037.61701182935077%5D%2C%20%5B127.10191523948123%2C%2037.61531698025357%5D%2C%20%5B127.09825969127313%2C%2037.61431077622918%5D%2C%20%5B127.09125855705382%2C%2037.61703046232404%5D%2C%20%5B127.08796048322492%2C%2037.617471883010936%5D%2C%20%5B127.08325130652017%2C%2037.61626773063051%5D%2C%20%5B127.07351243825278%2C%2037.61283660342313%5D%2C%20%5B127.07011594002495%2C%2037.6127769191002%5D%2C%20%5B127.06726783142085%2C%2037.61136014256744%5D%2C%20%5B127.06412260483201%2C%2037.6115839902766%5D%2C%20%5B127.05631594723272%2C%2037.61738373018764%5D%2C%20%5B127.05209373568619%2C%2037.62164065487782%5D%2C%20%5B127.04999984182327%2C%2037.62412061598568%5D%2C%20%5B127.04358800895609%2C%2037.62848931298715%5D%2C%20%5B127.046042857549%2C%2037.630647660209426%5D%2C%20%5B127.0471214260595%2C%2037.63407841321815%5D%2C%20%5B127.05227148282157%2C%2037.642016305290156%5D%2C%20%5B127.05704472959141%2C%2037.63797342537787%5D%2C%20%5B127.05800075220091%2C%2037.64318263878276%5D%2C%20%5B127.05640030258566%2C%2037.648142414223344%5D%2C%20%5B127.05620364700786%2C%2037.65295201497795%5D%2C%20%5B127.05366382763933%2C%2037.65780685245659%5D%2C%20%5B127.05343284205686%2C%2037.660866393548005%5D%2C%20%5B127.05093085431419%2C%2037.666308257661356%5D%2C%20%5B127.05124324520023%2C%2037.6703356616521%5D%2C%20%5B127.05259811896667%2C%2037.67463041579101%5D%2C%20%5B127.05402878877452%2C%2037.682018621183914%5D%2C%20%5B127.05288479710485%2C%2037.68423857084347%5D%2C%20%5B127.05673771202906%2C%2037.68650223136443%5D%2C%20%5B127.05893512852644%2C%2037.68678532745334%5D%2C%20%5B127.06366923747898%2C%2037.68598834805241%5D%2C%20%5B127.06722106517597%2C%2037.68706409219909%5D%2C%20%5B127.07150256171397%2C%2037.69158365999211%5D%2C%20%5B127.07502582169255%2C%2037.691675325399515%5D%2C%20%5B127.07945174893383%2C%2037.693602239076704%5D%2C%20%5B127.0838752703195%2C%2037.69359534202034%5D%2C%20%5B127.08640047239444%2C%2037.69122798275615%5D%2C%20%5B127.08834747450551%2C%2037.68753106067129%5D%2C%20%5B127.09706391309695%2C%2037.686383719372294%5D%2C%20%5B127.09839746601683%2C%2037.682954904948026%5D%2C%20%5B127.09481040538887%2C%2037.678799295731295%5D%2C%20%5B127.0939394572467%2C%2037.676403111386776%5D%2C%20%5B127.09572273018789%2C%2037.673837879820674%5D%2C%20%5B127.09657954289648%2C%2037.670746511824845%5D%2C%20%5B127.09767362583241%2C%2037.67002252402865%5D%2C%20%5B127.0980220884148%2C%2037.66742967749355%5D%2C%20%5B127.09621282296045%2C%2037.66347990019021%5D%2C%20%5B127.09845931549125%2C%2037.659077182069595%5D%2C%20%5B127.0978618070161%2C%2037.656734861475485%5D%2C%20%5B127.08845241642267%2C%2037.65271564775536%5D%2C%20%5B127.09496093471334%2C%2037.65209266377008%5D%2C%20%5B127.09618835483448%2C%2037.65001330395237%5D%2C%20%5B127.09440766298717%2C%2037.64713490473045%5D%2C%20%5B127.09686381732382%2C%2037.642772590812655%5D%2C%20%5B127.10024317327698%2C%2037.642337895238754%5D%2C%20%5B127.10266382494892%2C%2037.64291284604662%5D%2C%20%5B127.11014084969742%2C%2037.641850613893396%5D%2C%20%5B127.11406637789241%2C%2037.63742154695932%5D%2C%20%5B127.1144974746579%2C%2037.632439003890255%5D%2C%20%5B127.11309628774731%2C%2037.627803407908374%5D%2C%20%5B127.10737639048635%2C%2037.62412346388371%5D%2C%20%5B127.10736111050278%2C%2037.62243873312504%5D%2C%20%5B127.10561964188106%2C%2037.620112931875134%5D%2C%20%5B127.10782277688129%2C%2037.61804244241069%5D%5D%5D%2C%20%22type%22%3A%20%22Polygon%22%7D%2C%20%22properties%22%3A%20%7B%22base_year%22%3A%20%222013%22%2C%20%22code%22%3A%20%2211110%22%2C%20%22highlight%22%3A%20%7B%7D%2C%20%22name%22%3A%20%22%5Cub178%5Cuc6d0%5Cuad6c%22%2C%20%22name_eng%22%3A%20%22Nowon-gu%22%2C%20%22style%22%3A%20%7B%7D%7D%2C%20%22type%22%3A%20%22Feature%22%7D%2C%20%7B%22geometry%22%3A%20%7B%22coordinates%22%3A%20%5B%5B%5B127.05288479710485%2C%2037.68423857084347%5D%2C%20%5B127.05402878877452%2C%2037.682018621183914%5D%2C%20%5B127.05259811896667%2C%2037.67463041579101%5D%2C%20%5B127.05124324520023%2C%2037.6703356616521%5D%2C%20%5B127.05093085431419%2C%2037.666308257661356%5D%2C%20%5B127.05343284205686%2C%2037.660866393548005%5D%2C%20%5B127.05366382763933%2C%2037.65780685245659%5D%2C%20%5B127.05620364700786%2C%2037.65295201497795%5D%2C%20%5B127.05640030258566%2C%2037.648142414223344%5D%2C%20%5B127.05800075220091%2C%2037.64318263878276%5D%2C%20%5B127.05704472959141%2C%2037.63797342537787%5D%2C%20%5B127.05227148282157%2C%2037.642016305290156%5D%2C%20%5B127.0471214260595%2C%2037.63407841321815%5D%2C%20%5B127.046042857549%2C%2037.630647660209426%5D%2C%20%5B127.04358800895609%2C%2037.62848931298715%5D%2C%20%5B127.04058571489718%2C%2037.6311245692538%5D%2C%20%5B127.03905574421407%2C%2037.63395360172076%5D%2C%20%5B127.03660759925259%2C%2037.63506293914692%5D%2C%20%5B127.03477664182829%2C%2037.63884292238491%5D%2C%20%5B127.02950136469548%2C%2037.64228467033725%5D%2C%20%5B127.0265542519312%2C%2037.644688649276304%5D%2C%20%5B127.02233660280599%2C%2037.64628067142158%5D%2C%20%5B127.01772305897457%2C%2037.64631597694605%5D%2C%20%5B127.01534913067235%2C%2037.64765266597785%5D%2C%20%5B127.01465935892466%2C%2037.64943687496812%5D%2C%20%5B127.01599412132472%2C%2037.65623256113309%5D%2C%20%5B127.01726703299362%2C%2037.65880555518138%5D%2C%20%5B127.01776269066357%2C%2037.66391319760785%5D%2C%20%5B127.02062116141389%2C%2037.667173575971205%5D%2C%20%5B127.01873683359163%2C%2037.66988242479123%5D%2C%20%5B127.0159718440919%2C%2037.67258796420281%5D%2C%20%5B127.01401600772708%2C%2037.67653037200686%5D%2C%20%5B127.01073060671976%2C%2037.67694372299732%5D%2C%20%5B127.01039666042071%2C%2037.681894589603594%5D%2C%20%5B127.01103947380624%2C%2037.684405447624954%5D%2C%20%5B127.01017954927539%2C%2037.686333239654594%5D%2C%20%5B127.0109997247323%2C%2037.691942369792514%5D%2C%20%5B127.01405303313638%2C%2037.69546278140397%5D%2C%20%5B127.01645586375106%2C%2037.69548055092485%5D%2C%20%5B127.01802453368332%2C%2037.698275937456124%5D%2C%20%5B127.02143522814708%2C%2037.698589417759045%5D%2C%20%5B127.02419558273166%2C%2037.69682256792619%5D%2C%20%5B127.02700292435075%2C%2037.69665589205863%5D%2C%20%5B127.03018866626446%2C%2037.69776745888886%5D%2C%20%5B127.03132724235057%2C%2037.69621818994332%5D%2C%20%5B127.03183574218306%2C%2037.69340418484943%5D%2C%20%5B127.03328657751797%2C%2037.69010729962784%5D%2C%20%5B127.0345286215439%2C%2037.688986544260594%5D%2C%20%5B127.0379422140845%2C%2037.68943836856245%5D%2C%20%5B127.04383030416193%2C%2037.692565730249534%5D%2C%20%5B127.04510703173885%2C%2037.690951514278055%5D%2C%20%5B127.04772506731972%2C%2037.68962174626068%5D%2C%20%5B127.05108189294938%2C%2037.69116379209157%5D%2C%20%5B127.05288479710485%2C%2037.68423857084347%5D%5D%5D%2C%20%22type%22%3A%20%22Polygon%22%7D%2C%20%22properties%22%3A%20%7B%22base_year%22%3A%20%222013%22%2C%20%22code%22%3A%20%2211100%22%2C%20%22highlight%22%3A%20%7B%7D%2C%20%22name%22%3A%20%22%5Cub3c4%5Cubd09%5Cuad6c%22%2C%20%22name_eng%22%3A%20%22Dobong-gu%22%2C%20%22style%22%3A%20%7B%7D%7D%2C%20%22type%22%3A%20%22Feature%22%7D%2C%20%7B%22geometry%22%3A%20%7B%22coordinates%22%3A%20%5B%5B%5B127.01039666042071%2C%2037.681894589603594%5D%2C%20%5B127.01073060671976%2C%2037.67694372299732%5D%2C%20%5B127.01401600772708%2C%2037.67653037200686%5D%2C%20%5B127.0159718440919%2C%2037.67258796420281%5D%2C%20%5B127.01873683359163%2C%2037.66988242479123%5D%2C%20%5B127.02062116141389%2C%2037.667173575971205%5D%2C%20%5B127.01776269066357%2C%2037.66391319760785%5D%2C%20%5B127.01726703299362%2C%2037.65880555518138%5D%2C%20%5B127.01599412132472%2C%2037.65623256113309%5D%2C%20%5B127.01465935892466%2C%2037.64943687496812%5D%2C%20%5B127.01534913067235%2C%2037.64765266597785%5D%2C%20%5B127.01772305897457%2C%2037.64631597694605%5D%2C%20%5B127.02233660280599%2C%2037.64628067142158%5D%2C%20%5B127.0265542519312%2C%2037.644688649276304%5D%2C%20%5B127.02950136469548%2C%2037.64228467033725%5D%2C%20%5B127.03477664182829%2C%2037.63884292238491%5D%2C%20%5B127.03660759925259%2C%2037.63506293914692%5D%2C%20%5B127.03905574421407%2C%2037.63395360172076%5D%2C%20%5B127.04058571489718%2C%2037.6311245692538%5D%2C%20%5B127.04358800895609%2C%2037.62848931298715%5D%2C%20%5B127.04999984182327%2C%2037.62412061598568%5D%2C%20%5B127.05209373568619%2C%2037.62164065487782%5D%2C%20%5B127.04887981022048%2C%2037.61973841113549%5D%2C%20%5B127.0460676006384%2C%2037.615885647801704%5D%2C%20%5B127.0419720518426%2C%2037.612838591864076%5D%2C%20%5B127.03892400992301%2C%2037.609715611023816%5D%2C%20%5B127.03251659844592%2C%2037.60634705009134%5D%2C%20%5B127.03229982090541%2C%2037.609536104167034%5D%2C%20%5B127.02851994524015%2C%2037.60987827182396%5D%2C%20%5B127.02433990415497%2C%2037.60847763545628%5D%2C%20%5B127.02136282940177%2C%2037.610961475137174%5D%2C%20%5B127.01685658093551%2C%2037.61280115359516%5D%2C%20%5B127.0128154749523%2C%2037.613652243470256%5D%2C%20%5B127.01060611893628%2C%2037.615741236385354%5D%2C%20%5B127.00960949401902%2C%2037.61822603840364%5D%2C%20%5B127.00997935126598%2C%2037.62111906051553%5D%2C%20%5B127.00210238658002%2C%2037.622984514557714%5D%2C%20%5B126.99867431516041%2C%2037.626297613391166%5D%2C%20%5B126.99614706382866%2C%2037.62719717129899%5D%2C%20%5B126.99529660787617%2C%2037.62923863577322%5D%2C%20%5B126.9933714170822%2C%2037.62922019292486%5D%2C%20%5B126.9877052521691%2C%2037.63265610340949%5D%2C%20%5B126.98672705513869%2C%2037.63377641288196%5D%2C%20%5B126.98826481934299%2C%2037.637416984207924%5D%2C%20%5B126.98537069512379%2C%2037.64080296617396%5D%2C%20%5B126.987065858581%2C%2037.64320008084445%5D%2C%20%5B126.98580395043626%2C%2037.64699767714015%5D%2C%20%5B126.9832621473545%2C%2037.64947328029498%5D%2C%20%5B126.9817452676551%2C%2037.65209769387776%5D%2C%20%5B126.98205504313285%2C%2037.653797128044495%5D%2C%20%5B126.98709809733522%2C%2037.65651691642121%5D%2C%20%5B126.99031779354014%2C%2037.661013121145366%5D%2C%20%5B126.99494735642686%2C%2037.66223870806347%5D%2C%20%5B126.99581225370686%2C%2037.6651171428027%5D%2C%20%5B126.99622950422442%2C%2037.669428820661516%5D%2C%20%5B126.99506026831365%2C%2037.674827885285765%5D%2C%20%5B126.99384134064161%2C%2037.67665247641944%5D%2C%20%5B126.9959894573757%2C%2037.67754299691771%5D%2C%20%5B127.00000021675876%2C%2037.68100582640454%5D%2C%20%5B127.00566931208934%2C%2037.68228507374621%5D%2C%20%5B127.01039666042071%2C%2037.681894589603594%5D%5D%5D%2C%20%22type%22%3A%20%22Polygon%22%7D%2C%20%22properties%22%3A%20%7B%22base_year%22%3A%20%222013%22%2C%20%22code%22%3A%20%2211090%22%2C%20%22highlight%22%3A%20%7B%7D%2C%20%22name%22%3A%20%22%5Cuac15%5Cubd81%5Cuad6c%22%2C%20%22name_eng%22%3A%20%22Gangbuk-gu%22%2C%20%22style%22%3A%20%7B%7D%7D%2C%20%22type%22%3A%20%22Feature%22%7D%2C%20%7B%22geometry%22%3A%20%7B%22coordinates%22%3A%20%5B%5B%5B126.977175406416%2C%2037.62859715400388%5D%2C%20%5B126.9794090069433%2C%2037.63071544568365%5D%2C%20%5B126.98360012419735%2C%2037.631915771386076%5D%2C%20%5B126.98672705513869%2C%2037.63377641288196%5D%2C%20%5B126.9877052521691%2C%2037.63265610340949%5D%2C%20%5B126.9933714170822%2C%2037.62922019292486%5D%2C%20%5B126.99529660787617%2C%2037.62923863577322%5D%2C%20%5B126.99614706382866%2C%2037.62719717129899%5D%2C%20%5B126.99867431516041%2C%2037.626297613391166%5D%2C%20%5B127.00210238658002%2C%2037.622984514557714%5D%2C%20%5B127.00997935126598%2C%2037.62111906051553%5D%2C%20%5B127.00960949401902%2C%2037.61822603840364%5D%2C%20%5B127.01060611893628%2C%2037.615741236385354%5D%2C%20%5B127.0128154749523%2C%2037.613652243470256%5D%2C%20%5B127.01685658093551%2C%2037.61280115359516%5D%2C%20%5B127.02136282940177%2C%2037.610961475137174%5D%2C%20%5B127.02433990415497%2C%2037.60847763545628%5D%2C%20%5B127.02851994524015%2C%2037.60987827182396%5D%2C%20%5B127.03229982090541%2C%2037.609536104167034%5D%2C%20%5B127.03251659844592%2C%2037.60634705009134%5D%2C%20%5B127.03892400992301%2C%2037.609715611023816%5D%2C%20%5B127.0419720518426%2C%2037.612838591864076%5D%2C%20%5B127.0460676006384%2C%2037.615885647801704%5D%2C%20%5B127.04887981022048%2C%2037.61973841113549%5D%2C%20%5B127.05209373568619%2C%2037.62164065487782%5D%2C%20%5B127.05631594723272%2C%2037.61738373018764%5D%2C%20%5B127.06412260483201%2C%2037.6115839902766%5D%2C%20%5B127.06726783142085%2C%2037.61136014256744%5D%2C%20%5B127.07011594002495%2C%2037.6127769191002%5D%2C%20%5B127.07351243825278%2C%2037.61283660342313%5D%2C%20%5B127.07382707099227%2C%2037.60401928986419%5D%2C%20%5B127.07257736686556%2C%2037.60654335765868%5D%2C%20%5B127.07069716820665%2C%2037.60653037341939%5D%2C%20%5B127.07084342033339%2C%2037.60407877132597%5D%2C%20%5B127.06753185518703%2C%2037.602724214598744%5D%2C%20%5B127.06424828533608%2C%2037.60234356864383%5D%2C%20%5B127.0612685122857%2C%2037.59823077263369%5D%2C%20%5B127.059485363799%2C%2037.598743571420485%5D%2C%20%5B127.05413734593897%2C%2037.5971595374718%5D%2C%20%5B127.05238061017225%2C%2037.598312271275574%5D%2C%20%5B127.04975439355248%2C%2037.59349421284317%5D%2C%20%5B127.0461318196879%2C%2037.593514180513594%5D%2C%20%5B127.042705222094%2C%2037.59239437593391%5D%2C%20%5B127.04116895171082%2C%2037.58847599306138%5D%2C%20%5B127.0384945038446%2C%2037.587129138658426%5D%2C%20%5B127.03121630347839%2C%2037.57957997701485%5D%2C%20%5B127.02527254528003%2C%2037.57524616245249%5D%2C%20%5B127.02395698453867%2C%2037.576068086896726%5D%2C%20%5B127.02039107536422%2C%2037.575771872553595%5D%2C%20%5B127.01849412471284%2C%2037.57904760334465%5D%2C%20%5B127.01678966486051%2C%2037.57943162455397%5D%2C%20%5B127.01094467951529%2C%2037.57765758282494%5D%2C%20%5B127.00914513999258%2C%2037.57928387879304%5D%2C%20%5B127.00896672237498%2C%2037.582512606964876%5D%2C%20%5B127.00803641804285%2C%2037.5841154647404%5D%2C%20%5B127.00453322588274%2C%2037.58626325611708%5D%2C%20%5B127.00304474231643%2C%2037.58959898679736%5D%2C%20%5B126.99774058571116%2C%2037.58944568945197%5D%2C%20%5B126.99647930158565%2C%2037.58845217708608%5D%2C%20%5B126.99348293358314%2C%2037.588565457216156%5D%2C%20%5B126.98858114244759%2C%2037.58971272682123%5D%2C%20%5B126.98596926877026%2C%2037.59105697466976%5D%2C%20%5B126.98411250331745%2C%2037.59305007059415%5D%2C%20%5B126.98366752610544%2C%2037.596350797276386%5D%2C%20%5B126.98700989661556%2C%2037.59664611897289%5D%2C%20%5B126.98984276495587%2C%2037.59842301677683%5D%2C%20%5B126.9880021251863%2C%2037.60434406739665%5D%2C%20%5B126.98906118629816%2C%2037.60778324866486%5D%2C%20%5B126.98879865992384%2C%2037.6118927319756%5D%2C%20%5B126.9849070918475%2C%2037.61390303132951%5D%2C%20%5B126.98297129719916%2C%2037.61996223346171%5D%2C%20%5B126.98130955822086%2C%2037.621781567952816%5D%2C%20%5B126.98162508963613%2C%2037.626412913357804%5D%2C%20%5B126.97877284074367%2C%2037.62605559220399%5D%2C%20%5B126.977175406416%2C%2037.62859715400388%5D%5D%5D%2C%20%22type%22%3A%20%22Polygon%22%7D%2C%20%22properties%22%3A%20%7B%22base_year%22%3A%20%222013%22%2C%20%22code%22%3A%20%2211080%22%2C%20%22highlight%22%3A%20%7B%7D%2C%20%22name%22%3A%20%22%5Cuc131%5Cubd81%5Cuad6c%22%2C%20%22name_eng%22%3A%20%22Seongbuk-gu%22%2C%20%22style%22%3A%20%7B%7D%7D%2C%20%22type%22%3A%20%22Feature%22%7D%2C%20%7B%22geometry%22%3A%20%7B%22coordinates%22%3A%20%5B%5B%5B127.07351243825278%2C%2037.61283660342313%5D%2C%20%5B127.08325130652017%2C%2037.61626773063051%5D%2C%20%5B127.08796048322492%2C%2037.617471883010936%5D%2C%20%5B127.09125855705382%2C%2037.61703046232404%5D%2C%20%5B127.09825969127313%2C%2037.61431077622918%5D%2C%20%5B127.10191523948123%2C%2037.61531698025357%5D%2C%20%5B127.10361952102048%2C%2037.61701182935077%5D%2C%20%5B127.10782277688129%2C%2037.61804244241069%5D%2C%20%5B127.11345331993296%2C%2037.617863842655304%5D%2C%20%5B127.11916337651404%2C%2037.615000227833356%5D%2C%20%5B127.1187755615964%2C%2037.61339189160851%5D%2C%20%5B127.11970006573152%2C%2037.60891483985411%5D%2C%20%5B127.11876125411283%2C%2037.606109446640644%5D%2C%20%5B127.12043057261968%2C%2037.60482121408794%5D%2C%20%5B127.1201246020114%2C%2037.60178457598188%5D%2C%20%5B127.11594480655864%2C%2037.59717030173888%5D%2C%20%5B127.1161657841268%2C%2037.5962121213837%5D%2C%20%5B127.12048134936907%2C%2037.59221917979044%5D%2C%20%5B127.11993709114493%2C%2037.5912110652886%5D%2C%20%5B127.11547153661459%2C%2037.590528329194775%5D%2C%20%5B127.11264015185725%2C%2037.58640964166709%5D%2C%20%5B127.11144053497418%2C%2037.58186897928644%5D%2C%20%5B127.10355419751173%2C%2037.58101570870827%5D%2C%20%5B127.10488038804347%2C%2037.57896712496416%5D%2C%20%5B127.10478332632734%2C%2037.575507303239235%5D%2C%20%5B127.10316405057817%2C%2037.57293156986855%5D%2C%20%5B127.10304174249214%2C%2037.57076342290955%5D%2C%20%5B127.1015990771266%2C%2037.56973288819573%5D%2C%20%5B127.09327554832984%2C%2037.566762290300666%5D%2C%20%5B127.08553261581505%2C%2037.56856310839328%5D%2C%20%5B127.08068541280403%2C%2037.56906425519017%5D%2C%20%5B127.08029626481297%2C%2037.57521980955321%5D%2C%20%5B127.07912345005859%2C%2037.57855657914261%5D%2C%20%5B127.07327401376529%2C%2037.585954498442064%5D%2C%20%5B127.07152840437725%2C%2037.593413161750675%5D%2C%20%5B127.07216156147413%2C%2037.59537631888819%5D%2C%20%5B127.07457336676376%2C%2037.5983180561341%5D%2C%20%5B127.07481016030349%2C%2037.60000012932336%5D%2C%20%5B127.07382707099227%2C%2037.60401928986419%5D%2C%20%5B127.07351243825278%2C%2037.61283660342313%5D%5D%5D%2C%20%22type%22%3A%20%22Polygon%22%7D%2C%20%22properties%22%3A%20%7B%22base_year%22%3A%20%222013%22%2C%20%22code%22%3A%20%2211070%22%2C%20%22highlight%22%3A%20%7B%7D%2C%20%22name%22%3A%20%22%5Cuc911%5Cub791%5Cuad6c%22%2C%20%22name_eng%22%3A%20%22Jungnang-gu%22%2C%20%22style%22%3A%20%7B%7D%7D%2C%20%22type%22%3A%20%22Feature%22%7D%2C%20%7B%22geometry%22%3A%20%7B%22coordinates%22%3A%20%5B%5B%5B127.02527254528003%2C%2037.57524616245249%5D%2C%20%5B127.03121630347839%2C%2037.57957997701485%5D%2C%20%5B127.0384945038446%2C%2037.587129138658426%5D%2C%20%5B127.04116895171082%2C%2037.58847599306138%5D%2C%20%5B127.042705222094%2C%2037.59239437593391%5D%2C%20%5B127.0461318196879%2C%2037.593514180513594%5D%2C%20%5B127.04975439355248%2C%2037.59349421284317%5D%2C%20%5B127.05238061017225%2C%2037.598312271275574%5D%2C%20%5B127.05413734593897%2C%2037.5971595374718%5D%2C%20%5B127.059485363799%2C%2037.598743571420485%5D%2C%20%5B127.0612685122857%2C%2037.59823077263369%5D%2C%20%5B127.06424828533608%2C%2037.60234356864383%5D%2C%20%5B127.06753185518703%2C%2037.602724214598744%5D%2C%20%5B127.07084342033339%2C%2037.60407877132597%5D%2C%20%5B127.07069716820665%2C%2037.60653037341939%5D%2C%20%5B127.07257736686556%2C%2037.60654335765868%5D%2C%20%5B127.07382707099227%2C%2037.60401928986419%5D%2C%20%5B127.07481016030349%2C%2037.60000012932336%5D%2C%20%5B127.07457336676376%2C%2037.5983180561341%5D%2C%20%5B127.07216156147413%2C%2037.59537631888819%5D%2C%20%5B127.07152840437725%2C%2037.593413161750675%5D%2C%20%5B127.07327401376529%2C%2037.585954498442064%5D%2C%20%5B127.07912345005859%2C%2037.57855657914261%5D%2C%20%5B127.08029626481297%2C%2037.57521980955321%5D%2C%20%5B127.08068541280403%2C%2037.56906425519017%5D%2C%20%5B127.07421053024362%2C%2037.55724769712085%5D%2C%20%5B127.07287485628252%2C%2037.55777591771644%5D%2C%20%5B127.06151678590773%2C%2037.55942885203987%5D%2C%20%5B127.06031059899311%2C%2037.55992251180729%5D%2C%20%5B127.05005601081567%2C%2037.567577612590846%5D%2C%20%5B127.0442866611438%2C%2037.57022476304866%5D%2C%20%5B127.04003329296518%2C%2037.57010227772625%5D%2C%20%5B127.03483042272745%2C%2037.567549767306716%5D%2C%20%5B127.03182413083377%2C%2037.56712900013391%5D%2C%20%5B127.02547266349976%2C%2037.568943552237734%5D%2C%20%5B127.02527254528003%2C%2037.57524616245249%5D%5D%5D%2C%20%22type%22%3A%20%22Polygon%22%7D%2C%20%22properties%22%3A%20%7B%22base_year%22%3A%20%222013%22%2C%20%22code%22%3A%20%2211060%22%2C%20%22highlight%22%3A%20%7B%7D%2C%20%22name%22%3A%20%22%5Cub3d9%5Cub300%5Cubb38%5Cuad6c%22%2C%20%22name_eng%22%3A%20%22Dongdaemun-gu%22%2C%20%22style%22%3A%20%7B%7D%7D%2C%20%22type%22%3A%20%22Feature%22%7D%2C%20%7B%22geometry%22%3A%20%7B%22coordinates%22%3A%20%5B%5B%5B127.08068541280403%2C%2037.56906425519017%5D%2C%20%5B127.08553261581505%2C%2037.56856310839328%5D%2C%20%5B127.09327554832984%2C%2037.566762290300666%5D%2C%20%5B127.1015990771266%2C%2037.56973288819573%5D%2C%20%5B127.10304174249214%2C%2037.57076342290955%5D%2C%20%5B127.10627148043552%2C%2037.568124945986824%5D%2C%20%5B127.10545359063936%2C%2037.56685230388649%5D%2C%20%5B127.10407152037101%2C%2037.55958871940823%5D%2C%20%5B127.10325742736646%2C%2037.5572251707506%5D%2C%20%5B127.11270952006532%2C%2037.55702358575743%5D%2C%20%5B127.11519584981606%2C%2037.557533180704915%5D%2C%20%5B127.11600943681239%2C%2037.55580061507081%5D%2C%20%5B127.11600200349189%2C%2037.55053147511706%5D%2C%20%5B127.11418412219375%2C%2037.54474592090681%5D%2C%20%5B127.1116764203608%2C%2037.540669955324965%5D%2C%20%5B127.10484130265957%2C%2037.53120327509912%5D%2C%20%5B127.10087519791962%2C%2037.524841220167055%5D%2C%20%5B127.0943611414465%2C%2037.523984206117525%5D%2C%20%5B127.08639455667742%2C%2037.52161824624356%5D%2C%20%5B127.07968915919895%2C%2037.52077294752823%5D%2C%20%5B127.07496309841329%2C%2037.52091052765938%5D%2C%20%5B127.0690698130372%2C%2037.522279423505026%5D%2C%20%5B127.05867359288398%2C%2037.52629974922568%5D%2C%20%5B127.06896218881212%2C%2037.544361436565524%5D%2C%20%5B127.07580697427795%2C%2037.556641581290656%5D%2C%20%5B127.07421053024362%2C%2037.55724769712085%5D%2C%20%5B127.08068541280403%2C%2037.56906425519017%5D%5D%5D%2C%20%22type%22%3A%20%22Polygon%22%7D%2C%20%22properties%22%3A%20%7B%22base_year%22%3A%20%222013%22%2C%20%22code%22%3A%20%2211050%22%2C%20%22highlight%22%3A%20%7B%7D%2C%20%22name%22%3A%20%22%5Cuad11%5Cuc9c4%5Cuad6c%22%2C%20%22name_eng%22%3A%20%22Gwangjin-gu%22%2C%20%22style%22%3A%20%7B%7D%7D%2C%20%22type%22%3A%20%22Feature%22%7D%2C%20%7B%22geometry%22%3A%20%7B%22coordinates%22%3A%20%5B%5B%5B127.02547266349976%2C%2037.568943552237734%5D%2C%20%5B127.03182413083377%2C%2037.56712900013391%5D%2C%20%5B127.03483042272745%2C%2037.567549767306716%5D%2C%20%5B127.04003329296518%2C%2037.57010227772625%5D%2C%20%5B127.0442866611438%2C%2037.57022476304866%5D%2C%20%5B127.05005601081567%2C%2037.567577612590846%5D%2C%20%5B127.06031059899311%2C%2037.55992251180729%5D%2C%20%5B127.06151678590773%2C%2037.55942885203987%5D%2C%20%5B127.07287485628252%2C%2037.55777591771644%5D%2C%20%5B127.07421053024362%2C%2037.55724769712085%5D%2C%20%5B127.07580697427795%2C%2037.556641581290656%5D%2C%20%5B127.06896218881212%2C%2037.544361436565524%5D%2C%20%5B127.05867359288398%2C%2037.52629974922568%5D%2C%20%5B127.05116490008963%2C%2037.52975116557232%5D%2C%20%5B127.04903802830752%2C%2037.53140496708317%5D%2C%20%5B127.04806779588436%2C%2037.52970198575087%5D%2C%20%5B127.0319617044248%2C%2037.536064291470424%5D%2C%20%5B127.0269608080842%2C%2037.53484752757724%5D%2C%20%5B127.02302831890559%2C%2037.53231899582663%5D%2C%20%5B127.01689265453608%2C%2037.536101393926174%5D%2C%20%5B127.01157414590769%2C%2037.53677688273679%5D%2C%20%5B127.01043978345277%2C%2037.53905983303592%5D%2C%20%5B127.01070894177482%2C%2037.54118048964762%5D%2C%20%5B127.01172101406588%2C%2037.545252245650516%5D%2C%20%5B127.01376082027429%2C%2037.54571276061997%5D%2C%20%5B127.01889368846282%2C%2037.55057696424215%5D%2C%20%5B127.01951516360089%2C%2037.55318470254581%5D%2C%20%5B127.02174792168286%2C%2037.55473509405241%5D%2C%20%5B127.02496143707425%2C%2037.555070476260596%5D%2C%20%5B127.0257913546443%2C%2037.558352834264504%5D%2C%20%5B127.02836991434461%2C%2037.56019645010606%5D%2C%20%5B127.02881029425372%2C%2037.56219283885279%5D%2C%20%5B127.02571971403893%2C%2037.56237200595601%5D%2C%20%5B127.02547266349976%2C%2037.568943552237734%5D%5D%5D%2C%20%22type%22%3A%20%22Polygon%22%7D%2C%20%22properties%22%3A%20%7B%22base_year%22%3A%20%222013%22%2C%20%22code%22%3A%20%2211040%22%2C%20%22highlight%22%3A%20%7B%7D%2C%20%22name%22%3A%20%22%5Cuc131%5Cub3d9%5Cuad6c%22%2C%20%22name_eng%22%3A%20%22Seongdong-gu%22%2C%20%22style%22%3A%20%7B%7D%7D%2C%20%22type%22%3A%20%22Feature%22%7D%2C%20%7B%22geometry%22%3A%20%7B%22coordinates%22%3A%20%5B%5B%5B127.01070894177482%2C%2037.54118048964762%5D%2C%20%5B127.01043978345277%2C%2037.53905983303592%5D%2C%20%5B127.01157414590769%2C%2037.53677688273679%5D%2C%20%5B127.01689265453608%2C%2037.536101393926174%5D%2C%20%5B127.02302831890559%2C%2037.53231899582663%5D%2C%20%5B127.01397119667513%2C%2037.52503988289669%5D%2C%20%5B127.01022186960886%2C%2037.522020085671926%5D%2C%20%5B127.00818058911564%2C%2037.51877313923874%5D%2C%20%5B127.00583392114271%2C%2037.516905128452926%5D%2C%20%5B127.00011962020382%2C%2037.513901653034374%5D%2C%20%5B126.99148001917875%2C%2037.50990503427709%5D%2C%20%5B126.98948242685965%2C%2037.5108780134613%5D%2C%20%5B126.98458580602838%2C%2037.51070333105394%5D%2C%20%5B126.98223807916081%2C%2037.509314966770326%5D%2C%20%5B126.96670111119346%2C%2037.50997579058433%5D%2C%20%5B126.95950268374823%2C%2037.51249532165974%5D%2C%20%5B126.95551848909955%2C%2037.514736123015844%5D%2C%20%5B126.95249990298159%2C%2037.51722500741813%5D%2C%20%5B126.95003825019774%2C%2037.520781022055274%5D%2C%20%5B126.9488066464266%2C%2037.52424913252661%5D%2C%20%5B126.94566733083212%2C%2037.526617542453366%5D%2C%20%5B126.94717864071288%2C%2037.53213495568077%5D%2C%20%5B126.95340780191557%2C%2037.533494726370755%5D%2C%20%5B126.95926437828754%2C%2037.53897908363236%5D%2C%20%5B126.9605977865388%2C%2037.542661954880806%5D%2C%20%5B126.96231305253527%2C%2037.543511558047456%5D%2C%20%5B126.96401856825223%2C%2037.54584596959762%5D%2C%20%5B126.96604189284825%2C%2037.546894141748815%5D%2C%20%5B126.96448570553055%2C%2037.548705692021635%5D%2C%20%5B126.96782902931233%2C%2037.55132047039716%5D%2C%20%5B126.97427174983227%2C%2037.55109017579016%5D%2C%20%5B126.97859017732588%2C%2037.550336476582174%5D%2C%20%5B126.97925452152829%2C%2037.552184137181925%5D%2C%20%5B126.98262900956787%2C%2037.5506055959842%5D%2C%20%5B126.98584427779701%2C%2037.55023778139842%5D%2C%20%5B126.98752996903328%2C%2037.55094818807139%5D%2C%20%5B126.9899124474417%2C%2037.54869376545355%5D%2C%20%5B126.99238536723166%2C%2037.54862980831976%5D%2C%20%5B126.99742220893982%2C%2037.544438365587226%5D%2C%20%5B127.00062378484931%2C%2037.54713274618077%5D%2C%20%5B127.00478682371764%2C%2037.54680216333233%5D%2C%20%5B127.00632779182564%2C%2037.54757707053058%5D%2C%20%5B127.00694507580798%2C%2037.5433832956489%5D%2C%20%5B127.00936066823724%2C%2037.54101133407434%5D%2C%20%5B127.01070894177482%2C%2037.54118048964762%5D%5D%5D%2C%20%22type%22%3A%20%22Polygon%22%7D%2C%20%22properties%22%3A%20%7B%22base_year%22%3A%20%222013%22%2C%20%22code%22%3A%20%2211030%22%2C%20%22highlight%22%3A%20%7B%7D%2C%20%22name%22%3A%20%22%5Cuc6a9%5Cuc0b0%5Cuad6c%22%2C%20%22name_eng%22%3A%20%22Yongsan-gu%22%2C%20%22style%22%3A%20%7B%7D%7D%2C%20%22type%22%3A%20%22Feature%22%7D%2C%20%7B%22geometry%22%3A%20%7B%22coordinates%22%3A%20%5B%5B%5B127.02547266349976%2C%2037.568943552237734%5D%2C%20%5B127.02571971403893%2C%2037.56237200595601%5D%2C%20%5B127.02881029425372%2C%2037.56219283885279%5D%2C%20%5B127.02836991434461%2C%2037.56019645010606%5D%2C%20%5B127.0257913546443%2C%2037.558352834264504%5D%2C%20%5B127.02496143707425%2C%2037.555070476260596%5D%2C%20%5B127.02174792168286%2C%2037.55473509405241%5D%2C%20%5B127.01951516360089%2C%2037.55318470254581%5D%2C%20%5B127.01889368846282%2C%2037.55057696424215%5D%2C%20%5B127.01376082027429%2C%2037.54571276061997%5D%2C%20%5B127.01172101406588%2C%2037.545252245650516%5D%2C%20%5B127.01070894177482%2C%2037.54118048964762%5D%2C%20%5B127.00936066823724%2C%2037.54101133407434%5D%2C%20%5B127.00694507580798%2C%2037.5433832956489%5D%2C%20%5B127.00632779182564%2C%2037.54757707053058%5D%2C%20%5B127.00478682371764%2C%2037.54680216333233%5D%2C%20%5B127.00062378484931%2C%2037.54713274618077%5D%2C%20%5B126.99742220893982%2C%2037.544438365587226%5D%2C%20%5B126.99238536723166%2C%2037.54862980831976%5D%2C%20%5B126.9899124474417%2C%2037.54869376545355%5D%2C%20%5B126.98752996903328%2C%2037.55094818807139%5D%2C%20%5B126.98584427779701%2C%2037.55023778139842%5D%2C%20%5B126.98262900956787%2C%2037.5506055959842%5D%2C%20%5B126.97925452152829%2C%2037.552184137181925%5D%2C%20%5B126.97859017732588%2C%2037.550336476582174%5D%2C%20%5B126.97427174983227%2C%2037.55109017579016%5D%2C%20%5B126.96782902931233%2C%2037.55132047039716%5D%2C%20%5B126.96448570553055%2C%2037.548705692021635%5D%2C%20%5B126.96380145704283%2C%2037.55254525759954%5D%2C%20%5B126.96519694864509%2C%2037.55362533505407%5D%2C%20%5B126.96358226710812%2C%2037.55605635475154%5D%2C%20%5B126.96570855677983%2C%2037.556512377492325%5D%2C%20%5B126.96900073076728%2C%2037.55850929094393%5D%2C%20%5B126.97169209525231%2C%2037.55921654641677%5D%2C%20%5B126.96873633279075%2C%2037.56313604690827%5D%2C%20%5B126.97114791678374%2C%2037.56539818101368%5D%2C%20%5B126.97500684322326%2C%2037.566406971064836%5D%2C%20%5B126.97990305661519%2C%2037.5664536437083%5D%2C%20%5B126.9910070921652%2C%2037.565312022428806%5D%2C%20%5B126.99879870609924%2C%2037.56591346564579%5D%2C%20%5B127.00372480409301%2C%2037.56679519621814%5D%2C%20%5B127.01786686709805%2C%2037.56701276414023%5D%2C%20%5B127.02250839667563%2C%2037.56892943928301%5D%2C%20%5B127.02547266349976%2C%2037.568943552237734%5D%5D%5D%2C%20%22type%22%3A%20%22Polygon%22%7D%2C%20%22properties%22%3A%20%7B%22base_year%22%3A%20%222013%22%2C%20%22code%22%3A%20%2211020%22%2C%20%22highlight%22%3A%20%7B%7D%2C%20%22name%22%3A%20%22%5Cuc911%5Cuad6c%22%2C%20%22name_eng%22%3A%20%22Jung-gu%22%2C%20%22style%22%3A%20%7B%7D%7D%2C%20%22type%22%3A%20%22Feature%22%7D%2C%20%7B%22geometry%22%3A%20%7B%22coordinates%22%3A%20%5B%5B%5B126.9738864128702%2C%2037.62949634786888%5D%2C%20%5B126.977175406416%2C%2037.62859715400388%5D%2C%20%5B126.97877284074367%2C%2037.62605559220399%5D%2C%20%5B126.98162508963613%2C%2037.626412913357804%5D%2C%20%5B126.98130955822086%2C%2037.621781567952816%5D%2C%20%5B126.98297129719916%2C%2037.61996223346171%5D%2C%20%5B126.9849070918475%2C%2037.61390303132951%5D%2C%20%5B126.98879865992384%2C%2037.6118927319756%5D%2C%20%5B126.98906118629816%2C%2037.60778324866486%5D%2C%20%5B126.9880021251863%2C%2037.60434406739665%5D%2C%20%5B126.98984276495587%2C%2037.59842301677683%5D%2C%20%5B126.98700989661556%2C%2037.59664611897289%5D%2C%20%5B126.98366752610544%2C%2037.596350797276386%5D%2C%20%5B126.98411250331745%2C%2037.59305007059415%5D%2C%20%5B126.98596926877026%2C%2037.59105697466976%5D%2C%20%5B126.98858114244759%2C%2037.58971272682123%5D%2C%20%5B126.99348293358314%2C%2037.588565457216156%5D%2C%20%5B126.99647930158565%2C%2037.58845217708608%5D%2C%20%5B126.99774058571116%2C%2037.58944568945197%5D%2C%20%5B127.00304474231643%2C%2037.58959898679736%5D%2C%20%5B127.00453322588274%2C%2037.58626325611708%5D%2C%20%5B127.00803641804285%2C%2037.5841154647404%5D%2C%20%5B127.00896672237498%2C%2037.582512606964876%5D%2C%20%5B127.00914513999258%2C%2037.57928387879304%5D%2C%20%5B127.01094467951529%2C%2037.57765758282494%5D%2C%20%5B127.01678966486051%2C%2037.57943162455397%5D%2C%20%5B127.01849412471284%2C%2037.57904760334465%5D%2C%20%5B127.02039107536422%2C%2037.575771872553595%5D%2C%20%5B127.02395698453867%2C%2037.576068086896726%5D%2C%20%5B127.02527254528003%2C%2037.57524616245249%5D%2C%20%5B127.02547266349976%2C%2037.568943552237734%5D%2C%20%5B127.02250839667563%2C%2037.56892943928301%5D%2C%20%5B127.01786686709805%2C%2037.56701276414023%5D%2C%20%5B127.00372480409301%2C%2037.56679519621814%5D%2C%20%5B126.99879870609924%2C%2037.56591346564579%5D%2C%20%5B126.9910070921652%2C%2037.565312022428806%5D%2C%20%5B126.97990305661519%2C%2037.5664536437083%5D%2C%20%5B126.97500684322326%2C%2037.566406971064836%5D%2C%20%5B126.97114791678374%2C%2037.56539818101368%5D%2C%20%5B126.96873633279075%2C%2037.56313604690827%5D%2C%20%5B126.95565425846463%2C%2037.576080790881456%5D%2C%20%5B126.95789326971087%2C%2037.57793453336025%5D%2C%20%5B126.96177754536156%2C%2037.57970124256911%5D%2C%20%5B126.95879970726017%2C%2037.58189826471162%5D%2C%20%5B126.96048802632431%2C%2037.587202077053746%5D%2C%20%5B126.960424902266%2C%2037.58868913291801%5D%2C%20%5B126.95842779914786%2C%2037.592356673207824%5D%2C%20%5B126.95924434840931%2C%2037.59545024466215%5D%2C%20%5B126.95619178283661%2C%2037.59575826218021%5D%2C%20%5B126.95484771718951%2C%2037.59761368186209%5D%2C%20%5B126.95564117002459%2C%2037.601827148276776%5D%2C%20%5B126.95480868778256%2C%2037.60381765067903%5D%2C%20%5B126.9524752030572%2C%2037.60508692737045%5D%2C%20%5B126.95187994741721%2C%2037.60600915874973%5D%2C%20%5B126.95308190738618%2C%2037.60926681659027%5D%2C%20%5B126.95249458941419%2C%2037.61333750249896%5D%2C%20%5B126.95145384404022%2C%2037.61493028446385%5D%2C%20%5B126.9528332649861%2C%2037.6161065117682%5D%2C%20%5B126.95393421039743%2C%2037.61877981567335%5D%2C%20%5B126.95427017006129%2C%2037.622033431339425%5D%2C%20%5B126.95885198650147%2C%2037.6225761621008%5D%2C%20%5B126.96164158910712%2C%2037.62569322976388%5D%2C%20%5B126.97135221665513%2C%2037.62743418897386%5D%2C%20%5B126.9738864128702%2C%2037.62949634786888%5D%5D%5D%2C%20%22type%22%3A%20%22Polygon%22%7D%2C%20%22properties%22%3A%20%7B%22base_year%22%3A%20%222013%22%2C%20%22code%22%3A%20%2211010%22%2C%20%22highlight%22%3A%20%7B%7D%2C%20%22name%22%3A%20%22%5Cuc885%5Cub85c%5Cuad6c%22%2C%20%22name_eng%22%3A%20%22Jongno-gu%22%2C%20%22style%22%3A%20%7B%7D%7D%2C%20%22type%22%3A%20%22Feature%22%7D%5D%2C%20%22type%22%3A%20%22FeatureCollection%22%7D%2C%0A%20%20%20%20%20%20%20%20%20%20%20%20%7B%0A%20%20%20%20%20%20%20%20%20%20%20%20%7D%0A%20%20%20%20%20%20%20%20%29.addTo%28map_86adf8a4ad4d43d8aa99329ca407226d%20%29%3B%0A%20%20%20%20%20%20%20%20geo_json_daa497612441406eb8246c9ddc017b58.setStyle%28function%28feature%29%20%7Breturn%20feature.properties.style%3B%7D%29%3B%0A%20%20%20%20%20%20%20%20%0A%20%20%20%20%0A%20%20%20%20%20%20%20%20%20%20%20%20%20%20%20%20var%20poly_line_fa98bc95e7534c35ac9698a2e06bf7b7%20%3D%20L.polyline%28%0A%20%20%20%20%20%20%20%20%20%20%20%20%20%20%20%20%20%20%20%20%5B%5B37.5552507%2C%20126.7655622%5D%2C%20%5B37.5552507%2C%20126.7700588%5D%2C%20%5B37.5552507%2C%20126.7745554%5D%2C%20%5B37.5477793%2C%20126.779052%5D%2C%20%5B37.5552507%2C%20126.779052%5D%2C%20%5B37.5627221%2C%20126.779052%5D%2C%20%5B37.5477793%2C%20126.7835486%5D%2C%20%5B37.5552507%2C%20126.7835486%5D%2C%20%5B37.5627221%2C%20126.7835486%5D%2C%20%5B37.5701935%2C%20126.7835486%5D%2C%20%5B37.5477793%2C%20126.7880452%5D%2C%20%5B37.5552507%2C%20126.7880452%5D%2C%20%5B37.5627221%2C%20126.7880452%5D%2C%20%5B37.5701935%2C%20126.7880452%5D%2C%20%5B37.5477793%2C%20126.7925418%5D%2C%20%5B37.5552507%2C%20126.7925418%5D%2C%20%5B37.5627221%2C%20126.7925418%5D%2C%20%5B37.5701935%2C%20126.7925418%5D%2C%20%5B37.5776649%2C%20126.7925418%5D%2C%20%5B37.5403079%2C%20126.7970384%5D%2C%20%5B37.5477793%2C%20126.7970384%5D%2C%20%5B37.5552507%2C%20126.7970384%5D%2C%20%5B37.5627221%2C%20126.7970384%5D%2C%20%5B37.5701935%2C%20126.7970384%5D%2C%20%5B37.5776649%2C%20126.7970384%5D%2C%20%5B37.5851363%2C%20126.7970384%5D%2C%20%5B37.5477793%2C%20126.801535%5D%2C%20%5B37.5552507%2C%20126.801535%5D%2C%20%5B37.5627221%2C%20126.801535%5D%2C%20%5B37.5701935%2C%20126.801535%5D%2C%20%5B37.5776649%2C%20126.801535%5D%2C%20%5B37.5851363%2C%20126.801535%5D%2C%20%5B37.5926077%2C%20126.801535%5D%2C%20%5B37.6000791%2C%20126.801535%5D%2C%20%5B37.5477793%2C%20126.8060316%5D%2C%20%5B37.5552507%2C%20126.8060316%5D%2C%20%5B37.5627221%2C%20126.8060316%5D%2C%20%5B37.5701935%2C%20126.8060316%5D%2C%20%5B37.5776649%2C%20126.8060316%5D%2C%20%5B37.5851363%2C%20126.8060316%5D%2C%20%5B37.5926077%2C%20126.8060316%5D%2C%20%5B37.6000791%2C%20126.8060316%5D%2C%20%5B37.5477793%2C%20126.8105282%5D%2C%20%5B37.5552507%2C%20126.8105282%5D%2C%20%5B37.5627221%2C%20126.8105282%5D%2C%20%5B37.5701935%2C%20126.8105282%5D%2C%20%5B37.5776649%2C%20126.8105282%5D%2C%20%5B37.5851363%2C%20126.8105282%5D%2C%20%5B37.5926077%2C%20126.8105282%5D%2C%20%5B37.4954795%2C%20126.8150248%5D%2C%20%5B37.5477793%2C%20126.8150248%5D%2C%20%5B37.5552507%2C%20126.8150248%5D%2C%20%5B37.5627221%2C%20126.8150248%5D%2C%20%5B37.5701935%2C%20126.8150248%5D%2C%20%5B37.5776649%2C%20126.8150248%5D%2C%20%5B37.5851363%2C%20126.8150248%5D%2C%20%5B37.5926077%2C%20126.8150248%5D%2C%20%5B37.4954795%2C%20126.8195214%5D%2C%20%5B37.5477793%2C%20126.8195214%5D%2C%20%5B37.5552507%2C%20126.8195214%5D%2C%20%5B37.5627221%2C%20126.8195214%5D%2C%20%5B37.5701935%2C%20126.8195214%5D%2C%20%5B37.5776649%2C%20126.8195214%5D%2C%20%5B37.5851363%2C%20126.8195214%5D%2C%20%5B37.5926077%2C%20126.8195214%5D%2C%20%5B37.4805367%2C%20126.824018%5D%2C%20%5B37.4880081%2C%20126.824018%5D%2C%20%5B37.4954795%2C%20126.824018%5D%2C%20%5B37.5029509%2C%20126.824018%5D%2C%20%5B37.5328365%2C%20126.824018%5D%2C%20%5B37.5403079%2C%20126.824018%5D%2C%20%5B37.5477793%2C%20126.824018%5D%2C%20%5B37.5552507%2C%20126.824018%5D%2C%20%5B37.5627221%2C%20126.824018%5D%2C%20%5B37.5701935%2C%20126.824018%5D%2C%20%5B37.5776649%2C%20126.824018%5D%2C%20%5B37.5851363%2C%20126.824018%5D%2C%20%5B37.4805367%2C%20126.8285146%5D%2C%20%5B37.4880081%2C%20126.8285146%5D%2C%20%5B37.4954795%2C%20126.8285146%5D%2C%20%5B37.5029509%2C%20126.8285146%5D%2C%20%5B37.5104223%2C%20126.8285146%5D%2C%20%5B37.5178937%2C%20126.8285146%5D%2C%20%5B37.5253651%2C%20126.8285146%5D%2C%20%5B37.5328365%2C%20126.8285146%5D%2C%20%5B37.5403079%2C%20126.8285146%5D%2C%20%5B37.5477793%2C%20126.8285146%5D%2C%20%5B37.5552507%2C%20126.8285146%5D%2C%20%5B37.5627221%2C%20126.8285146%5D%2C%20%5B37.5701935%2C%20126.8285146%5D%2C%20%5B37.5776649%2C%20126.8285146%5D%2C%20%5B37.5851363%2C%20126.8285146%5D%2C%20%5B37.4805367%2C%20126.8330112%5D%2C%20%5B37.4880081%2C%20126.8330112%5D%2C%20%5B37.4954795%2C%20126.8330112%5D%2C%20%5B37.5029509%2C%20126.8330112%5D%2C%20%5B37.5104223%2C%20126.8330112%5D%2C%20%5B37.5178937%2C%20126.8330112%5D%2C%20%5B37.5253651%2C%20126.8330112%5D%2C%20%5B37.5328365%2C%20126.8330112%5D%2C%20%5B37.5403079%2C%20126.8330112%5D%2C%20%5B37.5477793%2C%20126.8330112%5D%2C%20%5B37.5552507%2C%20126.8330112%5D%2C%20%5B37.5627221%2C%20126.8330112%5D%2C%20%5B37.5701935%2C%20126.8330112%5D%2C%20%5B37.5776649%2C%20126.8330112%5D%2C%20%5B37.4805367%2C%20126.8375078%5D%2C%20%5B37.4880081%2C%20126.8375078%5D%2C%20%5B37.4954795%2C%20126.8375078%5D%2C%20%5B37.5029509%2C%20126.8375078%5D%2C%20%5B37.5104223%2C%20126.8375078%5D%2C%20%5B37.5178937%2C%20126.8375078%5D%2C%20%5B37.5253651%2C%20126.8375078%5D%2C%20%5B37.5328365%2C%20126.8375078%5D%2C%20%5B37.5403079%2C%20126.8375078%5D%2C%20%5B37.5477793%2C%20126.8375078%5D%2C%20%5B37.5552507%2C%20126.8375078%5D%2C%20%5B37.5627221%2C%20126.8375078%5D%2C%20%5B37.5701935%2C%20126.8375078%5D%2C%20%5B37.5776649%2C%20126.8375078%5D%2C%20%5B37.4805367%2C%20126.8420044%5D%2C%20%5B37.4880081%2C%20126.8420044%5D%2C%20%5B37.4954795%2C%20126.8420044%5D%2C%20%5B37.5029509%2C%20126.8420044%5D%2C%20%5B37.5104223%2C%20126.8420044%5D%2C%20%5B37.5178937%2C%20126.8420044%5D%2C%20%5B37.5253651%2C%20126.8420044%5D%2C%20%5B37.5328365%2C%20126.8420044%5D%2C%20%5B37.5403079%2C%20126.8420044%5D%2C%20%5B37.5477793%2C%20126.8420044%5D%2C%20%5B37.5552507%2C%20126.8420044%5D%2C%20%5B37.5627221%2C%20126.8420044%5D%2C%20%5B37.5701935%2C%20126.8420044%5D%2C%20%5B37.5776649%2C%20126.8420044%5D%2C%20%5B37.4880081%2C%20126.846501%5D%2C%20%5B37.4954795%2C%20126.846501%5D%2C%20%5B37.5029509%2C%20126.846501%5D%2C%20%5B37.5104223%2C%20126.846501%5D%2C%20%5B37.5178937%2C%20126.846501%5D%2C%20%5B37.5253651%2C%20126.846501%5D%2C%20%5B37.5328365%2C%20126.846501%5D%2C%20%5B37.5403079%2C%20126.846501%5D%2C%20%5B37.5477793%2C%20126.846501%5D%2C%20%5B37.5552507%2C%20126.846501%5D%2C%20%5B37.5627221%2C%20126.846501%5D%2C%20%5B37.5701935%2C%20126.846501%5D%2C%20%5B37.4880081%2C%20126.8509976%5D%2C%20%5B37.4954795%2C%20126.8509976%5D%2C%20%5B37.5029509%2C%20126.8509976%5D%2C%20%5B37.5104223%2C%20126.8509976%5D%2C%20%5B37.5178937%2C%20126.8509976%5D%2C%20%5B37.5253651%2C%20126.8509976%5D%2C%20%5B37.5328365%2C%20126.8509976%5D%2C%20%5B37.5403079%2C%20126.8509976%5D%2C%20%5B37.5477793%2C%20126.8509976%5D%2C%20%5B37.5552507%2C%20126.8509976%5D%2C%20%5B37.5627221%2C%20126.8509976%5D%2C%20%5B37.5701935%2C%20126.8509976%5D%2C%20%5B37.4880081%2C%20126.8554942%5D%2C%20%5B37.4954795%2C%20126.8554942%5D%2C%20%5B37.5029509%2C%20126.8554942%5D%2C%20%5B37.5104223%2C%20126.8554942%5D%2C%20%5B37.5178937%2C%20126.8554942%5D%2C%20%5B37.5253651%2C%20126.8554942%5D%2C%20%5B37.5328365%2C%20126.8554942%5D%2C%20%5B37.5403079%2C%20126.8554942%5D%2C%20%5B37.5477793%2C%20126.8554942%5D%2C%20%5B37.5552507%2C%20126.8554942%5D%2C%20%5B37.5627221%2C%20126.8554942%5D%2C%20%5B37.5701935%2C%20126.8554942%5D%2C%20%5B37.4954795%2C%20126.8599908%5D%2C%20%5B37.5029509%2C%20126.8599908%5D%2C%20%5B37.5104223%2C%20126.8599908%5D%2C%20%5B37.5178937%2C%20126.8599908%5D%2C%20%5B37.5253651%2C%20126.8599908%5D%2C%20%5B37.5328365%2C%20126.8599908%5D%2C%20%5B37.5403079%2C%20126.8599908%5D%2C%20%5B37.5477793%2C%20126.8599908%5D%2C%20%5B37.5552507%2C%20126.8599908%5D%2C%20%5B37.5627221%2C%20126.8599908%5D%2C%20%5B37.5701935%2C%20126.8599908%5D%2C%20%5B37.4954795%2C%20126.8644874%5D%2C%20%5B37.5029509%2C%20126.8644874%5D%2C%20%5B37.5104223%2C%20126.8644874%5D%2C%20%5B37.5178937%2C%20126.8644874%5D%2C%20%5B37.5253651%2C%20126.8644874%5D%2C%20%5B37.5328365%2C%20126.8644874%5D%2C%20%5B37.5403079%2C%20126.8644874%5D%2C%20%5B37.5477793%2C%20126.8644874%5D%2C%20%5B37.5552507%2C%20126.8644874%5D%2C%20%5B37.5627221%2C%20126.8644874%5D%2C%20%5B37.5701935%2C%20126.8644874%5D%2C%20%5B37.4954795%2C%20126.868984%5D%2C%20%5B37.5029509%2C%20126.868984%5D%2C%20%5B37.5104223%2C%20126.868984%5D%2C%20%5B37.5178937%2C%20126.868984%5D%2C%20%5B37.5253651%2C%20126.868984%5D%2C%20%5B37.5328365%2C%20126.868984%5D%2C%20%5B37.5403079%2C%20126.868984%5D%2C%20%5B37.5477793%2C%20126.868984%5D%2C%20%5B37.5552507%2C%20126.868984%5D%2C%20%5B37.5627221%2C%20126.868984%5D%2C%20%5B37.5701935%2C%20126.868984%5D%2C%20%5B37.4954795%2C%20126.8734806%5D%2C%20%5B37.5029509%2C%20126.8734806%5D%2C%20%5B37.5104223%2C%20126.8734806%5D%2C%20%5B37.5178937%2C%20126.8734806%5D%2C%20%5B37.5253651%2C%20126.8734806%5D%2C%20%5B37.5328365%2C%20126.8734806%5D%2C%20%5B37.5403079%2C%20126.8734806%5D%2C%20%5B37.5477793%2C%20126.8734806%5D%2C%20%5B37.5552507%2C%20126.8734806%5D%2C%20%5B37.5627221%2C%20126.8734806%5D%2C%20%5B37.5701935%2C%20126.8734806%5D%2C%20%5B37.5776649%2C%20126.8734806%5D%2C%20%5B37.4805367%2C%20126.8779772%5D%2C%20%5B37.4880081%2C%20126.8779772%5D%2C%20%5B37.4954795%2C%20126.8779772%5D%2C%20%5B37.5029509%2C%20126.8779772%5D%2C%20%5B37.5104223%2C%20126.8779772%5D%2C%20%5B37.5178937%2C%20126.8779772%5D%2C%20%5B37.5253651%2C%20126.8779772%5D%2C%20%5B37.5328365%2C%20126.8779772%5D%2C%20%5B37.5403079%2C%20126.8779772%5D%2C%20%5B37.5477793%2C%20126.8779772%5D%2C%20%5B37.5552507%2C%20126.8779772%5D%2C%20%5B37.5627221%2C%20126.8779772%5D%2C%20%5B37.5701935%2C%20126.8779772%5D%2C%20%5B37.5776649%2C%20126.8779772%5D%2C%20%5B37.5851363%2C%20126.8779772%5D%2C%20%5B37.4730653%2C%20126.8824738%5D%2C%20%5B37.4805367%2C%20126.8824738%5D%2C%20%5B37.4880081%2C%20126.8824738%5D%2C%20%5B37.4954795%2C%20126.8824738%5D%2C%20%5B37.5029509%2C%20126.8824738%5D%2C%20%5B37.5104223%2C%20126.8824738%5D%2C%20%5B37.5178937%2C%20126.8824738%5D%2C%20%5B37.5253651%2C%20126.8824738%5D%2C%20%5B37.5328365%2C%20126.8824738%5D%2C%20%5B37.5403079%2C%20126.8824738%5D%2C%20%5B37.5477793%2C%20126.8824738%5D%2C%20%5B37.5552507%2C%20126.8824738%5D%2C%20%5B37.5627221%2C%20126.8824738%5D%2C%20%5B37.5701935%2C%20126.8824738%5D%2C%20%5B37.5776649%2C%20126.8824738%5D%2C%20%5B37.5851363%2C%20126.8824738%5D%2C%20%5B37.4581225%2C%20126.8869704%5D%2C%20%5B37.4655939%2C%20126.8869704%5D%2C%20%5B37.4730653%2C%20126.8869704%5D%2C%20%5B37.4805367%2C%20126.8869704%5D%2C%20%5B37.4880081%2C%20126.8869704%5D%2C%20%5B37.4954795%2C%20126.8869704%5D%2C%20%5B37.5029509%2C%20126.8869704%5D%2C%20%5B37.5104223%2C%20126.8869704%5D%2C%20%5B37.5178937%2C%20126.8869704%5D%2C%20%5B37.5253651%2C%20126.8869704%5D%2C%20%5B37.5328365%2C%20126.8869704%5D%2C%20%5B37.5403079%2C%20126.8869704%5D%2C%20%5B37.5477793%2C%20126.8869704%5D%2C%20%5B37.5552507%2C%20126.8869704%5D%2C%20%5B37.5627221%2C%20126.8869704%5D%2C%20%5B37.5701935%2C%20126.8869704%5D%2C%20%5B37.5776649%2C%20126.8869704%5D%2C%20%5B37.5851363%2C%20126.8869704%5D%2C%20%5B37.4581225%2C%20126.891467%5D%2C%20%5B37.4655939%2C%20126.891467%5D%2C%20%5B37.4730653%2C%20126.891467%5D%2C%20%5B37.4805367%2C%20126.891467%5D%2C%20%5B37.4880081%2C%20126.891467%5D%2C%20%5B37.4954795%2C%20126.891467%5D%2C%20%5B37.5029509%2C%20126.891467%5D%2C%20%5B37.5104223%2C%20126.891467%5D%2C%20%5B37.5178937%2C%20126.891467%5D%2C%20%5B37.5253651%2C%20126.891467%5D%2C%20%5B37.5328365%2C%20126.891467%5D%2C%20%5B37.5403079%2C%20126.891467%5D%2C%20%5B37.5477793%2C%20126.891467%5D%2C%20%5B37.5552507%2C%20126.891467%5D%2C%20%5B37.5627221%2C%20126.891467%5D%2C%20%5B37.5701935%2C%20126.891467%5D%2C%20%5B37.5776649%2C%20126.891467%5D%2C%20%5B37.5851363%2C%20126.891467%5D%2C%20%5B37.4506511%2C%20126.8959636%5D%2C%20%5B37.4581225%2C%20126.8959636%5D%2C%20%5B37.4655939%2C%20126.8959636%5D%2C%20%5B37.4730653%2C%20126.8959636%5D%2C%20%5B37.4805367%2C%20126.8959636%5D%2C%20%5B37.4880081%2C%20126.8959636%5D%2C%20%5B37.4954795%2C%20126.8959636%5D%2C%20%5B37.5029509%2C%20126.8959636%5D%2C%20%5B37.5104223%2C%20126.8959636%5D%2C%20%5B37.5178937%2C%20126.8959636%5D%2C%20%5B37.5253651%2C%20126.8959636%5D%2C%20%5B37.5328365%2C%20126.8959636%5D%2C%20%5B37.5403079%2C%20126.8959636%5D%2C%20%5B37.5477793%2C%20126.8959636%5D%2C%20%5B37.5552507%2C%20126.8959636%5D%2C%20%5B37.5627221%2C%20126.8959636%5D%2C%20%5B37.5701935%2C%20126.8959636%5D%2C%20%5B37.5776649%2C%20126.8959636%5D%2C%20%5B37.5851363%2C%20126.8959636%5D%2C%20%5B37.4431797%2C%20126.9004602%5D%2C%20%5B37.4506511%2C%20126.9004602%5D%2C%20%5B37.4581225%2C%20126.9004602%5D%2C%20%5B37.4655939%2C%20126.9004602%5D%2C%20%5B37.4730653%2C%20126.9004602%5D%2C%20%5B37.4805367%2C%20126.9004602%5D%2C%20%5B37.4880081%2C%20126.9004602%5D%2C%20%5B37.4954795%2C%20126.9004602%5D%2C%20%5B37.5029509%2C%20126.9004602%5D%2C%20%5B37.5104223%2C%20126.9004602%5D%2C%20%5B37.5178937%2C%20126.9004602%5D%2C%20%5B37.5253651%2C%20126.9004602%5D%2C%20%5B37.5328365%2C%20126.9004602%5D%2C%20%5B37.5403079%2C%20126.9004602%5D%2C%20%5B37.5477793%2C%20126.9004602%5D%2C%20%5B37.5552507%2C%20126.9004602%5D%2C%20%5B37.5627221%2C%20126.9004602%5D%2C%20%5B37.5701935%2C%20126.9004602%5D%2C%20%5B37.5776649%2C%20126.9004602%5D%2C%20%5B37.5851363%2C%20126.9004602%5D%2C%20%5B37.5926077%2C%20126.9004602%5D%2C%20%5B37.4357083%2C%20126.9049568%5D%2C%20%5B37.4431797%2C%20126.9049568%5D%2C%20%5B37.4506511%2C%20126.9049568%5D%2C%20%5B37.4581225%2C%20126.9049568%5D%2C%20%5B37.4655939%2C%20126.9049568%5D%2C%20%5B37.4730653%2C%20126.9049568%5D%2C%20%5B37.4805367%2C%20126.9049568%5D%2C%20%5B37.4880081%2C%20126.9049568%5D%2C%20%5B37.4954795%2C%20126.9049568%5D%2C%20%5B37.5029509%2C%20126.9049568%5D%2C%20%5B37.5104223%2C%20126.9049568%5D%2C%20%5B37.5178937%2C%20126.9049568%5D%2C%20%5B37.5253651%2C%20126.9049568%5D%2C%20%5B37.5328365%2C%20126.9049568%5D%2C%20%5B37.5403079%2C%20126.9049568%5D%2C%20%5B37.5477793%2C%20126.9049568%5D%2C%20%5B37.5552507%2C%20126.9049568%5D%2C%20%5B37.5627221%2C%20126.9049568%5D%2C%20%5B37.5701935%2C%20126.9049568%5D%2C%20%5B37.5776649%2C%20126.9049568%5D%2C%20%5B37.5851363%2C%20126.9049568%5D%2C%20%5B37.5926077%2C%20126.9049568%5D%2C%20%5B37.6000791%2C%20126.9049568%5D%2C%20%5B37.6075505%2C%20126.9049568%5D%2C%20%5B37.6150219%2C%20126.9049568%5D%2C%20%5B37.4357083%2C%20126.9094534%5D%2C%20%5B37.4431797%2C%20126.9094534%5D%2C%20%5B37.4506511%2C%20126.9094534%5D%2C%20%5B37.4581225%2C%20126.9094534%5D%2C%20%5B37.4655939%2C%20126.9094534%5D%2C%20%5B37.4730653%2C%20126.9094534%5D%2C%20%5B37.4805367%2C%20126.9094534%5D%2C%20%5B37.4880081%2C%20126.9094534%5D%2C%20%5B37.4954795%2C%20126.9094534%5D%2C%20%5B37.5029509%2C%20126.9094534%5D%2C%20%5B37.5104223%2C%20126.9094534%5D%2C%20%5B37.5178937%2C%20126.9094534%5D%2C%20%5B37.5253651%2C%20126.9094534%5D%2C%20%5B37.5328365%2C%20126.9094534%5D%2C%20%5B37.5403079%2C%20126.9094534%5D%2C%20%5B37.5477793%2C%20126.9094534%5D%2C%20%5B37.5552507%2C%20126.9094534%5D%2C%20%5B37.5627221%2C%20126.9094534%5D%2C%20%5B37.5701935%2C%20126.9094534%5D%2C%20%5B37.5776649%2C%20126.9094534%5D%2C%20%5B37.5851363%2C%20126.9094534%5D%2C%20%5B37.5926077%2C%20126.9094534%5D%2C%20%5B37.6000791%2C%20126.9094534%5D%2C%20%5B37.6075505%2C%20126.9094534%5D%2C%20%5B37.6150219%2C%20126.9094534%5D%2C%20%5B37.6224933%2C%20126.9094534%5D%2C%20%5B37.6299647%2C%20126.9094534%5D%2C%20%5B37.4431797%2C%20126.91395%5D%2C%20%5B37.4506511%2C%20126.91395%5D%2C%20%5B37.4581225%2C%20126.91395%5D%2C%20%5B37.4655939%2C%20126.91395%5D%2C%20%5B37.4730653%2C%20126.91395%5D%2C%20%5B37.4805367%2C%20126.91395%5D%2C%20%5B37.4880081%2C%20126.91395%5D%2C%20%5B37.4954795%2C%20126.91395%5D%2C%20%5B37.5029509%2C%20126.91395%5D%2C%20%5B37.5104223%2C%20126.91395%5D%2C%20%5B37.5178937%2C%20126.91395%5D%2C%20%5B37.5253651%2C%20126.91395%5D%2C%20%5B37.5328365%2C%20126.91395%5D%2C%20%5B37.5403079%2C%20126.91395%5D%2C%20%5B37.5477793%2C%20126.91395%5D%2C%20%5B37.5552507%2C%20126.91395%5D%2C%20%5B37.5627221%2C%20126.91395%5D%2C%20%5B37.5701935%2C%20126.91395%5D%2C%20%5B37.5776649%2C%20126.91395%5D%2C%20%5B37.5851363%2C%20126.91395%5D%2C%20%5B37.5926077%2C%20126.91395%5D%2C%20%5B37.6000791%2C%20126.91395%5D%2C%20%5B37.6075505%2C%20126.91395%5D%2C%20%5B37.6150219%2C%20126.91395%5D%2C%20%5B37.6224933%2C%20126.91395%5D%2C%20%5B37.6299647%2C%20126.91395%5D%2C%20%5B37.6374361%2C%20126.91395%5D%2C%20%5B37.4431797%2C%20126.9184466%5D%2C%20%5B37.4506511%2C%20126.9184466%5D%2C%20%5B37.4581225%2C%20126.9184466%5D%2C%20%5B37.4655939%2C%20126.9184466%5D%2C%20%5B37.4730653%2C%20126.9184466%5D%2C%20%5B37.4805367%2C%20126.9184466%5D%2C%20%5B37.4880081%2C%20126.9184466%5D%2C%20%5B37.4954795%2C%20126.9184466%5D%2C%20%5B37.5029509%2C%20126.9184466%5D%2C%20%5B37.5104223%2C%20126.9184466%5D%2C%20%5B37.5178937%2C%20126.9184466%5D%2C%20%5B37.5253651%2C%20126.9184466%5D%2C%20%5B37.5328365%2C%20126.9184466%5D%2C%20%5B37.5403079%2C%20126.9184466%5D%2C%20%5B37.5477793%2C%20126.9184466%5D%2C%20%5B37.5552507%2C%20126.9184466%5D%2C%20%5B37.5627221%2C%20126.9184466%5D%2C%20%5B37.5701935%2C%20126.9184466%5D%2C%20%5B37.5776649%2C%20126.9184466%5D%2C%20%5B37.5851363%2C%20126.9184466%5D%2C%20%5B37.5926077%2C%20126.9184466%5D%2C%20%5B37.6000791%2C%20126.9184466%5D%2C%20%5B37.6075505%2C%20126.9184466%5D%2C%20%5B37.6150219%2C%20126.9184466%5D%2C%20%5B37.6224933%2C%20126.9184466%5D%2C%20%5B37.6299647%2C%20126.9184466%5D%2C%20%5B37.6374361%2C%20126.9184466%5D%2C%20%5B37.6449075%2C%20126.9184466%5D%2C%20%5B37.4506511%2C%20126.9229432%5D%2C%20%5B37.4581225%2C%20126.9229432%5D%2C%20%5B37.4655939%2C%20126.9229432%5D%2C%20%5B37.4730653%2C%20126.9229432%5D%2C%20%5B37.4805367%2C%20126.9229432%5D%2C%20%5B37.4880081%2C%20126.9229432%5D%2C%20%5B37.4954795%2C%20126.9229432%5D%2C%20%5B37.5029509%2C%20126.9229432%5D%2C%20%5B37.5104223%2C%20126.9229432%5D%2C%20%5B37.5178937%2C%20126.9229432%5D%2C%20%5B37.5253651%2C%20126.9229432%5D%2C%20%5B37.5328365%2C%20126.9229432%5D%2C%20%5B37.5403079%2C%20126.9229432%5D%2C%20%5B37.5477793%2C%20126.9229432%5D%2C%20%5B37.5552507%2C%20126.9229432%5D%2C%20%5B37.5627221%2C%20126.9229432%5D%2C%20%5B37.5701935%2C%20126.9229432%5D%2C%20%5B37.5776649%2C%20126.9229432%5D%2C%20%5B37.5851363%2C%20126.9229432%5D%2C%20%5B37.5926077%2C%20126.9229432%5D%2C%20%5B37.6000791%2C%20126.9229432%5D%2C%20%5B37.6075505%2C%20126.9229432%5D%2C%20%5B37.6150219%2C%20126.9229432%5D%2C%20%5B37.6224933%2C%20126.9229432%5D%2C%20%5B37.6299647%2C%20126.9229432%5D%2C%20%5B37.6374361%2C%20126.9229432%5D%2C%20%5B37.6449075%2C%20126.9229432%5D%2C%20%5B37.4506511%2C%20126.9274398%5D%2C%20%5B37.4581225%2C%20126.9274398%5D%2C%20%5B37.4655939%2C%20126.9274398%5D%2C%20%5B37.4730653%2C%20126.9274398%5D%2C%20%5B37.4805367%2C%20126.9274398%5D%2C%20%5B37.4880081%2C%20126.9274398%5D%2C%20%5B37.4954795%2C%20126.9274398%5D%2C%20%5B37.5029509%2C%20126.9274398%5D%2C%20%5B37.5104223%2C%20126.9274398%5D%2C%20%5B37.5178937%2C%20126.9274398%5D%2C%20%5B37.5253651%2C%20126.9274398%5D%2C%20%5B37.5328365%2C%20126.9274398%5D%2C%20%5B37.5403079%2C%20126.9274398%5D%2C%20%5B37.5477793%2C%20126.9274398%5D%2C%20%5B37.5552507%2C%20126.9274398%5D%2C%20%5B37.5627221%2C%20126.9274398%5D%2C%20%5B37.5701935%2C%20126.9274398%5D%2C%20%5B37.5776649%2C%20126.9274398%5D%2C%20%5B37.5851363%2C%20126.9274398%5D%2C%20%5B37.5926077%2C%20126.9274398%5D%2C%20%5B37.6000791%2C%20126.9274398%5D%2C%20%5B37.6075505%2C%20126.9274398%5D%2C%20%5B37.6150219%2C%20126.9274398%5D%2C%20%5B37.6224933%2C%20126.9274398%5D%2C%20%5B37.6299647%2C%20126.9274398%5D%2C%20%5B37.6374361%2C%20126.9274398%5D%2C%20%5B37.6449075%2C%20126.9274398%5D%2C%20%5B37.4506511%2C%20126.9319364%5D%2C%20%5B37.4581225%2C%20126.9319364%5D%2C%20%5B37.4655939%2C%20126.9319364%5D%2C%20%5B37.4730653%2C%20126.9319364%5D%2C%20%5B37.4805367%2C%20126.9319364%5D%2C%20%5B37.4880081%2C%20126.9319364%5D%2C%20%5B37.4954795%2C%20126.9319364%5D%2C%20%5B37.5029509%2C%20126.9319364%5D%2C%20%5B37.5104223%2C%20126.9319364%5D%2C%20%5B37.5178937%2C%20126.9319364%5D%2C%20%5B37.5253651%2C%20126.9319364%5D%2C%20%5B37.5328365%2C%20126.9319364%5D%2C%20%5B37.5403079%2C%20126.9319364%5D%2C%20%5B37.5477793%2C%20126.9319364%5D%2C%20%5B37.5552507%2C%20126.9319364%5D%2C%20%5B37.5627221%2C%20126.9319364%5D%2C%20%5B37.5701935%2C%20126.9319364%5D%2C%20%5B37.5776649%2C%20126.9319364%5D%2C%20%5B37.5851363%2C%20126.9319364%5D%2C%20%5B37.5926077%2C%20126.9319364%5D%2C%20%5B37.6000791%2C%20126.9319364%5D%2C%20%5B37.6075505%2C%20126.9319364%5D%2C%20%5B37.6150219%2C%20126.9319364%5D%2C%20%5B37.6224933%2C%20126.9319364%5D%2C%20%5B37.6299647%2C%20126.9319364%5D%2C%20%5B37.6374361%2C%20126.9319364%5D%2C%20%5B37.6449075%2C%20126.9319364%5D%2C%20%5B37.4431797%2C%20126.936433%5D%2C%20%5B37.4506511%2C%20126.936433%5D%2C%20%5B37.4581225%2C%20126.936433%5D%2C%20%5B37.4655939%2C%20126.936433%5D%2C%20%5B37.4730653%2C%20126.936433%5D%2C%20%5B37.4805367%2C%20126.936433%5D%2C%20%5B37.4880081%2C%20126.936433%5D%2C%20%5B37.4954795%2C%20126.936433%5D%2C%20%5B37.5029509%2C%20126.936433%5D%2C%20%5B37.5104223%2C%20126.936433%5D%2C%20%5B37.5178937%2C%20126.936433%5D%2C%20%5B37.5253651%2C%20126.936433%5D%2C%20%5B37.5328365%2C%20126.936433%5D%2C%20%5B37.5403079%2C%20126.936433%5D%2C%20%5B37.5477793%2C%20126.936433%5D%2C%20%5B37.5552507%2C%20126.936433%5D%2C%20%5B37.5627221%2C%20126.936433%5D%2C%20%5B37.5701935%2C%20126.936433%5D%2C%20%5B37.5776649%2C%20126.936433%5D%2C%20%5B37.5851363%2C%20126.936433%5D%2C%20%5B37.5926077%2C%20126.936433%5D%2C%20%5B37.6000791%2C%20126.936433%5D%2C%20%5B37.6075505%2C%20126.936433%5D%2C%20%5B37.6150219%2C%20126.936433%5D%2C%20%5B37.6224933%2C%20126.936433%5D%2C%20%5B37.6299647%2C%20126.936433%5D%2C%20%5B37.6374361%2C%20126.936433%5D%2C%20%5B37.6449075%2C%20126.936433%5D%2C%20%5B37.4431797%2C%20126.9409296%5D%2C%20%5B37.4506511%2C%20126.9409296%5D%2C%20%5B37.4581225%2C%20126.9409296%5D%2C%20%5B37.4655939%2C%20126.9409296%5D%2C%20%5B37.4730653%2C%20126.9409296%5D%2C%20%5B37.4805367%2C%20126.9409296%5D%2C%20%5B37.4880081%2C%20126.9409296%5D%2C%20%5B37.4954795%2C%20126.9409296%5D%2C%20%5B37.5029509%2C%20126.9409296%5D%2C%20%5B37.5104223%2C%20126.9409296%5D%2C%20%5B37.5178937%2C%20126.9409296%5D%2C%20%5B37.5253651%2C%20126.9409296%5D%2C%20%5B37.5328365%2C%20126.9409296%5D%2C%20%5B37.5403079%2C%20126.9409296%5D%2C%20%5B37.5477793%2C%20126.9409296%5D%2C%20%5B37.5552507%2C%20126.9409296%5D%2C%20%5B37.5627221%2C%20126.9409296%5D%2C%20%5B37.5701935%2C%20126.9409296%5D%2C%20%5B37.5776649%2C%20126.9409296%5D%2C%20%5B37.5851363%2C%20126.9409296%5D%2C%20%5B37.5926077%2C%20126.9409296%5D%2C%20%5B37.6000791%2C%20126.9409296%5D%2C%20%5B37.6075505%2C%20126.9409296%5D%2C%20%5B37.6150219%2C%20126.9409296%5D%2C%20%5B37.6224933%2C%20126.9409296%5D%2C%20%5B37.6299647%2C%20126.9409296%5D%2C%20%5B37.6374361%2C%20126.9409296%5D%2C%20%5B37.6449075%2C%20126.9409296%5D%2C%20%5B37.6523789%2C%20126.9409296%5D%2C%20%5B37.4431797%2C%20126.9454262%5D%2C%20%5B37.4506511%2C%20126.9454262%5D%2C%20%5B37.4581225%2C%20126.9454262%5D%2C%20%5B37.4655939%2C%20126.9454262%5D%2C%20%5B37.4730653%2C%20126.9454262%5D%2C%20%5B37.4805367%2C%20126.9454262%5D%2C%20%5B37.4880081%2C%20126.9454262%5D%2C%20%5B37.4954795%2C%20126.9454262%5D%2C%20%5B37.5029509%2C%20126.9454262%5D%2C%20%5B37.5104223%2C%20126.9454262%5D%2C%20%5B37.5178937%2C%20126.9454262%5D%2C%20%5B37.5253651%2C%20126.9454262%5D%2C%20%5B37.5328365%2C%20126.9454262%5D%2C%20%5B37.5403079%2C%20126.9454262%5D%2C%20%5B37.5477793%2C%20126.9454262%5D%2C%20%5B37.5552507%2C%20126.9454262%5D%2C%20%5B37.5627221%2C%20126.9454262%5D%2C%20%5B37.5701935%2C%20126.9454262%5D%2C%20%5B37.5776649%2C%20126.9454262%5D%2C%20%5B37.5851363%2C%20126.9454262%5D%2C%20%5B37.5926077%2C%20126.9454262%5D%2C%20%5B37.6000791%2C%20126.9454262%5D%2C%20%5B37.6075505%2C%20126.9454262%5D%2C%20%5B37.6150219%2C%20126.9454262%5D%2C%20%5B37.6224933%2C%20126.9454262%5D%2C%20%5B37.6299647%2C%20126.9454262%5D%2C%20%5B37.6374361%2C%20126.9454262%5D%2C%20%5B37.6449075%2C%20126.9454262%5D%2C%20%5B37.6523789%2C%20126.9454262%5D%2C%20%5B37.4431797%2C%20126.9499228%5D%2C%20%5B37.4506511%2C%20126.9499228%5D%2C%20%5B37.4581225%2C%20126.9499228%5D%2C%20%5B37.4655939%2C%20126.9499228%5D%2C%20%5B37.4730653%2C%20126.9499228%5D%2C%20%5B37.4805367%2C%20126.9499228%5D%2C%20%5B37.4880081%2C%20126.9499228%5D%2C%20%5B37.4954795%2C%20126.9499228%5D%2C%20%5B37.5029509%2C%20126.9499228%5D%2C%20%5B37.5104223%2C%20126.9499228%5D%2C%20%5B37.5178937%2C%20126.9499228%5D%2C%20%5B37.5253651%2C%20126.9499228%5D%2C%20%5B37.5328365%2C%20126.9499228%5D%2C%20%5B37.5403079%2C%20126.9499228%5D%2C%20%5B37.5477793%2C%20126.9499228%5D%2C%20%5B37.5552507%2C%20126.9499228%5D%2C%20%5B37.5627221%2C%20126.9499228%5D%2C%20%5B37.5701935%2C%20126.9499228%5D%2C%20%5B37.5776649%2C%20126.9499228%5D%2C%20%5B37.5851363%2C%20126.9499228%5D%2C%20%5B37.5926077%2C%20126.9499228%5D%2C%20%5B37.6000791%2C%20126.9499228%5D%2C%20%5B37.6075505%2C%20126.9499228%5D%2C%20%5B37.6150219%2C%20126.9499228%5D%2C%20%5B37.6224933%2C%20126.9499228%5D%2C%20%5B37.6299647%2C%20126.9499228%5D%2C%20%5B37.6374361%2C%20126.9499228%5D%2C%20%5B37.6449075%2C%20126.9499228%5D%2C%20%5B37.6523789%2C%20126.9499228%5D%2C%20%5B37.4431797%2C%20126.9544194%5D%2C%20%5B37.4506511%2C%20126.9544194%5D%2C%20%5B37.4581225%2C%20126.9544194%5D%2C%20%5B37.4655939%2C%20126.9544194%5D%2C%20%5B37.4730653%2C%20126.9544194%5D%2C%20%5B37.4805367%2C%20126.9544194%5D%2C%20%5B37.4880081%2C%20126.9544194%5D%2C%20%5B37.4954795%2C%20126.9544194%5D%2C%20%5B37.5029509%2C%20126.9544194%5D%2C%20%5B37.5104223%2C%20126.9544194%5D%2C%20%5B37.5178937%2C%20126.9544194%5D%2C%20%5B37.5253651%2C%20126.9544194%5D%2C%20%5B37.5328365%2C%20126.9544194%5D%2C%20%5B37.5403079%2C%20126.9544194%5D%2C%20%5B37.5477793%2C%20126.9544194%5D%2C%20%5B37.5552507%2C%20126.9544194%5D%2C%20%5B37.5627221%2C%20126.9544194%5D%2C%20%5B37.5701935%2C%20126.9544194%5D%2C%20%5B37.5776649%2C%20126.9544194%5D%2C%20%5B37.5851363%2C%20126.9544194%5D%2C%20%5B37.5926077%2C%20126.9544194%5D%2C%20%5B37.6000791%2C%20126.9544194%5D%2C%20%5B37.6075505%2C%20126.9544194%5D%2C%20%5B37.6150219%2C%20126.9544194%5D%2C%20%5B37.6224933%2C%20126.9544194%5D%2C%20%5B37.6299647%2C%20126.9544194%5D%2C%20%5B37.6374361%2C%20126.9544194%5D%2C%20%5B37.6449075%2C%20126.9544194%5D%2C%20%5B37.6523789%2C%20126.9544194%5D%2C%20%5B37.4431797%2C%20126.958916%5D%2C%20%5B37.4506511%2C%20126.958916%5D%2C%20%5B37.4581225%2C%20126.958916%5D%2C%20%5B37.4655939%2C%20126.958916%5D%2C%20%5B37.4730653%2C%20126.958916%5D%2C%20%5B37.4805367%2C%20126.958916%5D%2C%20%5B37.4880081%2C%20126.958916%5D%2C%20%5B37.4954795%2C%20126.958916%5D%2C%20%5B37.5029509%2C%20126.958916%5D%2C%20%5B37.5104223%2C%20126.958916%5D%2C%20%5B37.5178937%2C%20126.958916%5D%2C%20%5B37.5253651%2C%20126.958916%5D%2C%20%5B37.5328365%2C%20126.958916%5D%2C%20%5B37.5403079%2C%20126.958916%5D%2C%20%5B37.5477793%2C%20126.958916%5D%2C%20%5B37.5552507%2C%20126.958916%5D%2C%20%5B37.5627221%2C%20126.958916%5D%2C%20%5B37.5701935%2C%20126.958916%5D%2C%20%5B37.5776649%2C%20126.958916%5D%2C%20%5B37.5851363%2C%20126.958916%5D%2C%20%5B37.5926077%2C%20126.958916%5D%2C%20%5B37.6000791%2C%20126.958916%5D%2C%20%5B37.6075505%2C%20126.958916%5D%2C%20%5B37.6150219%2C%20126.958916%5D%2C%20%5B37.6224933%2C%20126.958916%5D%2C%20%5B37.6299647%2C%20126.958916%5D%2C%20%5B37.6374361%2C%20126.958916%5D%2C%20%5B37.6449075%2C%20126.958916%5D%2C%20%5B37.4431797%2C%20126.9634126%5D%2C%20%5B37.4506511%2C%20126.9634126%5D%2C%20%5B37.4581225%2C%20126.9634126%5D%2C%20%5B37.4655939%2C%20126.9634126%5D%2C%20%5B37.4730653%2C%20126.9634126%5D%2C%20%5B37.4805367%2C%20126.9634126%5D%2C%20%5B37.4880081%2C%20126.9634126%5D%2C%20%5B37.4954795%2C%20126.9634126%5D%2C%20%5B37.5029509%2C%20126.9634126%5D%2C%20%5B37.5104223%2C%20126.9634126%5D%2C%20%5B37.5178937%2C%20126.9634126%5D%2C%20%5B37.5253651%2C%20126.9634126%5D%2C%20%5B37.5328365%2C%20126.9634126%5D%2C%20%5B37.5403079%2C%20126.9634126%5D%2C%20%5B37.5477793%2C%20126.9634126%5D%2C%20%5B37.5552507%2C%20126.9634126%5D%2C%20%5B37.5627221%2C%20126.9634126%5D%2C%20%5B37.5701935%2C%20126.9634126%5D%2C%20%5B37.5776649%2C%20126.9634126%5D%2C%20%5B37.5851363%2C%20126.9634126%5D%2C%20%5B37.5926077%2C%20126.9634126%5D%2C%20%5B37.6000791%2C%20126.9634126%5D%2C%20%5B37.6075505%2C%20126.9634126%5D%2C%20%5B37.6150219%2C%20126.9634126%5D%2C%20%5B37.6224933%2C%20126.9634126%5D%2C%20%5B37.4506511%2C%20126.9679092%5D%2C%20%5B37.4581225%2C%20126.9679092%5D%2C%20%5B37.4655939%2C%20126.9679092%5D%2C%20%5B37.4730653%2C%20126.9679092%5D%2C%20%5B37.4805367%2C%20126.9679092%5D%2C%20%5B37.4880081%2C%20126.9679092%5D%2C%20%5B37.4954795%2C%20126.9679092%5D%2C%20%5B37.5029509%2C%20126.9679092%5D%2C%20%5B37.5104223%2C%20126.9679092%5D%2C%20%5B37.5178937%2C%20126.9679092%5D%2C%20%5B37.5253651%2C%20126.9679092%5D%2C%20%5B37.5328365%2C%20126.9679092%5D%2C%20%5B37.5403079%2C%20126.9679092%5D%2C%20%5B37.5477793%2C%20126.9679092%5D%2C%20%5B37.5552507%2C%20126.9679092%5D%2C%20%5B37.5627221%2C%20126.9679092%5D%2C%20%5B37.5701935%2C%20126.9679092%5D%2C%20%5B37.5776649%2C%20126.9679092%5D%2C%20%5B37.5851363%2C%20126.9679092%5D%2C%20%5B37.5926077%2C%20126.9679092%5D%2C%20%5B37.6000791%2C%20126.9679092%5D%2C%20%5B37.6075505%2C%20126.9679092%5D%2C%20%5B37.6150219%2C%20126.9679092%5D%2C%20%5B37.6224933%2C%20126.9679092%5D%2C%20%5B37.6299647%2C%20126.9679092%5D%2C%20%5B37.4581225%2C%20126.9724058%5D%2C%20%5B37.4655939%2C%20126.9724058%5D%2C%20%5B37.4730653%2C%20126.9724058%5D%2C%20%5B37.4805367%2C%20126.9724058%5D%2C%20%5B37.4880081%2C%20126.9724058%5D%2C%20%5B37.4954795%2C%20126.9724058%5D%2C%20%5B37.5029509%2C%20126.9724058%5D%2C%20%5B37.5104223%2C%20126.9724058%5D%2C%20%5B37.5178937%2C%20126.9724058%5D%2C%20%5B37.5253651%2C%20126.9724058%5D%2C%20%5B37.5328365%2C%20126.9724058%5D%2C%20%5B37.5403079%2C%20126.9724058%5D%2C%20%5B37.5477793%2C%20126.9724058%5D%2C%20%5B37.5552507%2C%20126.9724058%5D%2C%20%5B37.5627221%2C%20126.9724058%5D%2C%20%5B37.5701935%2C%20126.9724058%5D%2C%20%5B37.5776649%2C%20126.9724058%5D%2C%20%5B37.5851363%2C%20126.9724058%5D%2C%20%5B37.5926077%2C%20126.9724058%5D%2C%20%5B37.6000791%2C%20126.9724058%5D%2C%20%5B37.6075505%2C%20126.9724058%5D%2C%20%5B37.6150219%2C%20126.9724058%5D%2C%20%5B37.6224933%2C%20126.9724058%5D%2C%20%5B37.6299647%2C%20126.9724058%5D%2C%20%5B37.4581225%2C%20126.9769024%5D%2C%20%5B37.4655939%2C%20126.9769024%5D%2C%20%5B37.4730653%2C%20126.9769024%5D%2C%20%5B37.4805367%2C%20126.9769024%5D%2C%20%5B37.4880081%2C%20126.9769024%5D%2C%20%5B37.4954795%2C%20126.9769024%5D%2C%20%5B37.5029509%2C%20126.9769024%5D%2C%20%5B37.5104223%2C%20126.9769024%5D%2C%20%5B37.5178937%2C%20126.9769024%5D%2C%20%5B37.5253651%2C%20126.9769024%5D%2C%20%5B37.5328365%2C%20126.9769024%5D%2C%20%5B37.5403079%2C%20126.9769024%5D%2C%20%5B37.5477793%2C%20126.9769024%5D%2C%20%5B37.5552507%2C%20126.9769024%5D%2C%20%5B37.5627221%2C%20126.9769024%5D%2C%20%5B37.5701935%2C%20126.9769024%5D%2C%20%5B37.5776649%2C%20126.9769024%5D%2C%20%5B37.5851363%2C%20126.9769024%5D%2C%20%5B37.5926077%2C%20126.9769024%5D%2C%20%5B37.6000791%2C%20126.9769024%5D%2C%20%5B37.6075505%2C%20126.9769024%5D%2C%20%5B37.6150219%2C%20126.9769024%5D%2C%20%5B37.6224933%2C%20126.9769024%5D%2C%20%5B37.6299647%2C%20126.9769024%5D%2C%20%5B37.4581225%2C%20126.981399%5D%2C%20%5B37.4655939%2C%20126.981399%5D%2C%20%5B37.4730653%2C%20126.981399%5D%2C%20%5B37.4805367%2C%20126.981399%5D%2C%20%5B37.4880081%2C%20126.981399%5D%2C%20%5B37.4954795%2C%20126.981399%5D%2C%20%5B37.5029509%2C%20126.981399%5D%2C%20%5B37.5104223%2C%20126.981399%5D%2C%20%5B37.5178937%2C%20126.981399%5D%2C%20%5B37.5253651%2C%20126.981399%5D%2C%20%5B37.5328365%2C%20126.981399%5D%2C%20%5B37.5403079%2C%20126.981399%5D%2C%20%5B37.5477793%2C%20126.981399%5D%2C%20%5B37.5552507%2C%20126.981399%5D%2C%20%5B37.5627221%2C%20126.981399%5D%2C%20%5B37.5701935%2C%20126.981399%5D%2C%20%5B37.5776649%2C%20126.981399%5D%2C%20%5B37.5851363%2C%20126.981399%5D%2C%20%5B37.5926077%2C%20126.981399%5D%2C%20%5B37.6000791%2C%20126.981399%5D%2C%20%5B37.6075505%2C%20126.981399%5D%2C%20%5B37.6150219%2C%20126.981399%5D%2C%20%5B37.6224933%2C%20126.981399%5D%2C%20%5B37.6299647%2C%20126.981399%5D%2C%20%5B37.4581225%2C%20126.9858956%5D%2C%20%5B37.4655939%2C%20126.9858956%5D%2C%20%5B37.4730653%2C%20126.9858956%5D%2C%20%5B37.4805367%2C%20126.9858956%5D%2C%20%5B37.4880081%2C%20126.9858956%5D%2C%20%5B37.4954795%2C%20126.9858956%5D%2C%20%5B37.5029509%2C%20126.9858956%5D%2C%20%5B37.5104223%2C%20126.9858956%5D%2C%20%5B37.5178937%2C%20126.9858956%5D%2C%20%5B37.5253651%2C%20126.9858956%5D%2C%20%5B37.5328365%2C%20126.9858956%5D%2C%20%5B37.5403079%2C%20126.9858956%5D%2C%20%5B37.5477793%2C%20126.9858956%5D%2C%20%5B37.5552507%2C%20126.9858956%5D%2C%20%5B37.5627221%2C%20126.9858956%5D%2C%20%5B37.5701935%2C%20126.9858956%5D%2C%20%5B37.5776649%2C%20126.9858956%5D%2C%20%5B37.5851363%2C%20126.9858956%5D%2C%20%5B37.5926077%2C%20126.9858956%5D%2C%20%5B37.6000791%2C%20126.9858956%5D%2C%20%5B37.6075505%2C%20126.9858956%5D%2C%20%5B37.6150219%2C%20126.9858956%5D%2C%20%5B37.6224933%2C%20126.9858956%5D%2C%20%5B37.6299647%2C%20126.9858956%5D%2C%20%5B37.6374361%2C%20126.9858956%5D%2C%20%5B37.6449075%2C%20126.9858956%5D%2C%20%5B37.6523789%2C%20126.9858956%5D%2C%20%5B37.4655939%2C%20126.9903922%5D%2C%20%5B37.4730653%2C%20126.9903922%5D%2C%20%5B37.4805367%2C%20126.9903922%5D%2C%20%5B37.4880081%2C%20126.9903922%5D%2C%20%5B37.4954795%2C%20126.9903922%5D%2C%20%5B37.5029509%2C%20126.9903922%5D%2C%20%5B37.5104223%2C%20126.9903922%5D%2C%20%5B37.5178937%2C%20126.9903922%5D%2C%20%5B37.5253651%2C%20126.9903922%5D%2C%20%5B37.5328365%2C%20126.9903922%5D%2C%20%5B37.5403079%2C%20126.9903922%5D%2C%20%5B37.5477793%2C%20126.9903922%5D%2C%20%5B37.5552507%2C%20126.9903922%5D%2C%20%5B37.5627221%2C%20126.9903922%5D%2C%20%5B37.5701935%2C%20126.9903922%5D%2C%20%5B37.5776649%2C%20126.9903922%5D%2C%20%5B37.5851363%2C%20126.9903922%5D%2C%20%5B37.5926077%2C%20126.9903922%5D%2C%20%5B37.6000791%2C%20126.9903922%5D%2C%20%5B37.6075505%2C%20126.9903922%5D%2C%20%5B37.6150219%2C%20126.9903922%5D%2C%20%5B37.6224933%2C%20126.9903922%5D%2C%20%5B37.6299647%2C%20126.9903922%5D%2C%20%5B37.6374361%2C%20126.9903922%5D%2C%20%5B37.6449075%2C%20126.9903922%5D%2C%20%5B37.6523789%2C%20126.9903922%5D%2C%20%5B37.6598503%2C%20126.9903922%5D%2C%20%5B37.4655939%2C%20126.9948888%5D%2C%20%5B37.4730653%2C%20126.9948888%5D%2C%20%5B37.4805367%2C%20126.9948888%5D%2C%20%5B37.4880081%2C%20126.9948888%5D%2C%20%5B37.4954795%2C%20126.9948888%5D%2C%20%5B37.5029509%2C%20126.9948888%5D%2C%20%5B37.5104223%2C%20126.9948888%5D%2C%20%5B37.5178937%2C%20126.9948888%5D%2C%20%5B37.5253651%2C%20126.9948888%5D%2C%20%5B37.5328365%2C%20126.9948888%5D%2C%20%5B37.5403079%2C%20126.9948888%5D%2C%20%5B37.5477793%2C%20126.9948888%5D%2C%20%5B37.5552507%2C%20126.9948888%5D%2C%20%5B37.5627221%2C%20126.9948888%5D%2C%20%5B37.5701935%2C%20126.9948888%5D%2C%20%5B37.5776649%2C%20126.9948888%5D%2C%20%5B37.5851363%2C%20126.9948888%5D%2C%20%5B37.5926077%2C%20126.9948888%5D%2C%20%5B37.6000791%2C%20126.9948888%5D%2C%20%5B37.6075505%2C%20126.9948888%5D%2C%20%5B37.6150219%2C%20126.9948888%5D%2C%20%5B37.6224933%2C%20126.9948888%5D%2C%20%5B37.6299647%2C%20126.9948888%5D%2C%20%5B37.6374361%2C%20126.9948888%5D%2C%20%5B37.6449075%2C%20126.9948888%5D%2C%20%5B37.6523789%2C%20126.9948888%5D%2C%20%5B37.6598503%2C%20126.9948888%5D%2C%20%5B37.6673217%2C%20126.9948888%5D%2C%20%5B37.6747931%2C%20126.9948888%5D%2C%20%5B37.4730653%2C%20126.9993854%5D%2C%20%5B37.4805367%2C%20126.9993854%5D%2C%20%5B37.4880081%2C%20126.9993854%5D%2C%20%5B37.4954795%2C%20126.9993854%5D%2C%20%5B37.5029509%2C%20126.9993854%5D%2C%20%5B37.5104223%2C%20126.9993854%5D%2C%20%5B37.5178937%2C%20126.9993854%5D%2C%20%5B37.5253651%2C%20126.9993854%5D%2C%20%5B37.5328365%2C%20126.9993854%5D%2C%20%5B37.5403079%2C%20126.9993854%5D%2C%20%5B37.5477793%2C%20126.9993854%5D%2C%20%5B37.5552507%2C%20126.9993854%5D%2C%20%5B37.5627221%2C%20126.9993854%5D%2C%20%5B37.5701935%2C%20126.9993854%5D%2C%20%5B37.5776649%2C%20126.9993854%5D%2C%20%5B37.5851363%2C%20126.9993854%5D%2C%20%5B37.5926077%2C%20126.9993854%5D%2C%20%5B37.6000791%2C%20126.9993854%5D%2C%20%5B37.6075505%2C%20126.9993854%5D%2C%20%5B37.6150219%2C%20126.9993854%5D%2C%20%5B37.6224933%2C%20126.9993854%5D%2C%20%5B37.6299647%2C%20126.9993854%5D%2C%20%5B37.6374361%2C%20126.9993854%5D%2C%20%5B37.6449075%2C%20126.9993854%5D%2C%20%5B37.6523789%2C%20126.9993854%5D%2C%20%5B37.6598503%2C%20126.9993854%5D%2C%20%5B37.6673217%2C%20126.9993854%5D%2C%20%5B37.6747931%2C%20126.9993854%5D%2C%20%5B37.6822645%2C%20126.9993854%5D%2C%20%5B37.4730653%2C%20127.003882%5D%2C%20%5B37.4805367%2C%20127.003882%5D%2C%20%5B37.4880081%2C%20127.003882%5D%2C%20%5B37.4954795%2C%20127.003882%5D%2C%20%5B37.5029509%2C%20127.003882%5D%2C%20%5B37.5104223%2C%20127.003882%5D%2C%20%5B37.5178937%2C%20127.003882%5D%2C%20%5B37.5253651%2C%20127.003882%5D%2C%20%5B37.5328365%2C%20127.003882%5D%2C%20%5B37.5403079%2C%20127.003882%5D%2C%20%5B37.5477793%2C%20127.003882%5D%2C%20%5B37.5552507%2C%20127.003882%5D%2C%20%5B37.5627221%2C%20127.003882%5D%2C%20%5B37.5701935%2C%20127.003882%5D%2C%20%5B37.5776649%2C%20127.003882%5D%2C%20%5B37.5851363%2C%20127.003882%5D%2C%20%5B37.5926077%2C%20127.003882%5D%2C%20%5B37.6000791%2C%20127.003882%5D%2C%20%5B37.6075505%2C%20127.003882%5D%2C%20%5B37.6150219%2C%20127.003882%5D%2C%20%5B37.6224933%2C%20127.003882%5D%2C%20%5B37.6299647%2C%20127.003882%5D%2C%20%5B37.6374361%2C%20127.003882%5D%2C%20%5B37.6449075%2C%20127.003882%5D%2C%20%5B37.6523789%2C%20127.003882%5D%2C%20%5B37.6598503%2C%20127.003882%5D%2C%20%5B37.6673217%2C%20127.003882%5D%2C%20%5B37.6747931%2C%20127.003882%5D%2C%20%5B37.6822645%2C%20127.003882%5D%2C%20%5B37.4655939%2C%20127.0083786%5D%2C%20%5B37.4730653%2C%20127.0083786%5D%2C%20%5B37.4805367%2C%20127.0083786%5D%2C%20%5B37.4880081%2C%20127.0083786%5D%2C%20%5B37.4954795%2C%20127.0083786%5D%2C%20%5B37.5029509%2C%20127.0083786%5D%2C%20%5B37.5104223%2C%20127.0083786%5D%2C%20%5B37.5178937%2C%20127.0083786%5D%2C%20%5B37.5253651%2C%20127.0083786%5D%2C%20%5B37.5328365%2C%20127.0083786%5D%2C%20%5B37.5403079%2C%20127.0083786%5D%2C%20%5B37.5477793%2C%20127.0083786%5D%2C%20%5B37.5552507%2C%20127.0083786%5D%2C%20%5B37.5627221%2C%20127.0083786%5D%2C%20%5B37.5701935%2C%20127.0083786%5D%2C%20%5B37.5776649%2C%20127.0083786%5D%2C%20%5B37.5851363%2C%20127.0083786%5D%2C%20%5B37.5926077%2C%20127.0083786%5D%2C%20%5B37.6000791%2C%20127.0083786%5D%2C%20%5B37.6075505%2C%20127.0083786%5D%2C%20%5B37.6150219%2C%20127.0083786%5D%2C%20%5B37.6224933%2C%20127.0083786%5D%2C%20%5B37.6299647%2C%20127.0083786%5D%2C%20%5B37.6374361%2C%20127.0083786%5D%2C%20%5B37.6449075%2C%20127.0083786%5D%2C%20%5B37.6523789%2C%20127.0083786%5D%2C%20%5B37.6598503%2C%20127.0083786%5D%2C%20%5B37.6673217%2C%20127.0083786%5D%2C%20%5B37.6747931%2C%20127.0083786%5D%2C%20%5B37.6822645%2C%20127.0083786%5D%2C%20%5B37.6897359%2C%20127.0083786%5D%2C%20%5B37.4581225%2C%20127.0128752%5D%2C%20%5B37.4655939%2C%20127.0128752%5D%2C%20%5B37.4730653%2C%20127.0128752%5D%2C%20%5B37.4805367%2C%20127.0128752%5D%2C%20%5B37.4880081%2C%20127.0128752%5D%2C%20%5B37.4954795%2C%20127.0128752%5D%2C%20%5B37.5029509%2C%20127.0128752%5D%2C%20%5B37.5104223%2C%20127.0128752%5D%2C%20%5B37.5178937%2C%20127.0128752%5D%2C%20%5B37.5253651%2C%20127.0128752%5D%2C%20%5B37.5328365%2C%20127.0128752%5D%2C%20%5B37.5403079%2C%20127.0128752%5D%2C%20%5B37.5477793%2C%20127.0128752%5D%2C%20%5B37.5552507%2C%20127.0128752%5D%2C%20%5B37.5627221%2C%20127.0128752%5D%2C%20%5B37.5701935%2C%20127.0128752%5D%2C%20%5B37.5776649%2C%20127.0128752%5D%2C%20%5B37.5851363%2C%20127.0128752%5D%2C%20%5B37.5926077%2C%20127.0128752%5D%2C%20%5B37.6000791%2C%20127.0128752%5D%2C%20%5B37.6075505%2C%20127.0128752%5D%2C%20%5B37.6150219%2C%20127.0128752%5D%2C%20%5B37.6224933%2C%20127.0128752%5D%2C%20%5B37.6299647%2C%20127.0128752%5D%2C%20%5B37.6374361%2C%20127.0128752%5D%2C%20%5B37.6449075%2C%20127.0128752%5D%2C%20%5B37.6523789%2C%20127.0128752%5D%2C%20%5B37.6598503%2C%20127.0128752%5D%2C%20%5B37.6673217%2C%20127.0128752%5D%2C%20%5B37.6747931%2C%20127.0128752%5D%2C%20%5B37.6822645%2C%20127.0128752%5D%2C%20%5B37.6897359%2C%20127.0128752%5D%2C%20%5B37.6972073%2C%20127.0128752%5D%2C%20%5B37.4581225%2C%20127.0173718%5D%2C%20%5B37.4655939%2C%20127.0173718%5D%2C%20%5B37.4730653%2C%20127.0173718%5D%2C%20%5B37.4805367%2C%20127.0173718%5D%2C%20%5B37.4880081%2C%20127.0173718%5D%2C%20%5B37.4954795%2C%20127.0173718%5D%2C%20%5B37.5029509%2C%20127.0173718%5D%2C%20%5B37.5104223%2C%20127.0173718%5D%2C%20%5B37.5178937%2C%20127.0173718%5D%2C%20%5B37.5253651%2C%20127.0173718%5D%2C%20%5B37.5328365%2C%20127.0173718%5D%2C%20%5B37.5403079%2C%20127.0173718%5D%2C%20%5B37.5477793%2C%20127.0173718%5D%2C%20%5B37.5552507%2C%20127.0173718%5D%2C%20%5B37.5627221%2C%20127.0173718%5D%2C%20%5B37.5701935%2C%20127.0173718%5D%2C%20%5B37.5776649%2C%20127.0173718%5D%2C%20%5B37.5851363%2C%20127.0173718%5D%2C%20%5B37.5926077%2C%20127.0173718%5D%2C%20%5B37.6000791%2C%20127.0173718%5D%2C%20%5B37.6075505%2C%20127.0173718%5D%2C%20%5B37.6150219%2C%20127.0173718%5D%2C%20%5B37.6224933%2C%20127.0173718%5D%2C%20%5B37.6299647%2C%20127.0173718%5D%2C%20%5B37.6374361%2C%20127.0173718%5D%2C%20%5B37.6449075%2C%20127.0173718%5D%2C%20%5B37.6523789%2C%20127.0173718%5D%2C%20%5B37.6598503%2C%20127.0173718%5D%2C%20%5B37.6673217%2C%20127.0173718%5D%2C%20%5B37.6747931%2C%20127.0173718%5D%2C%20%5B37.6822645%2C%20127.0173718%5D%2C%20%5B37.6897359%2C%20127.0173718%5D%2C%20%5B37.6972073%2C%20127.0173718%5D%2C%20%5B37.4581225%2C%20127.0218684%5D%2C%20%5B37.4655939%2C%20127.0218684%5D%2C%20%5B37.4730653%2C%20127.0218684%5D%2C%20%5B37.4805367%2C%20127.0218684%5D%2C%20%5B37.4880081%2C%20127.0218684%5D%2C%20%5B37.4954795%2C%20127.0218684%5D%2C%20%5B37.5029509%2C%20127.0218684%5D%2C%20%5B37.5104223%2C%20127.0218684%5D%2C%20%5B37.5178937%2C%20127.0218684%5D%2C%20%5B37.5253651%2C%20127.0218684%5D%2C%20%5B37.5328365%2C%20127.0218684%5D%2C%20%5B37.5403079%2C%20127.0218684%5D%2C%20%5B37.5477793%2C%20127.0218684%5D%2C%20%5B37.5552507%2C%20127.0218684%5D%2C%20%5B37.5627221%2C%20127.0218684%5D%2C%20%5B37.5701935%2C%20127.0218684%5D%2C%20%5B37.5776649%2C%20127.0218684%5D%2C%20%5B37.5851363%2C%20127.0218684%5D%2C%20%5B37.5926077%2C%20127.0218684%5D%2C%20%5B37.6000791%2C%20127.0218684%5D%2C%20%5B37.6075505%2C%20127.0218684%5D%2C%20%5B37.6150219%2C%20127.0218684%5D%2C%20%5B37.6224933%2C%20127.0218684%5D%2C%20%5B37.6299647%2C%20127.0218684%5D%2C%20%5B37.6374361%2C%20127.0218684%5D%2C%20%5B37.6449075%2C%20127.0218684%5D%2C%20%5B37.6523789%2C%20127.0218684%5D%2C%20%5B37.6598503%2C%20127.0218684%5D%2C%20%5B37.6673217%2C%20127.0218684%5D%2C%20%5B37.6747931%2C%20127.0218684%5D%2C%20%5B37.6822645%2C%20127.0218684%5D%2C%20%5B37.6897359%2C%20127.0218684%5D%2C%20%5B37.6972073%2C%20127.0218684%5D%2C%20%5B37.4655939%2C%20127.026365%5D%2C%20%5B37.4730653%2C%20127.026365%5D%2C%20%5B37.4805367%2C%20127.026365%5D%2C%20%5B37.4880081%2C%20127.026365%5D%2C%20%5B37.4954795%2C%20127.026365%5D%2C%20%5B37.5029509%2C%20127.026365%5D%2C%20%5B37.5104223%2C%20127.026365%5D%2C%20%5B37.5178937%2C%20127.026365%5D%2C%20%5B37.5253651%2C%20127.026365%5D%2C%20%5B37.5328365%2C%20127.026365%5D%2C%20%5B37.5403079%2C%20127.026365%5D%2C%20%5B37.5477793%2C%20127.026365%5D%2C%20%5B37.5552507%2C%20127.026365%5D%2C%20%5B37.5627221%2C%20127.026365%5D%2C%20%5B37.5701935%2C%20127.026365%5D%2C%20%5B37.5776649%2C%20127.026365%5D%2C%20%5B37.5851363%2C%20127.026365%5D%2C%20%5B37.5926077%2C%20127.026365%5D%2C%20%5B37.6000791%2C%20127.026365%5D%2C%20%5B37.6075505%2C%20127.026365%5D%2C%20%5B37.6150219%2C%20127.026365%5D%2C%20%5B37.6224933%2C%20127.026365%5D%2C%20%5B37.6299647%2C%20127.026365%5D%2C%20%5B37.6374361%2C%20127.026365%5D%2C%20%5B37.6449075%2C%20127.026365%5D%2C%20%5B37.6523789%2C%20127.026365%5D%2C%20%5B37.6598503%2C%20127.026365%5D%2C%20%5B37.6673217%2C%20127.026365%5D%2C%20%5B37.6747931%2C%20127.026365%5D%2C%20%5B37.6822645%2C%20127.026365%5D%2C%20%5B37.6897359%2C%20127.026365%5D%2C%20%5B37.6972073%2C%20127.026365%5D%2C%20%5B37.4655939%2C%20127.0308616%5D%2C%20%5B37.4730653%2C%20127.0308616%5D%2C%20%5B37.4805367%2C%20127.0308616%5D%2C%20%5B37.4880081%2C%20127.0308616%5D%2C%20%5B37.4954795%2C%20127.0308616%5D%2C%20%5B37.5029509%2C%20127.0308616%5D%2C%20%5B37.5104223%2C%20127.0308616%5D%2C%20%5B37.5178937%2C%20127.0308616%5D%2C%20%5B37.5253651%2C%20127.0308616%5D%2C%20%5B37.5328365%2C%20127.0308616%5D%2C%20%5B37.5403079%2C%20127.0308616%5D%2C%20%5B37.5477793%2C%20127.0308616%5D%2C%20%5B37.5552507%2C%20127.0308616%5D%2C%20%5B37.5627221%2C%20127.0308616%5D%2C%20%5B37.5701935%2C%20127.0308616%5D%2C%20%5B37.5776649%2C%20127.0308616%5D%2C%20%5B37.5851363%2C%20127.0308616%5D%2C%20%5B37.5926077%2C%20127.0308616%5D%2C%20%5B37.6000791%2C%20127.0308616%5D%2C%20%5B37.6075505%2C%20127.0308616%5D%2C%20%5B37.6150219%2C%20127.0308616%5D%2C%20%5B37.6224933%2C%20127.0308616%5D%2C%20%5B37.6299647%2C%20127.0308616%5D%2C%20%5B37.6374361%2C%20127.0308616%5D%2C%20%5B37.6449075%2C%20127.0308616%5D%2C%20%5B37.6523789%2C%20127.0308616%5D%2C%20%5B37.6598503%2C%20127.0308616%5D%2C%20%5B37.6673217%2C%20127.0308616%5D%2C%20%5B37.6747931%2C%20127.0308616%5D%2C%20%5B37.6822645%2C%20127.0308616%5D%2C%20%5B37.6897359%2C%20127.0308616%5D%2C%20%5B37.4581225%2C%20127.0353582%5D%2C%20%5B37.4655939%2C%20127.0353582%5D%2C%20%5B37.4730653%2C%20127.0353582%5D%2C%20%5B37.4805367%2C%20127.0353582%5D%2C%20%5B37.4880081%2C%20127.0353582%5D%2C%20%5B37.4954795%2C%20127.0353582%5D%2C%20%5B37.5029509%2C%20127.0353582%5D%2C%20%5B37.5104223%2C%20127.0353582%5D%2C%20%5B37.5178937%2C%20127.0353582%5D%2C%20%5B37.5253651%2C%20127.0353582%5D%2C%20%5B37.5328365%2C%20127.0353582%5D%2C%20%5B37.5403079%2C%20127.0353582%5D%2C%20%5B37.5477793%2C%20127.0353582%5D%2C%20%5B37.5552507%2C%20127.0353582%5D%2C%20%5B37.5627221%2C%20127.0353582%5D%2C%20%5B37.5701935%2C%20127.0353582%5D%2C%20%5B37.5776649%2C%20127.0353582%5D%2C%20%5B37.5851363%2C%20127.0353582%5D%2C%20%5B37.5926077%2C%20127.0353582%5D%2C%20%5B37.6000791%2C%20127.0353582%5D%2C%20%5B37.6075505%2C%20127.0353582%5D%2C%20%5B37.6150219%2C%20127.0353582%5D%2C%20%5B37.6224933%2C%20127.0353582%5D%2C%20%5B37.6299647%2C%20127.0353582%5D%2C%20%5B37.6374361%2C%20127.0353582%5D%2C%20%5B37.6449075%2C%20127.0353582%5D%2C%20%5B37.6523789%2C%20127.0353582%5D%2C%20%5B37.6598503%2C%20127.0353582%5D%2C%20%5B37.6673217%2C%20127.0353582%5D%2C%20%5B37.6747931%2C%20127.0353582%5D%2C%20%5B37.6822645%2C%20127.0353582%5D%2C%20%5B37.6897359%2C%20127.0353582%5D%2C%20%5B37.4431797%2C%20127.0398548%5D%2C%20%5B37.4506511%2C%20127.0398548%5D%2C%20%5B37.4581225%2C%20127.0398548%5D%2C%20%5B37.4655939%2C%20127.0398548%5D%2C%20%5B37.4730653%2C%20127.0398548%5D%2C%20%5B37.4805367%2C%20127.0398548%5D%2C%20%5B37.4880081%2C%20127.0398548%5D%2C%20%5B37.4954795%2C%20127.0398548%5D%2C%20%5B37.5029509%2C%20127.0398548%5D%2C%20%5B37.5104223%2C%20127.0398548%5D%2C%20%5B37.5178937%2C%20127.0398548%5D%2C%20%5B37.5253651%2C%20127.0398548%5D%2C%20%5B37.5328365%2C%20127.0398548%5D%2C%20%5B37.5403079%2C%20127.0398548%5D%2C%20%5B37.5477793%2C%20127.0398548%5D%2C%20%5B37.5552507%2C%20127.0398548%5D%2C%20%5B37.5627221%2C%20127.0398548%5D%2C%20%5B37.5701935%2C%20127.0398548%5D%2C%20%5B37.5776649%2C%20127.0398548%5D%2C%20%5B37.5851363%2C%20127.0398548%5D%2C%20%5B37.5926077%2C%20127.0398548%5D%2C%20%5B37.6000791%2C%20127.0398548%5D%2C%20%5B37.6075505%2C%20127.0398548%5D%2C%20%5B37.6150219%2C%20127.0398548%5D%2C%20%5B37.6224933%2C%20127.0398548%5D%2C%20%5B37.6299647%2C%20127.0398548%5D%2C%20%5B37.6374361%2C%20127.0398548%5D%2C%20%5B37.6449075%2C%20127.0398548%5D%2C%20%5B37.6523789%2C%20127.0398548%5D%2C%20%5B37.6598503%2C%20127.0398548%5D%2C%20%5B37.6673217%2C%20127.0398548%5D%2C%20%5B37.6747931%2C%20127.0398548%5D%2C%20%5B37.6822645%2C%20127.0398548%5D%2C%20%5B37.6897359%2C%20127.0398548%5D%2C%20%5B37.4357083%2C%20127.0443514%5D%2C%20%5B37.4431797%2C%20127.0443514%5D%2C%20%5B37.4506511%2C%20127.0443514%5D%2C%20%5B37.4581225%2C%20127.0443514%5D%2C%20%5B37.4655939%2C%20127.0443514%5D%2C%20%5B37.4730653%2C%20127.0443514%5D%2C%20%5B37.4805367%2C%20127.0443514%5D%2C%20%5B37.4880081%2C%20127.0443514%5D%2C%20%5B37.4954795%2C%20127.0443514%5D%2C%20%5B37.5029509%2C%20127.0443514%5D%2C%20%5B37.5104223%2C%20127.0443514%5D%2C%20%5B37.5178937%2C%20127.0443514%5D%2C%20%5B37.5253651%2C%20127.0443514%5D%2C%20%5B37.5328365%2C%20127.0443514%5D%2C%20%5B37.5403079%2C%20127.0443514%5D%2C%20%5B37.5477793%2C%20127.0443514%5D%2C%20%5B37.5552507%2C%20127.0443514%5D%2C%20%5B37.5627221%2C%20127.0443514%5D%2C%20%5B37.5701935%2C%20127.0443514%5D%2C%20%5B37.5776649%2C%20127.0443514%5D%2C%20%5B37.5851363%2C%20127.0443514%5D%2C%20%5B37.5926077%2C%20127.0443514%5D%2C%20%5B37.6000791%2C%20127.0443514%5D%2C%20%5B37.6075505%2C%20127.0443514%5D%2C%20%5B37.6150219%2C%20127.0443514%5D%2C%20%5B37.6224933%2C%20127.0443514%5D%2C%20%5B37.6299647%2C%20127.0443514%5D%2C%20%5B37.6374361%2C%20127.0443514%5D%2C%20%5B37.6449075%2C%20127.0443514%5D%2C%20%5B37.6523789%2C%20127.0443514%5D%2C%20%5B37.6598503%2C%20127.0443514%5D%2C%20%5B37.6673217%2C%20127.0443514%5D%2C%20%5B37.6747931%2C%20127.0443514%5D%2C%20%5B37.6822645%2C%20127.0443514%5D%2C%20%5B37.6897359%2C%20127.0443514%5D%2C%20%5B37.4357083%2C%20127.048848%5D%2C%20%5B37.4431797%2C%20127.048848%5D%2C%20%5B37.4506511%2C%20127.048848%5D%2C%20%5B37.4581225%2C%20127.048848%5D%2C%20%5B37.4655939%2C%20127.048848%5D%2C%20%5B37.4730653%2C%20127.048848%5D%2C%20%5B37.4805367%2C%20127.048848%5D%2C%20%5B37.4880081%2C%20127.048848%5D%2C%20%5B37.4954795%2C%20127.048848%5D%2C%20%5B37.5029509%2C%20127.048848%5D%2C%20%5B37.5104223%2C%20127.048848%5D%2C%20%5B37.5178937%2C%20127.048848%5D%2C%20%5B37.5253651%2C%20127.048848%5D%2C%20%5B37.5328365%2C%20127.048848%5D%2C%20%5B37.5403079%2C%20127.048848%5D%2C%20%5B37.5477793%2C%20127.048848%5D%2C%20%5B37.5552507%2C%20127.048848%5D%2C%20%5B37.5627221%2C%20127.048848%5D%2C%20%5B37.5701935%2C%20127.048848%5D%2C%20%5B37.5776649%2C%20127.048848%5D%2C%20%5B37.5851363%2C%20127.048848%5D%2C%20%5B37.5926077%2C%20127.048848%5D%2C%20%5B37.6000791%2C%20127.048848%5D%2C%20%5B37.6075505%2C%20127.048848%5D%2C%20%5B37.6150219%2C%20127.048848%5D%2C%20%5B37.6224933%2C%20127.048848%5D%2C%20%5B37.6299647%2C%20127.048848%5D%2C%20%5B37.6374361%2C%20127.048848%5D%2C%20%5B37.6449075%2C%20127.048848%5D%2C%20%5B37.6523789%2C%20127.048848%5D%2C%20%5B37.6598503%2C%20127.048848%5D%2C%20%5B37.6673217%2C%20127.048848%5D%2C%20%5B37.6747931%2C%20127.048848%5D%2C%20%5B37.6822645%2C%20127.048848%5D%2C%20%5B37.6897359%2C%20127.048848%5D%2C%20%5B37.4357083%2C%20127.0533446%5D%2C%20%5B37.4431797%2C%20127.0533446%5D%2C%20%5B37.4506511%2C%20127.0533446%5D%2C%20%5B37.4581225%2C%20127.0533446%5D%2C%20%5B37.4655939%2C%20127.0533446%5D%2C%20%5B37.4730653%2C%20127.0533446%5D%2C%20%5B37.4805367%2C%20127.0533446%5D%2C%20%5B37.4880081%2C%20127.0533446%5D%2C%20%5B37.4954795%2C%20127.0533446%5D%2C%20%5B37.5029509%2C%20127.0533446%5D%2C%20%5B37.5104223%2C%20127.0533446%5D%2C%20%5B37.5178937%2C%20127.0533446%5D%2C%20%5B37.5253651%2C%20127.0533446%5D%2C%20%5B37.5328365%2C%20127.0533446%5D%2C%20%5B37.5403079%2C%20127.0533446%5D%2C%20%5B37.5477793%2C%20127.0533446%5D%2C%20%5B37.5552507%2C%20127.0533446%5D%2C%20%5B37.5627221%2C%20127.0533446%5D%2C%20%5B37.5701935%2C%20127.0533446%5D%2C%20%5B37.5776649%2C%20127.0533446%5D%2C%20%5B37.5851363%2C%20127.0533446%5D%2C%20%5B37.5926077%2C%20127.0533446%5D%2C%20%5B37.6000791%2C%20127.0533446%5D%2C%20%5B37.6075505%2C%20127.0533446%5D%2C%20%5B37.6150219%2C%20127.0533446%5D%2C%20%5B37.6224933%2C%20127.0533446%5D%2C%20%5B37.6299647%2C%20127.0533446%5D%2C%20%5B37.6374361%2C%20127.0533446%5D%2C%20%5B37.6449075%2C%20127.0533446%5D%2C%20%5B37.6523789%2C%20127.0533446%5D%2C%20%5B37.6598503%2C%20127.0533446%5D%2C%20%5B37.6673217%2C%20127.0533446%5D%2C%20%5B37.6747931%2C%20127.0533446%5D%2C%20%5B37.6822645%2C%20127.0533446%5D%2C%20%5B37.4357083%2C%20127.0578412%5D%2C%20%5B37.4431797%2C%20127.0578412%5D%2C%20%5B37.4506511%2C%20127.0578412%5D%2C%20%5B37.4581225%2C%20127.0578412%5D%2C%20%5B37.4655939%2C%20127.0578412%5D%2C%20%5B37.4730653%2C%20127.0578412%5D%2C%20%5B37.4805367%2C%20127.0578412%5D%2C%20%5B37.4880081%2C%20127.0578412%5D%2C%20%5B37.4954795%2C%20127.0578412%5D%2C%20%5B37.5029509%2C%20127.0578412%5D%2C%20%5B37.5104223%2C%20127.0578412%5D%2C%20%5B37.5178937%2C%20127.0578412%5D%2C%20%5B37.5253651%2C%20127.0578412%5D%2C%20%5B37.5328365%2C%20127.0578412%5D%2C%20%5B37.5403079%2C%20127.0578412%5D%2C%20%5B37.5477793%2C%20127.0578412%5D%2C%20%5B37.5552507%2C%20127.0578412%5D%2C%20%5B37.5627221%2C%20127.0578412%5D%2C%20%5B37.5701935%2C%20127.0578412%5D%2C%20%5B37.5776649%2C%20127.0578412%5D%2C%20%5B37.5851363%2C%20127.0578412%5D%2C%20%5B37.5926077%2C%20127.0578412%5D%2C%20%5B37.6000791%2C%20127.0578412%5D%2C%20%5B37.6075505%2C%20127.0578412%5D%2C%20%5B37.6150219%2C%20127.0578412%5D%2C%20%5B37.6224933%2C%20127.0578412%5D%2C%20%5B37.6299647%2C%20127.0578412%5D%2C%20%5B37.6374361%2C%20127.0578412%5D%2C%20%5B37.6449075%2C%20127.0578412%5D%2C%20%5B37.6523789%2C%20127.0578412%5D%2C%20%5B37.6598503%2C%20127.0578412%5D%2C%20%5B37.6673217%2C%20127.0578412%5D%2C%20%5B37.6747931%2C%20127.0578412%5D%2C%20%5B37.6822645%2C%20127.0578412%5D%2C%20%5B37.4357083%2C%20127.0623378%5D%2C%20%5B37.4431797%2C%20127.0623378%5D%2C%20%5B37.4506511%2C%20127.0623378%5D%2C%20%5B37.4581225%2C%20127.0623378%5D%2C%20%5B37.4655939%2C%20127.0623378%5D%2C%20%5B37.4730653%2C%20127.0623378%5D%2C%20%5B37.4805367%2C%20127.0623378%5D%2C%20%5B37.4880081%2C%20127.0623378%5D%2C%20%5B37.4954795%2C%20127.0623378%5D%2C%20%5B37.5029509%2C%20127.0623378%5D%2C%20%5B37.5104223%2C%20127.0623378%5D%2C%20%5B37.5178937%2C%20127.0623378%5D%2C%20%5B37.5253651%2C%20127.0623378%5D%2C%20%5B37.5328365%2C%20127.0623378%5D%2C%20%5B37.5403079%2C%20127.0623378%5D%2C%20%5B37.5477793%2C%20127.0623378%5D%2C%20%5B37.5552507%2C%20127.0623378%5D%2C%20%5B37.5627221%2C%20127.0623378%5D%2C%20%5B37.5701935%2C%20127.0623378%5D%2C%20%5B37.5776649%2C%20127.0623378%5D%2C%20%5B37.5851363%2C%20127.0623378%5D%2C%20%5B37.5926077%2C%20127.0623378%5D%2C%20%5B37.6000791%2C%20127.0623378%5D%2C%20%5B37.6075505%2C%20127.0623378%5D%2C%20%5B37.6150219%2C%20127.0623378%5D%2C%20%5B37.6224933%2C%20127.0623378%5D%2C%20%5B37.6299647%2C%20127.0623378%5D%2C%20%5B37.6374361%2C%20127.0623378%5D%2C%20%5B37.6449075%2C%20127.0623378%5D%2C%20%5B37.6523789%2C%20127.0623378%5D%2C%20%5B37.6598503%2C%20127.0623378%5D%2C%20%5B37.6673217%2C%20127.0623378%5D%2C%20%5B37.6747931%2C%20127.0623378%5D%2C%20%5B37.6822645%2C%20127.0623378%5D%2C%20%5B37.6897359%2C%20127.0623378%5D%2C%20%5B37.4357083%2C%20127.0668344%5D%2C%20%5B37.4431797%2C%20127.0668344%5D%2C%20%5B37.4506511%2C%20127.0668344%5D%2C%20%5B37.4581225%2C%20127.0668344%5D%2C%20%5B37.4655939%2C%20127.0668344%5D%2C%20%5B37.4730653%2C%20127.0668344%5D%2C%20%5B37.4805367%2C%20127.0668344%5D%2C%20%5B37.4880081%2C%20127.0668344%5D%2C%20%5B37.4954795%2C%20127.0668344%5D%2C%20%5B37.5029509%2C%20127.0668344%5D%2C%20%5B37.5104223%2C%20127.0668344%5D%2C%20%5B37.5178937%2C%20127.0668344%5D%2C%20%5B37.5253651%2C%20127.0668344%5D%2C%20%5B37.5328365%2C%20127.0668344%5D%2C%20%5B37.5403079%2C%20127.0668344%5D%2C%20%5B37.5477793%2C%20127.0668344%5D%2C%20%5B37.5552507%2C%20127.0668344%5D%2C%20%5B37.5627221%2C%20127.0668344%5D%2C%20%5B37.5701935%2C%20127.0668344%5D%2C%20%5B37.5776649%2C%20127.0668344%5D%2C%20%5B37.5851363%2C%20127.0668344%5D%2C%20%5B37.5926077%2C%20127.0668344%5D%2C%20%5B37.6000791%2C%20127.0668344%5D%2C%20%5B37.6075505%2C%20127.0668344%5D%2C%20%5B37.6150219%2C%20127.0668344%5D%2C%20%5B37.6224933%2C%20127.0668344%5D%2C%20%5B37.6299647%2C%20127.0668344%5D%2C%20%5B37.6374361%2C%20127.0668344%5D%2C%20%5B37.6449075%2C%20127.0668344%5D%2C%20%5B37.6523789%2C%20127.0668344%5D%2C%20%5B37.6598503%2C%20127.0668344%5D%2C%20%5B37.6673217%2C%20127.0668344%5D%2C%20%5B37.6747931%2C%20127.0668344%5D%2C%20%5B37.6822645%2C%20127.0668344%5D%2C%20%5B37.6897359%2C%20127.0668344%5D%2C%20%5B37.4357083%2C%20127.071331%5D%2C%20%5B37.4431797%2C%20127.071331%5D%2C%20%5B37.4506511%2C%20127.071331%5D%2C%20%5B37.4581225%2C%20127.071331%5D%2C%20%5B37.4655939%2C%20127.071331%5D%2C%20%5B37.4730653%2C%20127.071331%5D%2C%20%5B37.4805367%2C%20127.071331%5D%2C%20%5B37.4880081%2C%20127.071331%5D%2C%20%5B37.4954795%2C%20127.071331%5D%2C%20%5B37.5029509%2C%20127.071331%5D%2C%20%5B37.5104223%2C%20127.071331%5D%2C%20%5B37.5178937%2C%20127.071331%5D%2C%20%5B37.5253651%2C%20127.071331%5D%2C%20%5B37.5328365%2C%20127.071331%5D%2C%20%5B37.5403079%2C%20127.071331%5D%2C%20%5B37.5477793%2C%20127.071331%5D%2C%20%5B37.5552507%2C%20127.071331%5D%2C%20%5B37.5627221%2C%20127.071331%5D%2C%20%5B37.5701935%2C%20127.071331%5D%2C%20%5B37.5776649%2C%20127.071331%5D%2C%20%5B37.5851363%2C%20127.071331%5D%2C%20%5B37.5926077%2C%20127.071331%5D%2C%20%5B37.6000791%2C%20127.071331%5D%2C%20%5B37.6075505%2C%20127.071331%5D%2C%20%5B37.6150219%2C%20127.071331%5D%2C%20%5B37.6224933%2C%20127.071331%5D%2C%20%5B37.6299647%2C%20127.071331%5D%2C%20%5B37.6374361%2C%20127.071331%5D%2C%20%5B37.6449075%2C%20127.071331%5D%2C%20%5B37.6523789%2C%20127.071331%5D%2C%20%5B37.6598503%2C%20127.071331%5D%2C%20%5B37.6673217%2C%20127.071331%5D%2C%20%5B37.6747931%2C%20127.071331%5D%2C%20%5B37.6822645%2C%20127.071331%5D%2C%20%5B37.6897359%2C%20127.071331%5D%2C%20%5B37.4431797%2C%20127.0758276%5D%2C%20%5B37.4506511%2C%20127.0758276%5D%2C%20%5B37.4581225%2C%20127.0758276%5D%2C%20%5B37.4655939%2C%20127.0758276%5D%2C%20%5B37.4730653%2C%20127.0758276%5D%2C%20%5B37.4805367%2C%20127.0758276%5D%2C%20%5B37.4880081%2C%20127.0758276%5D%2C%20%5B37.4954795%2C%20127.0758276%5D%2C%20%5B37.5029509%2C%20127.0758276%5D%2C%20%5B37.5104223%2C%20127.0758276%5D%2C%20%5B37.5178937%2C%20127.0758276%5D%2C%20%5B37.5253651%2C%20127.0758276%5D%2C%20%5B37.5328365%2C%20127.0758276%5D%2C%20%5B37.5403079%2C%20127.0758276%5D%2C%20%5B37.5477793%2C%20127.0758276%5D%2C%20%5B37.5552507%2C%20127.0758276%5D%2C%20%5B37.5627221%2C%20127.0758276%5D%2C%20%5B37.5701935%2C%20127.0758276%5D%2C%20%5B37.5776649%2C%20127.0758276%5D%2C%20%5B37.5851363%2C%20127.0758276%5D%2C%20%5B37.5926077%2C%20127.0758276%5D%2C%20%5B37.6000791%2C%20127.0758276%5D%2C%20%5B37.6075505%2C%20127.0758276%5D%2C%20%5B37.6150219%2C%20127.0758276%5D%2C%20%5B37.6224933%2C%20127.0758276%5D%2C%20%5B37.6299647%2C%20127.0758276%5D%2C%20%5B37.6374361%2C%20127.0758276%5D%2C%20%5B37.6449075%2C%20127.0758276%5D%2C%20%5B37.6523789%2C%20127.0758276%5D%2C%20%5B37.6598503%2C%20127.0758276%5D%2C%20%5B37.6673217%2C%20127.0758276%5D%2C%20%5B37.6747931%2C%20127.0758276%5D%2C%20%5B37.6822645%2C%20127.0758276%5D%2C%20%5B37.6897359%2C%20127.0758276%5D%2C%20%5B37.4431797%2C%20127.0803242%5D%2C%20%5B37.4506511%2C%20127.0803242%5D%2C%20%5B37.4581225%2C%20127.0803242%5D%2C%20%5B37.4655939%2C%20127.0803242%5D%2C%20%5B37.4730653%2C%20127.0803242%5D%2C%20%5B37.4805367%2C%20127.0803242%5D%2C%20%5B37.4880081%2C%20127.0803242%5D%2C%20%5B37.4954795%2C%20127.0803242%5D%2C%20%5B37.5029509%2C%20127.0803242%5D%2C%20%5B37.5104223%2C%20127.0803242%5D%2C%20%5B37.5178937%2C%20127.0803242%5D%2C%20%5B37.5253651%2C%20127.0803242%5D%2C%20%5B37.5328365%2C%20127.0803242%5D%2C%20%5B37.5403079%2C%20127.0803242%5D%2C%20%5B37.5477793%2C%20127.0803242%5D%2C%20%5B37.5552507%2C%20127.0803242%5D%2C%20%5B37.5627221%2C%20127.0803242%5D%2C%20%5B37.5701935%2C%20127.0803242%5D%2C%20%5B37.5776649%2C%20127.0803242%5D%2C%20%5B37.5851363%2C%20127.0803242%5D%2C%20%5B37.5926077%2C%20127.0803242%5D%2C%20%5B37.6000791%2C%20127.0803242%5D%2C%20%5B37.6075505%2C%20127.0803242%5D%2C%20%5B37.6150219%2C%20127.0803242%5D%2C%20%5B37.6224933%2C%20127.0803242%5D%2C%20%5B37.6299647%2C%20127.0803242%5D%2C%20%5B37.6374361%2C%20127.0803242%5D%2C%20%5B37.6449075%2C%20127.0803242%5D%2C%20%5B37.6523789%2C%20127.0803242%5D%2C%20%5B37.6598503%2C%20127.0803242%5D%2C%20%5B37.6673217%2C%20127.0803242%5D%2C%20%5B37.6747931%2C%20127.0803242%5D%2C%20%5B37.6822645%2C%20127.0803242%5D%2C%20%5B37.6897359%2C%20127.0803242%5D%2C%20%5B37.4506511%2C%20127.0848208%5D%2C%20%5B37.4581225%2C%20127.0848208%5D%2C%20%5B37.4655939%2C%20127.0848208%5D%2C%20%5B37.4730653%2C%20127.0848208%5D%2C%20%5B37.4805367%2C%20127.0848208%5D%2C%20%5B37.4880081%2C%20127.0848208%5D%2C%20%5B37.4954795%2C%20127.0848208%5D%2C%20%5B37.5029509%2C%20127.0848208%5D%2C%20%5B37.5104223%2C%20127.0848208%5D%2C%20%5B37.5178937%2C%20127.0848208%5D%2C%20%5B37.5253651%2C%20127.0848208%5D%2C%20%5B37.5328365%2C%20127.0848208%5D%2C%20%5B37.5403079%2C%20127.0848208%5D%2C%20%5B37.5477793%2C%20127.0848208%5D%2C%20%5B37.5552507%2C%20127.0848208%5D%2C%20%5B37.5627221%2C%20127.0848208%5D%2C%20%5B37.5701935%2C%20127.0848208%5D%2C%20%5B37.5776649%2C%20127.0848208%5D%2C%20%5B37.5851363%2C%20127.0848208%5D%2C%20%5B37.5926077%2C%20127.0848208%5D%2C%20%5B37.6000791%2C%20127.0848208%5D%2C%20%5B37.6075505%2C%20127.0848208%5D%2C%20%5B37.6150219%2C%20127.0848208%5D%2C%20%5B37.6224933%2C%20127.0848208%5D%2C%20%5B37.6299647%2C%20127.0848208%5D%2C%20%5B37.6374361%2C%20127.0848208%5D%2C%20%5B37.6449075%2C%20127.0848208%5D%2C%20%5B37.6523789%2C%20127.0848208%5D%2C%20%5B37.6598503%2C%20127.0848208%5D%2C%20%5B37.6673217%2C%20127.0848208%5D%2C%20%5B37.6747931%2C%20127.0848208%5D%2C%20%5B37.6822645%2C%20127.0848208%5D%2C%20%5B37.6897359%2C%20127.0848208%5D%2C%20%5B37.4506511%2C%20127.0893174%5D%2C%20%5B37.4581225%2C%20127.0893174%5D%2C%20%5B37.4655939%2C%20127.0893174%5D%2C%20%5B37.4730653%2C%20127.0893174%5D%2C%20%5B37.4805367%2C%20127.0893174%5D%2C%20%5B37.4880081%2C%20127.0893174%5D%2C%20%5B37.4954795%2C%20127.0893174%5D%2C%20%5B37.5029509%2C%20127.0893174%5D%2C%20%5B37.5104223%2C%20127.0893174%5D%2C%20%5B37.5178937%2C%20127.0893174%5D%2C%20%5B37.5253651%2C%20127.0893174%5D%2C%20%5B37.5328365%2C%20127.0893174%5D%2C%20%5B37.5403079%2C%20127.0893174%5D%2C%20%5B37.5477793%2C%20127.0893174%5D%2C%20%5B37.5552507%2C%20127.0893174%5D%2C%20%5B37.5627221%2C%20127.0893174%5D%2C%20%5B37.5701935%2C%20127.0893174%5D%2C%20%5B37.5776649%2C%20127.0893174%5D%2C%20%5B37.5851363%2C%20127.0893174%5D%2C%20%5B37.5926077%2C%20127.0893174%5D%2C%20%5B37.6000791%2C%20127.0893174%5D%2C%20%5B37.6075505%2C%20127.0893174%5D%2C%20%5B37.6150219%2C%20127.0893174%5D%2C%20%5B37.6224933%2C%20127.0893174%5D%2C%20%5B37.6299647%2C%20127.0893174%5D%2C%20%5B37.6374361%2C%20127.0893174%5D%2C%20%5B37.6449075%2C%20127.0893174%5D%2C%20%5B37.6523789%2C%20127.0893174%5D%2C%20%5B37.6598503%2C%20127.0893174%5D%2C%20%5B37.6673217%2C%20127.0893174%5D%2C%20%5B37.6747931%2C%20127.0893174%5D%2C%20%5B37.6822645%2C%20127.0893174%5D%2C%20%5B37.6897359%2C%20127.0893174%5D%2C%20%5B37.4581225%2C%20127.093814%5D%2C%20%5B37.4655939%2C%20127.093814%5D%2C%20%5B37.4730653%2C%20127.093814%5D%2C%20%5B37.4805367%2C%20127.093814%5D%2C%20%5B37.4880081%2C%20127.093814%5D%2C%20%5B37.4954795%2C%20127.093814%5D%2C%20%5B37.5029509%2C%20127.093814%5D%2C%20%5B37.5104223%2C%20127.093814%5D%2C%20%5B37.5178937%2C%20127.093814%5D%2C%20%5B37.5253651%2C%20127.093814%5D%2C%20%5B37.5328365%2C%20127.093814%5D%2C%20%5B37.5403079%2C%20127.093814%5D%2C%20%5B37.5477793%2C%20127.093814%5D%2C%20%5B37.5552507%2C%20127.093814%5D%2C%20%5B37.5627221%2C%20127.093814%5D%2C%20%5B37.5701935%2C%20127.093814%5D%2C%20%5B37.5776649%2C%20127.093814%5D%2C%20%5B37.5851363%2C%20127.093814%5D%2C%20%5B37.5926077%2C%20127.093814%5D%2C%20%5B37.6000791%2C%20127.093814%5D%2C%20%5B37.6075505%2C%20127.093814%5D%2C%20%5B37.6150219%2C%20127.093814%5D%2C%20%5B37.6224933%2C%20127.093814%5D%2C%20%5B37.6299647%2C%20127.093814%5D%2C%20%5B37.6374361%2C%20127.093814%5D%2C%20%5B37.6449075%2C%20127.093814%5D%2C%20%5B37.6523789%2C%20127.093814%5D%2C%20%5B37.6673217%2C%20127.093814%5D%2C%20%5B37.6747931%2C%20127.093814%5D%2C%20%5B37.4581225%2C%20127.0983106%5D%2C%20%5B37.4655939%2C%20127.0983106%5D%2C%20%5B37.4730653%2C%20127.0983106%5D%2C%20%5B37.4805367%2C%20127.0983106%5D%2C%20%5B37.4880081%2C%20127.0983106%5D%2C%20%5B37.4954795%2C%20127.0983106%5D%2C%20%5B37.5029509%2C%20127.0983106%5D%2C%20%5B37.5104223%2C%20127.0983106%5D%2C%20%5B37.5178937%2C%20127.0983106%5D%2C%20%5B37.5253651%2C%20127.0983106%5D%2C%20%5B37.5328365%2C%20127.0983106%5D%2C%20%5B37.5403079%2C%20127.0983106%5D%2C%20%5B37.5477793%2C%20127.0983106%5D%2C%20%5B37.5552507%2C%20127.0983106%5D%2C%20%5B37.5627221%2C%20127.0983106%5D%2C%20%5B37.5701935%2C%20127.0983106%5D%2C%20%5B37.5776649%2C%20127.0983106%5D%2C%20%5B37.5851363%2C%20127.0983106%5D%2C%20%5B37.5926077%2C%20127.0983106%5D%2C%20%5B37.6000791%2C%20127.0983106%5D%2C%20%5B37.6075505%2C%20127.0983106%5D%2C%20%5B37.6150219%2C%20127.0983106%5D%2C%20%5B37.6224933%2C%20127.0983106%5D%2C%20%5B37.6299647%2C%20127.0983106%5D%2C%20%5B37.6374361%2C%20127.0983106%5D%2C%20%5B37.4655939%2C%20127.1028072%5D%2C%20%5B37.4730653%2C%20127.1028072%5D%2C%20%5B37.4805367%2C%20127.1028072%5D%2C%20%5B37.4880081%2C%20127.1028072%5D%2C%20%5B37.4954795%2C%20127.1028072%5D%2C%20%5B37.5029509%2C%20127.1028072%5D%2C%20%5B37.5104223%2C%20127.1028072%5D%2C%20%5B37.5178937%2C%20127.1028072%5D%2C%20%5B37.5253651%2C%20127.1028072%5D%2C%20%5B37.5328365%2C%20127.1028072%5D%2C%20%5B37.5403079%2C%20127.1028072%5D%2C%20%5B37.5477793%2C%20127.1028072%5D%2C%20%5B37.5552507%2C%20127.1028072%5D%2C%20%5B37.5701935%2C%20127.1028072%5D%2C%20%5B37.5851363%2C%20127.1028072%5D%2C%20%5B37.5926077%2C%20127.1028072%5D%2C%20%5B37.6000791%2C%20127.1028072%5D%2C%20%5B37.6075505%2C%20127.1028072%5D%2C%20%5B37.6150219%2C%20127.1028072%5D%2C%20%5B37.6224933%2C%20127.1028072%5D%2C%20%5B37.6299647%2C%20127.1028072%5D%2C%20%5B37.6374361%2C%20127.1028072%5D%2C%20%5B37.6449075%2C%20127.1028072%5D%2C%20%5B37.4655939%2C%20127.1073038%5D%2C%20%5B37.4730653%2C%20127.1073038%5D%2C%20%5B37.4805367%2C%20127.1073038%5D%2C%20%5B37.4880081%2C%20127.1073038%5D%2C%20%5B37.4954795%2C%20127.1073038%5D%2C%20%5B37.5029509%2C%20127.1073038%5D%2C%20%5B37.5104223%2C%20127.1073038%5D%2C%20%5B37.5178937%2C%20127.1073038%5D%2C%20%5B37.5253651%2C%20127.1073038%5D%2C%20%5B37.5328365%2C%20127.1073038%5D%2C%20%5B37.5403079%2C%20127.1073038%5D%2C%20%5B37.5477793%2C%20127.1073038%5D%2C%20%5B37.5552507%2C%20127.1073038%5D%2C%20%5B37.5851363%2C%20127.1073038%5D%2C%20%5B37.5926077%2C%20127.1073038%5D%2C%20%5B37.6000791%2C%20127.1073038%5D%2C%20%5B37.6075505%2C%20127.1073038%5D%2C%20%5B37.6150219%2C%20127.1073038%5D%2C%20%5B37.6299647%2C%20127.1073038%5D%2C%20%5B37.6374361%2C%20127.1073038%5D%2C%20%5B37.6449075%2C%20127.1073038%5D%2C%20%5B37.4655939%2C%20127.1118004%5D%2C%20%5B37.4730653%2C%20127.1118004%5D%2C%20%5B37.4805367%2C%20127.1118004%5D%2C%20%5B37.4880081%2C%20127.1118004%5D%2C%20%5B37.4954795%2C%20127.1118004%5D%2C%20%5B37.5029509%2C%20127.1118004%5D%2C%20%5B37.5104223%2C%20127.1118004%5D%2C%20%5B37.5178937%2C%20127.1118004%5D%2C%20%5B37.5253651%2C%20127.1118004%5D%2C%20%5B37.5328365%2C%20127.1118004%5D%2C%20%5B37.5403079%2C%20127.1118004%5D%2C%20%5B37.5477793%2C%20127.1118004%5D%2C%20%5B37.5552507%2C%20127.1118004%5D%2C%20%5B37.5926077%2C%20127.1118004%5D%2C%20%5B37.6000791%2C%20127.1118004%5D%2C%20%5B37.6075505%2C%20127.1118004%5D%2C%20%5B37.6150219%2C%20127.1118004%5D%2C%20%5B37.6374361%2C%20127.1118004%5D%2C%20%5B37.4655939%2C%20127.116297%5D%2C%20%5B37.4730653%2C%20127.116297%5D%2C%20%5B37.4805367%2C%20127.116297%5D%2C%20%5B37.4880081%2C%20127.116297%5D%2C%20%5B37.4954795%2C%20127.116297%5D%2C%20%5B37.5029509%2C%20127.116297%5D%2C%20%5B37.5104223%2C%20127.116297%5D%2C%20%5B37.5178937%2C%20127.116297%5D%2C%20%5B37.5253651%2C%20127.116297%5D%2C%20%5B37.5328365%2C%20127.116297%5D%2C%20%5B37.5403079%2C%20127.116297%5D%2C%20%5B37.5477793%2C%20127.116297%5D%2C%20%5B37.5552507%2C%20127.116297%5D%2C%20%5B37.6075505%2C%20127.116297%5D%2C%20%5B37.6150219%2C%20127.116297%5D%2C%20%5B37.4655939%2C%20127.1207936%5D%2C%20%5B37.4730653%2C%20127.1207936%5D%2C%20%5B37.4805367%2C%20127.1207936%5D%2C%20%5B37.4880081%2C%20127.1207936%5D%2C%20%5B37.4954795%2C%20127.1207936%5D%2C%20%5B37.5029509%2C%20127.1207936%5D%2C%20%5B37.5104223%2C%20127.1207936%5D%2C%20%5B37.5178937%2C%20127.1207936%5D%2C%20%5B37.5253651%2C%20127.1207936%5D%2C%20%5B37.5328365%2C%20127.1207936%5D%2C%20%5B37.5403079%2C%20127.1207936%5D%2C%20%5B37.5477793%2C%20127.1207936%5D%2C%20%5B37.5552507%2C%20127.1207936%5D%2C%20%5B37.4730653%2C%20127.1252902%5D%2C%20%5B37.4805367%2C%20127.1252902%5D%2C%20%5B37.4880081%2C%20127.1252902%5D%2C%20%5B37.4954795%2C%20127.1252902%5D%2C%20%5B37.5029509%2C%20127.1252902%5D%2C%20%5B37.5104223%2C%20127.1252902%5D%2C%20%5B37.5178937%2C%20127.1252902%5D%2C%20%5B37.5253651%2C%20127.1252902%5D%2C%20%5B37.5328365%2C%20127.1252902%5D%2C%20%5B37.5403079%2C%20127.1252902%5D%2C%20%5B37.5477793%2C%20127.1252902%5D%2C%20%5B37.5552507%2C%20127.1252902%5D%2C%20%5B37.5627221%2C%20127.1252902%5D%2C%20%5B37.4730653%2C%20127.1297868%5D%2C%20%5B37.4805367%2C%20127.1297868%5D%2C%20%5B37.4880081%2C%20127.1297868%5D%2C%20%5B37.4954795%2C%20127.1297868%5D%2C%20%5B37.5029509%2C%20127.1297868%5D%2C%20%5B37.5104223%2C%20127.1297868%5D%2C%20%5B37.5178937%2C%20127.1297868%5D%2C%20%5B37.5253651%2C%20127.1297868%5D%2C%20%5B37.5328365%2C%20127.1297868%5D%2C%20%5B37.5403079%2C%20127.1297868%5D%2C%20%5B37.5477793%2C%20127.1297868%5D%2C%20%5B37.5552507%2C%20127.1297868%5D%2C%20%5B37.5627221%2C%20127.1297868%5D%2C%20%5B37.4805367%2C%20127.1342834%5D%2C%20%5B37.4880081%2C%20127.1342834%5D%2C%20%5B37.4954795%2C%20127.1342834%5D%2C%20%5B37.5029509%2C%20127.1342834%5D%2C%20%5B37.5104223%2C%20127.1342834%5D%2C%20%5B37.5178937%2C%20127.1342834%5D%2C%20%5B37.5253651%2C%20127.1342834%5D%2C%20%5B37.5328365%2C%20127.1342834%5D%2C%20%5B37.5403079%2C%20127.1342834%5D%2C%20%5B37.5477793%2C%20127.1342834%5D%2C%20%5B37.5552507%2C%20127.1342834%5D%2C%20%5B37.5627221%2C%20127.1342834%5D%2C%20%5B37.4805367%2C%20127.13878%5D%2C%20%5B37.4880081%2C%20127.13878%5D%2C%20%5B37.4954795%2C%20127.13878%5D%2C%20%5B37.5029509%2C%20127.13878%5D%2C%20%5B37.5104223%2C%20127.13878%5D%2C%20%5B37.5178937%2C%20127.13878%5D%2C%20%5B37.5253651%2C%20127.13878%5D%2C%20%5B37.5328365%2C%20127.13878%5D%2C%20%5B37.5403079%2C%20127.13878%5D%2C%20%5B37.5477793%2C%20127.13878%5D%2C%20%5B37.5552507%2C%20127.13878%5D%2C%20%5B37.5627221%2C%20127.13878%5D%2C%20%5B37.4805367%2C%20127.1432766%5D%2C%20%5B37.4880081%2C%20127.1432766%5D%2C%20%5B37.4954795%2C%20127.1432766%5D%2C%20%5B37.5029509%2C%20127.1432766%5D%2C%20%5B37.5178937%2C%20127.1432766%5D%2C%20%5B37.5253651%2C%20127.1432766%5D%2C%20%5B37.5328365%2C%20127.1432766%5D%2C%20%5B37.5403079%2C%20127.1432766%5D%2C%20%5B37.5477793%2C%20127.1432766%5D%2C%20%5B37.5552507%2C%20127.1432766%5D%2C%20%5B37.5627221%2C%20127.1432766%5D%2C%20%5B37.4880081%2C%20127.1477732%5D%2C%20%5B37.4954795%2C%20127.1477732%5D%2C%20%5B37.5029509%2C%20127.1477732%5D%2C%20%5B37.5253651%2C%20127.1477732%5D%2C%20%5B37.5328365%2C%20127.1477732%5D%2C%20%5B37.5403079%2C%20127.1477732%5D%2C%20%5B37.5477793%2C%20127.1477732%5D%2C%20%5B37.5552507%2C%20127.1477732%5D%2C%20%5B37.5627221%2C%20127.1477732%5D%2C%20%5B37.4880081%2C%20127.1522698%5D%2C%20%5B37.4954795%2C%20127.1522698%5D%2C%20%5B37.5029509%2C%20127.1522698%5D%2C%20%5B37.5328365%2C%20127.1522698%5D%2C%20%5B37.5403079%2C%20127.1522698%5D%2C%20%5B37.5477793%2C%20127.1522698%5D%2C%20%5B37.5552507%2C%20127.1522698%5D%2C%20%5B37.5627221%2C%20127.1522698%5D%2C%20%5B37.5701935%2C%20127.1522698%5D%2C%20%5B37.4954795%2C%20127.1567664%5D%2C%20%5B37.5403079%2C%20127.1567664%5D%2C%20%5B37.5477793%2C%20127.1567664%5D%2C%20%5B37.5552507%2C%20127.1567664%5D%2C%20%5B37.5627221%2C%20127.1567664%5D%2C%20%5B37.5701935%2C%20127.1567664%5D%2C%20%5B37.5477793%2C%20127.161263%5D%2C%20%5B37.5552507%2C%20127.161263%5D%2C%20%5B37.5627221%2C%20127.161263%5D%2C%20%5B37.5701935%2C%20127.161263%5D%2C%20%5B37.5477793%2C%20127.1657596%5D%2C%20%5B37.5552507%2C%20127.1657596%5D%2C%20%5B37.5627221%2C%20127.1657596%5D%2C%20%5B37.5701935%2C%20127.1657596%5D%2C%20%5B37.5776649%2C%20127.1657596%5D%2C%20%5B37.5477793%2C%20127.1702562%5D%2C%20%5B37.5552507%2C%20127.1702562%5D%2C%20%5B37.5627221%2C%20127.1702562%5D%2C%20%5B37.5701935%2C%20127.1702562%5D%2C%20%5B37.5776649%2C%20127.1702562%5D%2C%20%5B37.5477793%2C%20127.1747528%5D%2C%20%5B37.5552507%2C%20127.1747528%5D%2C%20%5B37.5627221%2C%20127.1747528%5D%2C%20%5B37.5701935%2C%20127.1747528%5D%2C%20%5B37.5776649%2C%20127.1747528%5D%2C%20%5B37.5477793%2C%20127.1792494%5D%2C%20%5B37.5552507%2C%20127.1792494%5D%2C%20%5B37.5627221%2C%20127.1792494%5D%5D%2C%0A%20%20%20%20%20%20%20%20%20%20%20%20%20%20%20%20%20%20%20%20%7B%0A%20%20%22bubblingMouseEvents%22%3A%20true%2C%0A%20%20%22color%22%3A%20%22%233388ff%22%2C%0A%20%20%22dashArray%22%3A%20null%2C%0A%20%20%22dashOffset%22%3A%20null%2C%0A%20%20%22fill%22%3A%20false%2C%0A%20%20%22fillColor%22%3A%20%22%233388ff%22%2C%0A%20%20%22fillOpacity%22%3A%200.2%2C%0A%20%20%22fillRule%22%3A%20%22evenodd%22%2C%0A%20%20%22lineCap%22%3A%20%22round%22%2C%0A%20%20%22lineJoin%22%3A%20%22round%22%2C%0A%20%20%22noClip%22%3A%20false%2C%0A%20%20%22opacity%22%3A%201.0%2C%0A%20%20%22smoothFactor%22%3A%201.0%2C%0A%20%20%22stroke%22%3A%20true%2C%0A%20%20%22weight%22%3A%203%0A%7D%0A%20%20%20%20%20%20%20%20%20%20%20%20%20%20%20%20%20%20%20%20%29%0A%20%20%20%20%20%20%20%20%20%20%20%20%20%20%20%20%20%20%20%20.addTo%28map_86adf8a4ad4d43d8aa99329ca407226d%29%3B%0A%20%20%20%20%20%20%20%20%20%20%20%20%0A%20%20%20%20%0A%20%20%20%20%20%20%20%20poly_line_fa98bc95e7534c35ac9698a2e06bf7b7.bindTooltip%28%0A%20%20%20%20%20%20%20%20%20%20%20%20%60%3Cdiv%3E%60%0A%20%20%20%20%20%20%20%20%20%20%20%20%2B%20%60PolyLine%60%20%2B%20%60%3C/div%3E%60%2C%0A%20%20%20%20%20%20%20%20%20%20%20%20%7B%22sticky%22%3A%20true%7D%0A%20%20%20%20%20%20%20%20%29%3B%0A%20%20%20%20%20%20%20%20%0A%3C/script%3E onload=\"this.contentDocument.open();this.contentDocument.write(    decodeURIComponent(this.getAttribute('data-html')));this.contentDocument.close();\" allowfullscreen webkitallowfullscreen mozallowfullscreen></iframe></div></div>"
            ],
            "text/plain": [
              "<folium.folium.Map at 0x7f6aaf765dd8>"
            ]
          },
          "metadata": {
            "tags": []
          },
          "execution_count": 132
        }
      ]
    },
    {
      "cell_type": "code",
      "metadata": {
        "id": "-6CpwAFwaNFJ"
      },
      "source": [
        ""
      ],
      "execution_count": null,
      "outputs": []
    }
  ]
}